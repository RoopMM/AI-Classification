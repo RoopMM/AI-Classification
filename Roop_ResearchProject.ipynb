{
  "cells": [
    {
      "cell_type": "markdown",
      "source": [
        "#  <span style=\"color:orange\">Multiclass Classification Tutorial (MCLF101) - Level Beginner</span>"
      ],
      "metadata": {
        "id": "mCOJwSTxfuMP"
      }
    },
    {
      "cell_type": "markdown",
      "source": [
        "# 1.0 Research Project - Roop Malhans\n",
        "# 1.1 Installing PyCaret\n",
        "The first step to get started with PyCaret is to install pycaret. Installation is easy and will only take a few minutes. Follow the instructions below:\n",
        "\n",
        "# Installing PyCaret in Local Jupyter Notebook\n",
        "`pip install pycaret`  <br />\n",
        "\n",
        "# Installing PyCaret on Google Colab or Azure Notebooks\n",
        "`!pip install pycaret`\n",
        "\n",
        "\n",
        "# 1.2 Pre-Requisites\n",
        "- Python 3.6 or greater\n",
        "- PyCaret 2.0 or greater\n",
        "- Internet connection to load data from pycaret's repository\n",
        "- Basic Knowledge of Multiclass Classification\n",
        "\n",
        "# 1.3 For Google colab users:\n",
        "If you are running this notebook on Google colab, run the following code at top of your notebook to display interactive visuals.<br/>\n",
        "<br/>\n",
        "`from pycaret.utils import enable_colab` <br/>\n",
        "`enable_colab()`\n",
        "\n",
        "# 1.4 See also:\n",
        "- __[Binary Classification Tutorial (CLF101) - Level Beginner](https://github.com/pycaret/pycaret/blob/master/tutorials/Binary%20Classification%20Tutorial%20Level%20Beginner%20-%20%20CLF101.ipynb)__\n",
        "- __[Binary Classification Tutorial (CLF102) - Level Intermediate](https://github.com/pycaret/pycaret/blob/master/tutorials/Binary%20Classification%20Tutorial%20Level%20Intermediate%20-%20CLF102.ipynb)__"
      ],
      "metadata": {
        "id": "h0Bb-8rXfuMS"
      }
    },
    {
      "cell_type": "code",
      "execution_count": 1,
      "source": [
        "!pip install --pre pycaret"
      ],
      "outputs": [
        {
          "output_type": "stream",
          "name": "stdout",
          "text": [
            "Looking in indexes: https://pypi.org/simple, https://us-python.pkg.dev/colab-wheels/public/simple/\n",
            "Collecting pycaret\n",
            "  Downloading pycaret-3.0.0rc4-py3-none-any.whl (487 kB)\n",
            "\u001b[K     |████████████████████████████████| 487 kB 6.4 MB/s \n",
            "\u001b[?25hCollecting psutil>=5.9.0\n",
            "  Downloading psutil-5.9.4-cp36-abi3-manylinux_2_12_x86_64.manylinux2010_x86_64.manylinux_2_17_x86_64.manylinux2014_x86_64.whl (280 kB)\n",
            "\u001b[K     |████████████████████████████████| 280 kB 36.4 MB/s \n",
            "\u001b[?25hRequirement already satisfied: tqdm>=4.62.0 in /usr/local/lib/python3.8/dist-packages (from pycaret) (4.64.1)\n",
            "Requirement already satisfied: ipywidgets>=7.6.5 in /usr/local/lib/python3.8/dist-packages (from pycaret) (7.7.1)\n",
            "Collecting pmdarima!=1.8.1,<2.0.0,>=1.8.0\n",
            "  Downloading pmdarima-1.8.5-cp38-cp38-manylinux_2_17_x86_64.manylinux2014_x86_64.manylinux_2_24_x86_64.whl (1.5 MB)\n",
            "\u001b[K     |████████████████████████████████| 1.5 MB 48.4 MB/s \n",
            "\u001b[?25hCollecting plotly-resampler>=0.7.2.2\n",
            "  Downloading plotly_resampler-0.8.3.tar.gz (45 kB)\n",
            "\u001b[K     |████████████████████████████████| 45 kB 887 kB/s \n",
            "\u001b[?25h  Installing build dependencies ... \u001b[?25l\u001b[?25hdone\n",
            "  Getting requirements to build wheel ... \u001b[?25l\u001b[?25hdone\n",
            "    Preparing wheel metadata ... \u001b[?25l\u001b[?25hdone\n",
            "Collecting sktime~=0.13.2\n",
            "  Downloading sktime-0.13.4-py3-none-any.whl (7.0 MB)\n",
            "\u001b[K     |████████████████████████████████| 7.0 MB 47.7 MB/s \n",
            "\u001b[?25hRequirement already satisfied: imbalanced-learn>=0.8.1 in /usr/local/lib/python3.8/dist-packages (from pycaret) (0.8.1)\n",
            "Requirement already satisfied: importlib-metadata>=4.12.0 in /usr/local/lib/python3.8/dist-packages (from pycaret) (4.13.0)\n",
            "Requirement already satisfied: statsmodels>=0.12.1 in /usr/local/lib/python3.8/dist-packages (from pycaret) (0.12.2)\n",
            "Collecting matplotlib>=3.3.0\n",
            "  Downloading matplotlib-3.6.2-cp38-cp38-manylinux_2_12_x86_64.manylinux2010_x86_64.whl (9.4 MB)\n",
            "\u001b[K     |████████████████████████████████| 9.4 MB 40.6 MB/s \n",
            "\u001b[?25hCollecting requests>=2.27.1\n",
            "  Downloading requests-2.28.1-py3-none-any.whl (62 kB)\n",
            "\u001b[K     |████████████████████████████████| 62 kB 1.4 MB/s \n",
            "\u001b[?25hRequirement already satisfied: scikit-learn>=1.0 in /usr/local/lib/python3.8/dist-packages (from pycaret) (1.0.2)\n",
            "Collecting category-encoders>=2.4.0\n",
            "  Downloading category_encoders-2.5.1.post0-py2.py3-none-any.whl (72 kB)\n",
            "\u001b[K     |████████████████████████████████| 72 kB 850 kB/s \n",
            "\u001b[?25hCollecting pyod>=0.9.8\n",
            "  Downloading pyod-1.0.6.tar.gz (141 kB)\n",
            "\u001b[K     |████████████████████████████████| 141 kB 69.7 MB/s \n",
            "\u001b[?25hCollecting tbats>=1.1.0\n",
            "  Downloading tbats-1.1.1-py3-none-any.whl (43 kB)\n",
            "\u001b[K     |████████████████████████████████| 43 kB 676 kB/s \n",
            "\u001b[?25hCollecting lightgbm>=3.0.0\n",
            "  Downloading lightgbm-3.3.3-py3-none-manylinux1_x86_64.whl (2.0 MB)\n",
            "\u001b[K     |████████████████████████████████| 2.0 MB 44.2 MB/s \n",
            "\u001b[?25hRequirement already satisfied: plotly>=5.0.0 in /usr/local/lib/python3.8/dist-packages (from pycaret) (5.5.0)\n",
            "Requirement already satisfied: pandas<1.5.0,>=1.3.0 in /usr/local/lib/python3.8/dist-packages (from pycaret) (1.3.5)\n",
            "Requirement already satisfied: jinja2>=1.2 in /usr/local/lib/python3.8/dist-packages (from pycaret) (2.11.3)\n",
            "Requirement already satisfied: yellowbrick>=1.4 in /usr/local/lib/python3.8/dist-packages (from pycaret) (1.5)\n",
            "Collecting scikit-plot>=0.3.7\n",
            "  Downloading scikit_plot-0.3.7-py3-none-any.whl (33 kB)\n",
            "Requirement already satisfied: numpy<1.23,>=1.21 in /usr/local/lib/python3.8/dist-packages (from pycaret) (1.21.6)\n",
            "Requirement already satisfied: scipy<1.9.0 in /usr/local/lib/python3.8/dist-packages (from pycaret) (1.7.3)\n",
            "Collecting kaleido>=0.2.1\n",
            "  Downloading kaleido-0.2.1-py2.py3-none-manylinux1_x86_64.whl (79.9 MB)\n",
            "\u001b[K     |████████████████████████████████| 79.9 MB 97 kB/s \n",
            "\u001b[?25hCollecting schemdraw>=0.14\n",
            "  Downloading schemdraw-0.15-py3-none-any.whl (106 kB)\n",
            "\u001b[K     |████████████████████████████████| 106 kB 58.6 MB/s \n",
            "\u001b[?25hRequirement already satisfied: joblib>=1.1.0 in /usr/local/lib/python3.8/dist-packages (from pycaret) (1.2.0)\n",
            "Requirement already satisfied: ipython>=5.5.0 in /usr/local/lib/python3.8/dist-packages (from pycaret) (7.9.0)\n",
            "Collecting numba~=0.55.0\n",
            "  Downloading numba-0.55.2-cp38-cp38-manylinux2014_x86_64.manylinux_2_17_x86_64.whl (3.4 MB)\n",
            "\u001b[K     |████████████████████████████████| 3.4 MB 34.8 MB/s \n",
            "\u001b[?25hRequirement already satisfied: markupsafe>=2.0.1 in /usr/local/lib/python3.8/dist-packages (from pycaret) (2.0.1)\n",
            "Requirement already satisfied: patsy>=0.5.1 in /usr/local/lib/python3.8/dist-packages (from category-encoders>=2.4.0->pycaret) (0.5.3)\n",
            "Requirement already satisfied: zipp>=0.5 in /usr/local/lib/python3.8/dist-packages (from importlib-metadata>=4.12.0->pycaret) (3.10.0)\n",
            "Collecting jedi>=0.10\n",
            "  Downloading jedi-0.18.2-py2.py3-none-any.whl (1.6 MB)\n",
            "\u001b[K     |████████████████████████████████| 1.6 MB 61.1 MB/s \n",
            "\u001b[?25hRequirement already satisfied: backcall in /usr/local/lib/python3.8/dist-packages (from ipython>=5.5.0->pycaret) (0.2.0)\n",
            "Requirement already satisfied: decorator in /usr/local/lib/python3.8/dist-packages (from ipython>=5.5.0->pycaret) (4.4.2)\n",
            "Requirement already satisfied: pygments in /usr/local/lib/python3.8/dist-packages (from ipython>=5.5.0->pycaret) (2.6.1)\n",
            "Requirement already satisfied: pexpect in /usr/local/lib/python3.8/dist-packages (from ipython>=5.5.0->pycaret) (4.8.0)\n",
            "Requirement already satisfied: prompt-toolkit<2.1.0,>=2.0.0 in /usr/local/lib/python3.8/dist-packages (from ipython>=5.5.0->pycaret) (2.0.10)\n",
            "Requirement already satisfied: setuptools>=18.5 in /usr/local/lib/python3.8/dist-packages (from ipython>=5.5.0->pycaret) (57.4.0)\n",
            "Requirement already satisfied: traitlets>=4.2 in /usr/local/lib/python3.8/dist-packages (from ipython>=5.5.0->pycaret) (5.1.1)\n",
            "Requirement already satisfied: pickleshare in /usr/local/lib/python3.8/dist-packages (from ipython>=5.5.0->pycaret) (0.7.5)\n",
            "Requirement already satisfied: jupyterlab-widgets>=1.0.0 in /usr/local/lib/python3.8/dist-packages (from ipywidgets>=7.6.5->pycaret) (3.0.3)\n",
            "Requirement already satisfied: widgetsnbextension~=3.6.0 in /usr/local/lib/python3.8/dist-packages (from ipywidgets>=7.6.5->pycaret) (3.6.1)\n",
            "Requirement already satisfied: ipython-genutils~=0.2.0 in /usr/local/lib/python3.8/dist-packages (from ipywidgets>=7.6.5->pycaret) (0.2.0)\n",
            "Requirement already satisfied: ipykernel>=4.5.1 in /usr/local/lib/python3.8/dist-packages (from ipywidgets>=7.6.5->pycaret) (5.3.4)\n",
            "Requirement already satisfied: tornado>=4.2 in /usr/local/lib/python3.8/dist-packages (from ipykernel>=4.5.1->ipywidgets>=7.6.5->pycaret) (6.0.4)\n",
            "Requirement already satisfied: jupyter-client in /usr/local/lib/python3.8/dist-packages (from ipykernel>=4.5.1->ipywidgets>=7.6.5->pycaret) (6.1.12)\n",
            "Requirement already satisfied: parso<0.9.0,>=0.8.0 in /usr/local/lib/python3.8/dist-packages (from jedi>=0.10->ipython>=5.5.0->pycaret) (0.8.3)\n",
            "Requirement already satisfied: wheel in /usr/local/lib/python3.8/dist-packages (from lightgbm>=3.0.0->pycaret) (0.38.4)\n",
            "Requirement already satisfied: pyparsing>=2.2.1 in /usr/local/lib/python3.8/dist-packages (from matplotlib>=3.3.0->pycaret) (3.0.9)\n",
            "Requirement already satisfied: python-dateutil>=2.7 in /usr/local/lib/python3.8/dist-packages (from matplotlib>=3.3.0->pycaret) (2.8.2)\n",
            "Requirement already satisfied: packaging>=20.0 in /usr/local/lib/python3.8/dist-packages (from matplotlib>=3.3.0->pycaret) (21.3)\n",
            "Collecting fonttools>=4.22.0\n",
            "  Downloading fonttools-4.38.0-py3-none-any.whl (965 kB)\n",
            "\u001b[K     |████████████████████████████████| 965 kB 57.1 MB/s \n",
            "\u001b[?25hRequirement already satisfied: cycler>=0.10 in /usr/local/lib/python3.8/dist-packages (from matplotlib>=3.3.0->pycaret) (0.11.0)\n",
            "Requirement already satisfied: pillow>=6.2.0 in /usr/local/lib/python3.8/dist-packages (from matplotlib>=3.3.0->pycaret) (7.1.2)\n",
            "Requirement already satisfied: kiwisolver>=1.0.1 in /usr/local/lib/python3.8/dist-packages (from matplotlib>=3.3.0->pycaret) (1.4.4)\n",
            "Collecting contourpy>=1.0.1\n",
            "  Downloading contourpy-1.0.6-cp38-cp38-manylinux_2_17_x86_64.manylinux2014_x86_64.whl (295 kB)\n",
            "\u001b[K     |████████████████████████████████| 295 kB 59.0 MB/s \n",
            "\u001b[?25hCollecting llvmlite<0.39,>=0.38.0rc1\n",
            "  Downloading llvmlite-0.38.1-cp38-cp38-manylinux_2_17_x86_64.manylinux2014_x86_64.whl (34.5 MB)\n",
            "\u001b[K     |████████████████████████████████| 34.5 MB 1.3 MB/s \n",
            "\u001b[?25hRequirement already satisfied: pytz>=2017.3 in /usr/local/lib/python3.8/dist-packages (from pandas<1.5.0,>=1.3.0->pycaret) (2022.6)\n",
            "Requirement already satisfied: six in /usr/local/lib/python3.8/dist-packages (from patsy>=0.5.1->category-encoders>=2.4.0->pycaret) (1.15.0)\n",
            "Requirement already satisfied: tenacity>=6.2.0 in /usr/local/lib/python3.8/dist-packages (from plotly>=5.0.0->pycaret) (8.1.0)\n",
            "Collecting orjson<4.0.0,>=3.8.0\n",
            "  Downloading orjson-3.8.3-cp38-cp38-manylinux_2_17_x86_64.manylinux2014_x86_64.whl (278 kB)\n",
            "\u001b[K     |████████████████████████████████| 278 kB 54.9 MB/s \n",
            "\u001b[?25hCollecting dash<3.0.0,>=2.2.0\n",
            "  Downloading dash-2.7.0-py3-none-any.whl (9.9 MB)\n",
            "\u001b[K     |████████████████████████████████| 9.9 MB 29.3 MB/s \n",
            "\u001b[?25hCollecting Flask-Cors<4.0.0,>=3.0.10\n",
            "  Downloading Flask_Cors-3.0.10-py2.py3-none-any.whl (14 kB)\n",
            "Collecting trace-updater>=0.0.8\n",
            "  Downloading trace_updater-0.0.9-py3-none-any.whl (185 kB)\n",
            "\u001b[K     |████████████████████████████████| 185 kB 52.9 MB/s \n",
            "\u001b[?25hCollecting jupyter-dash>=0.4.2\n",
            "  Downloading jupyter_dash-0.4.2-py3-none-any.whl (23 kB)\n",
            "Requirement already satisfied: Werkzeug<=2.1.2 in /usr/local/lib/python3.8/dist-packages (from plotly-resampler>=0.7.2.2->pycaret) (1.0.1)\n",
            "Requirement already satisfied: Flask>=1.0.4 in /usr/local/lib/python3.8/dist-packages (from dash<3.0.0,>=2.2.0->plotly-resampler>=0.7.2.2->pycaret) (1.1.4)\n",
            "Collecting dash-table==5.0.0\n",
            "  Downloading dash_table-5.0.0-py3-none-any.whl (3.9 kB)\n",
            "Collecting dash-core-components==2.0.0\n",
            "  Downloading dash_core_components-2.0.0-py3-none-any.whl (3.8 kB)\n",
            "Collecting dash-html-components==2.0.0\n",
            "  Downloading dash_html_components-2.0.0-py3-none-any.whl (4.1 kB)\n",
            "Requirement already satisfied: itsdangerous<2.0,>=0.24 in /usr/local/lib/python3.8/dist-packages (from Flask>=1.0.4->dash<3.0.0,>=2.2.0->plotly-resampler>=0.7.2.2->pycaret) (1.1.0)\n",
            "Requirement already satisfied: click<8.0,>=5.1 in /usr/local/lib/python3.8/dist-packages (from Flask>=1.0.4->dash<3.0.0,>=2.2.0->plotly-resampler>=0.7.2.2->pycaret) (7.1.2)\n",
            "Collecting retrying\n",
            "  Downloading retrying-1.3.4-py3-none-any.whl (11 kB)\n",
            "Collecting nest-asyncio\n",
            "  Downloading nest_asyncio-1.5.6-py3-none-any.whl (5.2 kB)\n",
            "Collecting ansi2html\n",
            "  Downloading ansi2html-1.8.0-py3-none-any.whl (16 kB)\n",
            "Requirement already satisfied: Cython!=0.29.18,>=0.29 in /usr/local/lib/python3.8/dist-packages (from pmdarima!=1.8.1,<2.0.0,>=1.8.0->pycaret) (0.29.32)\n",
            "Requirement already satisfied: urllib3 in /usr/local/lib/python3.8/dist-packages (from pmdarima!=1.8.1,<2.0.0,>=1.8.0->pycaret) (1.24.3)\n",
            "Requirement already satisfied: wcwidth in /usr/local/lib/python3.8/dist-packages (from prompt-toolkit<2.1.0,>=2.0.0->ipython>=5.5.0->pycaret) (0.2.5)\n",
            "Requirement already satisfied: charset-normalizer<3,>=2 in /usr/local/lib/python3.8/dist-packages (from requests>=2.27.1->pycaret) (2.1.1)\n",
            "Requirement already satisfied: idna<4,>=2.5 in /usr/local/lib/python3.8/dist-packages (from requests>=2.27.1->pycaret) (2.10)\n",
            "Requirement already satisfied: certifi>=2017.4.17 in /usr/local/lib/python3.8/dist-packages (from requests>=2.27.1->pycaret) (2022.9.24)\n",
            "Requirement already satisfied: threadpoolctl>=2.0.0 in /usr/local/lib/python3.8/dist-packages (from scikit-learn>=1.0->pycaret) (3.1.0)\n",
            "Collecting deprecated>=1.2.13\n",
            "  Downloading Deprecated-1.2.13-py2.py3-none-any.whl (9.6 kB)\n",
            "Requirement already satisfied: wrapt<2,>=1.10 in /usr/local/lib/python3.8/dist-packages (from deprecated>=1.2.13->sktime~=0.13.2->pycaret) (1.14.1)\n",
            "Requirement already satisfied: notebook>=4.4.1 in /usr/local/lib/python3.8/dist-packages (from widgetsnbextension~=3.6.0->ipywidgets>=7.6.5->pycaret) (5.7.16)\n",
            "Requirement already satisfied: nbconvert<6.0 in /usr/local/lib/python3.8/dist-packages (from notebook>=4.4.1->widgetsnbextension~=3.6.0->ipywidgets>=7.6.5->pycaret) (5.6.1)\n",
            "Requirement already satisfied: pyzmq>=17 in /usr/local/lib/python3.8/dist-packages (from notebook>=4.4.1->widgetsnbextension~=3.6.0->ipywidgets>=7.6.5->pycaret) (23.2.1)\n",
            "Requirement already satisfied: Send2Trash in /usr/local/lib/python3.8/dist-packages (from notebook>=4.4.1->widgetsnbextension~=3.6.0->ipywidgets>=7.6.5->pycaret) (1.8.0)\n",
            "Requirement already satisfied: prometheus-client in /usr/local/lib/python3.8/dist-packages (from notebook>=4.4.1->widgetsnbextension~=3.6.0->ipywidgets>=7.6.5->pycaret) (0.15.0)\n",
            "Requirement already satisfied: nbformat in /usr/local/lib/python3.8/dist-packages (from notebook>=4.4.1->widgetsnbextension~=3.6.0->ipywidgets>=7.6.5->pycaret) (5.7.0)\n",
            "Requirement already satisfied: jupyter-core>=4.4.0 in /usr/local/lib/python3.8/dist-packages (from notebook>=4.4.1->widgetsnbextension~=3.6.0->ipywidgets>=7.6.5->pycaret) (4.11.2)\n",
            "Requirement already satisfied: terminado>=0.8.1 in /usr/local/lib/python3.8/dist-packages (from notebook>=4.4.1->widgetsnbextension~=3.6.0->ipywidgets>=7.6.5->pycaret) (0.13.3)\n",
            "Requirement already satisfied: entrypoints>=0.2.2 in /usr/local/lib/python3.8/dist-packages (from nbconvert<6.0->notebook>=4.4.1->widgetsnbextension~=3.6.0->ipywidgets>=7.6.5->pycaret) (0.4)\n",
            "Requirement already satisfied: testpath in /usr/local/lib/python3.8/dist-packages (from nbconvert<6.0->notebook>=4.4.1->widgetsnbextension~=3.6.0->ipywidgets>=7.6.5->pycaret) (0.6.0)\n",
            "Requirement already satisfied: pandocfilters>=1.4.1 in /usr/local/lib/python3.8/dist-packages (from nbconvert<6.0->notebook>=4.4.1->widgetsnbextension~=3.6.0->ipywidgets>=7.6.5->pycaret) (1.5.0)\n",
            "Requirement already satisfied: mistune<2,>=0.8.1 in /usr/local/lib/python3.8/dist-packages (from nbconvert<6.0->notebook>=4.4.1->widgetsnbextension~=3.6.0->ipywidgets>=7.6.5->pycaret) (0.8.4)\n",
            "Requirement already satisfied: bleach in /usr/local/lib/python3.8/dist-packages (from nbconvert<6.0->notebook>=4.4.1->widgetsnbextension~=3.6.0->ipywidgets>=7.6.5->pycaret) (5.0.1)\n",
            "Requirement already satisfied: defusedxml in /usr/local/lib/python3.8/dist-packages (from nbconvert<6.0->notebook>=4.4.1->widgetsnbextension~=3.6.0->ipywidgets>=7.6.5->pycaret) (0.7.1)\n",
            "Requirement already satisfied: fastjsonschema in /usr/local/lib/python3.8/dist-packages (from nbformat->notebook>=4.4.1->widgetsnbextension~=3.6.0->ipywidgets>=7.6.5->pycaret) (2.16.2)\n",
            "Requirement already satisfied: jsonschema>=2.6 in /usr/local/lib/python3.8/dist-packages (from nbformat->notebook>=4.4.1->widgetsnbextension~=3.6.0->ipywidgets>=7.6.5->pycaret) (4.3.3)\n",
            "Requirement already satisfied: importlib-resources>=1.4.0 in /usr/local/lib/python3.8/dist-packages (from jsonschema>=2.6->nbformat->notebook>=4.4.1->widgetsnbextension~=3.6.0->ipywidgets>=7.6.5->pycaret) (5.10.0)\n",
            "Requirement already satisfied: attrs>=17.4.0 in /usr/local/lib/python3.8/dist-packages (from jsonschema>=2.6->nbformat->notebook>=4.4.1->widgetsnbextension~=3.6.0->ipywidgets>=7.6.5->pycaret) (22.1.0)\n",
            "Requirement already satisfied: pyrsistent!=0.17.0,!=0.17.1,!=0.17.2,>=0.14.0 in /usr/local/lib/python3.8/dist-packages (from jsonschema>=2.6->nbformat->notebook>=4.4.1->widgetsnbextension~=3.6.0->ipywidgets>=7.6.5->pycaret) (0.19.2)\n",
            "Requirement already satisfied: ptyprocess in /usr/local/lib/python3.8/dist-packages (from terminado>=0.8.1->notebook>=4.4.1->widgetsnbextension~=3.6.0->ipywidgets>=7.6.5->pycaret) (0.7.0)\n",
            "Requirement already satisfied: webencodings in /usr/local/lib/python3.8/dist-packages (from bleach->nbconvert<6.0->notebook>=4.4.1->widgetsnbextension~=3.6.0->ipywidgets>=7.6.5->pycaret) (0.5.1)\n",
            "Building wheels for collected packages: plotly-resampler, pyod\n",
            "  Building wheel for plotly-resampler (PEP 517) ... \u001b[?25l\u001b[?25hdone\n",
            "  Created wheel for plotly-resampler: filename=plotly_resampler-0.8.3-cp38-cp38-manylinux_2_27_x86_64.whl size=72448 sha256=5a964625eaf6db60f274fbd3cb6a458f4957eeb9f7ba3ac5fb375d94a98da0f9\n",
            "  Stored in directory: /root/.cache/pip/wheels/8d/ea/9e/3c19ae6213e0cfa2cbf7eb40bdc16bca713ffb69d2422f0c50\n",
            "  Building wheel for pyod (setup.py) ... \u001b[?25l\u001b[?25hdone\n",
            "  Created wheel for pyod: filename=pyod-1.0.6-py3-none-any.whl size=175098 sha256=55f9061f35b52132f7f0ae9bf167741582b9ba7619d7da1e9532e55ce2e13b1c\n",
            "  Stored in directory: /root/.cache/pip/wheels/98/93/e6/6d40410d9635ecde42d06041a1ba7f2ee7396e036fcf702e73\n",
            "Successfully built plotly-resampler pyod\n",
            "Installing collected packages: jedi, dash-table, dash-html-components, dash-core-components, retrying, requests, nest-asyncio, llvmlite, fonttools, dash, contourpy, ansi2html, trace-updater, pmdarima, orjson, numba, matplotlib, jupyter-dash, Flask-Cors, deprecated, tbats, sktime, scikit-plot, schemdraw, pyod, psutil, plotly-resampler, lightgbm, kaleido, category-encoders, pycaret\n",
            "  Attempting uninstall: requests\n",
            "    Found existing installation: requests 2.23.0\n",
            "    Uninstalling requests-2.23.0:\n",
            "      Successfully uninstalled requests-2.23.0\n",
            "  Attempting uninstall: llvmlite\n",
            "    Found existing installation: llvmlite 0.39.1\n",
            "    Uninstalling llvmlite-0.39.1:\n",
            "      Successfully uninstalled llvmlite-0.39.1\n",
            "  Attempting uninstall: numba\n",
            "    Found existing installation: numba 0.56.4\n",
            "    Uninstalling numba-0.56.4:\n",
            "      Successfully uninstalled numba-0.56.4\n",
            "  Attempting uninstall: matplotlib\n",
            "    Found existing installation: matplotlib 3.2.2\n",
            "    Uninstalling matplotlib-3.2.2:\n",
            "      Successfully uninstalled matplotlib-3.2.2\n",
            "  Attempting uninstall: psutil\n",
            "    Found existing installation: psutil 5.4.8\n",
            "    Uninstalling psutil-5.4.8:\n",
            "      Successfully uninstalled psutil-5.4.8\n",
            "  Attempting uninstall: lightgbm\n",
            "    Found existing installation: lightgbm 2.2.3\n",
            "    Uninstalling lightgbm-2.2.3:\n",
            "      Successfully uninstalled lightgbm-2.2.3\n",
            "Successfully installed Flask-Cors-3.0.10 ansi2html-1.8.0 category-encoders-2.5.1.post0 contourpy-1.0.6 dash-2.7.0 dash-core-components-2.0.0 dash-html-components-2.0.0 dash-table-5.0.0 deprecated-1.2.13 fonttools-4.38.0 jedi-0.18.2 jupyter-dash-0.4.2 kaleido-0.2.1 lightgbm-3.3.3 llvmlite-0.38.1 matplotlib-3.6.2 nest-asyncio-1.5.6 numba-0.55.2 orjson-3.8.3 plotly-resampler-0.8.3 pmdarima-1.8.5 psutil-5.9.4 pycaret-3.0.0rc4 pyod-1.0.6 requests-2.28.1 retrying-1.3.4 schemdraw-0.15 scikit-plot-0.3.7 sktime-0.13.4 tbats-1.1.1 trace-updater-0.0.9\n"
          ]
        },
        {
          "output_type": "display_data",
          "data": {
            "application/vnd.colab-display-data+json": {
              "pip_warning": {
                "packages": [
                  "matplotlib",
                  "mpl_toolkits",
                  "psutil"
                ]
              }
            }
          },
          "metadata": {}
        }
      ],
      "metadata": {
        "colab": {
          "base_uri": "https://localhost:8080/",
          "height": 1000
        },
        "id": "QLIixAwNygoz",
        "outputId": "9da4270f-aa2b-4474-f75b-682aba7b1591"
      }
    },
    {
      "cell_type": "markdown",
      "source": [
        "# 2.0 What is Multiclass Classification?\n",
        "Multiclass classification is a supervised machine learning technique where the goal is to classify instances into one of three or more classes. (Classifying instances into one of two classes is called Binary Classification). Multiclass classification should not be confused with multi-label classification, where multiple labels are to be predicted for each instance.\n",
        "\n",
        "__[Learn More about Multiclass Classification](https://towardsdatascience.com/machine-learning-multiclass-classification-with-imbalanced-data-set-29f6a177c1a)__"
      ],
      "metadata": {
        "id": "VDM6TNTrfuMV"
      }
    },
    {
      "cell_type": "markdown",
      "source": [
        "# 3.0 Overview of the Classification Module in PyCaret\n",
        "PyCaret's classification module (`pycaret.classification`) is a supervised machine learning module which is used for classifying the elements into binary or multinomial groups based on various techniques and algorithms. \n",
        "\n",
        "The PyCaret classification module can be used for Binary or Multi-class classification problems. It has over 18 algorithms and 14 plots to analyze the performance of models. Be it hyper-parameter tuning, ensembling or advanced techniques like stacking, PyCaret's classification module has it all."
      ],
      "metadata": {
        "id": "FEybtNqwfuMY"
      }
    },
    {
      "cell_type": "markdown",
      "source": [
        "# 4.0 Dataset for the Tutorial"
      ],
      "metadata": {
        "id": "x2KiOHinfuMa"
      }
    },
    {
      "cell_type": "markdown",
      "source": [
        ":For this project I have used **White Wine dataset**\n",
        "\n"
      ],
      "metadata": {
        "id": "B0re-c4CfuMe"
      }
    },
    {
      "cell_type": "markdown",
      "source": [
        "# 5.0 Getting the Data"
      ],
      "metadata": {
        "id": "e-NQVSpIfuMi"
      }
    },
    {
      "cell_type": "markdown",
      "source": [
        "To download the dataset: https://archive.ics.uci.edu/ml/datasets/Wine+Quality"
      ],
      "metadata": {
        "id": "LGV6PMCtfuMl"
      }
    },
    {
      "cell_type": "code",
      "execution_count": 2,
      "source": [
        "!wget -q https://archive.ics.uci.edu/ml/machine-learning-databases/wine-quality/winequality-white.csv\n"
      ],
      "outputs": [],
      "metadata": {
        "id": "voSkPLGlQAxB"
      }
    },
    {
      "cell_type": "code",
      "execution_count": 4,
      "source": [
        "import pandas as pd\n",
        "df = pd.read_csv('winequality-white.csv', sep = \";\")\n",
        "df"
      ],
      "outputs": [
        {
          "output_type": "execute_result",
          "data": {
            "text/html": [
              "\n",
              "  <div id=\"df-7deb765f-3400-4a64-a002-a18b3a694ccd\">\n",
              "    <div class=\"colab-df-container\">\n",
              "      <div>\n",
              "<style scoped>\n",
              "    .dataframe tbody tr th:only-of-type {\n",
              "        vertical-align: middle;\n",
              "    }\n",
              "\n",
              "    .dataframe tbody tr th {\n",
              "        vertical-align: top;\n",
              "    }\n",
              "\n",
              "    .dataframe thead th {\n",
              "        text-align: right;\n",
              "    }\n",
              "</style>\n",
              "<table border=\"1\" class=\"dataframe\">\n",
              "  <thead>\n",
              "    <tr style=\"text-align: right;\">\n",
              "      <th></th>\n",
              "      <th>fixed acidity</th>\n",
              "      <th>volatile acidity</th>\n",
              "      <th>citric acid</th>\n",
              "      <th>residual sugar</th>\n",
              "      <th>chlorides</th>\n",
              "      <th>free sulfur dioxide</th>\n",
              "      <th>total sulfur dioxide</th>\n",
              "      <th>density</th>\n",
              "      <th>pH</th>\n",
              "      <th>sulphates</th>\n",
              "      <th>alcohol</th>\n",
              "      <th>quality</th>\n",
              "    </tr>\n",
              "  </thead>\n",
              "  <tbody>\n",
              "    <tr>\n",
              "      <th>0</th>\n",
              "      <td>7.0</td>\n",
              "      <td>0.27</td>\n",
              "      <td>0.36</td>\n",
              "      <td>20.7</td>\n",
              "      <td>0.045</td>\n",
              "      <td>45.0</td>\n",
              "      <td>170.0</td>\n",
              "      <td>1.00100</td>\n",
              "      <td>3.00</td>\n",
              "      <td>0.45</td>\n",
              "      <td>8.8</td>\n",
              "      <td>6</td>\n",
              "    </tr>\n",
              "    <tr>\n",
              "      <th>1</th>\n",
              "      <td>6.3</td>\n",
              "      <td>0.30</td>\n",
              "      <td>0.34</td>\n",
              "      <td>1.6</td>\n",
              "      <td>0.049</td>\n",
              "      <td>14.0</td>\n",
              "      <td>132.0</td>\n",
              "      <td>0.99400</td>\n",
              "      <td>3.30</td>\n",
              "      <td>0.49</td>\n",
              "      <td>9.5</td>\n",
              "      <td>6</td>\n",
              "    </tr>\n",
              "    <tr>\n",
              "      <th>2</th>\n",
              "      <td>8.1</td>\n",
              "      <td>0.28</td>\n",
              "      <td>0.40</td>\n",
              "      <td>6.9</td>\n",
              "      <td>0.050</td>\n",
              "      <td>30.0</td>\n",
              "      <td>97.0</td>\n",
              "      <td>0.99510</td>\n",
              "      <td>3.26</td>\n",
              "      <td>0.44</td>\n",
              "      <td>10.1</td>\n",
              "      <td>6</td>\n",
              "    </tr>\n",
              "    <tr>\n",
              "      <th>3</th>\n",
              "      <td>7.2</td>\n",
              "      <td>0.23</td>\n",
              "      <td>0.32</td>\n",
              "      <td>8.5</td>\n",
              "      <td>0.058</td>\n",
              "      <td>47.0</td>\n",
              "      <td>186.0</td>\n",
              "      <td>0.99560</td>\n",
              "      <td>3.19</td>\n",
              "      <td>0.40</td>\n",
              "      <td>9.9</td>\n",
              "      <td>6</td>\n",
              "    </tr>\n",
              "    <tr>\n",
              "      <th>4</th>\n",
              "      <td>7.2</td>\n",
              "      <td>0.23</td>\n",
              "      <td>0.32</td>\n",
              "      <td>8.5</td>\n",
              "      <td>0.058</td>\n",
              "      <td>47.0</td>\n",
              "      <td>186.0</td>\n",
              "      <td>0.99560</td>\n",
              "      <td>3.19</td>\n",
              "      <td>0.40</td>\n",
              "      <td>9.9</td>\n",
              "      <td>6</td>\n",
              "    </tr>\n",
              "    <tr>\n",
              "      <th>...</th>\n",
              "      <td>...</td>\n",
              "      <td>...</td>\n",
              "      <td>...</td>\n",
              "      <td>...</td>\n",
              "      <td>...</td>\n",
              "      <td>...</td>\n",
              "      <td>...</td>\n",
              "      <td>...</td>\n",
              "      <td>...</td>\n",
              "      <td>...</td>\n",
              "      <td>...</td>\n",
              "      <td>...</td>\n",
              "    </tr>\n",
              "    <tr>\n",
              "      <th>4893</th>\n",
              "      <td>6.2</td>\n",
              "      <td>0.21</td>\n",
              "      <td>0.29</td>\n",
              "      <td>1.6</td>\n",
              "      <td>0.039</td>\n",
              "      <td>24.0</td>\n",
              "      <td>92.0</td>\n",
              "      <td>0.99114</td>\n",
              "      <td>3.27</td>\n",
              "      <td>0.50</td>\n",
              "      <td>11.2</td>\n",
              "      <td>6</td>\n",
              "    </tr>\n",
              "    <tr>\n",
              "      <th>4894</th>\n",
              "      <td>6.6</td>\n",
              "      <td>0.32</td>\n",
              "      <td>0.36</td>\n",
              "      <td>8.0</td>\n",
              "      <td>0.047</td>\n",
              "      <td>57.0</td>\n",
              "      <td>168.0</td>\n",
              "      <td>0.99490</td>\n",
              "      <td>3.15</td>\n",
              "      <td>0.46</td>\n",
              "      <td>9.6</td>\n",
              "      <td>5</td>\n",
              "    </tr>\n",
              "    <tr>\n",
              "      <th>4895</th>\n",
              "      <td>6.5</td>\n",
              "      <td>0.24</td>\n",
              "      <td>0.19</td>\n",
              "      <td>1.2</td>\n",
              "      <td>0.041</td>\n",
              "      <td>30.0</td>\n",
              "      <td>111.0</td>\n",
              "      <td>0.99254</td>\n",
              "      <td>2.99</td>\n",
              "      <td>0.46</td>\n",
              "      <td>9.4</td>\n",
              "      <td>6</td>\n",
              "    </tr>\n",
              "    <tr>\n",
              "      <th>4896</th>\n",
              "      <td>5.5</td>\n",
              "      <td>0.29</td>\n",
              "      <td>0.30</td>\n",
              "      <td>1.1</td>\n",
              "      <td>0.022</td>\n",
              "      <td>20.0</td>\n",
              "      <td>110.0</td>\n",
              "      <td>0.98869</td>\n",
              "      <td>3.34</td>\n",
              "      <td>0.38</td>\n",
              "      <td>12.8</td>\n",
              "      <td>7</td>\n",
              "    </tr>\n",
              "    <tr>\n",
              "      <th>4897</th>\n",
              "      <td>6.0</td>\n",
              "      <td>0.21</td>\n",
              "      <td>0.38</td>\n",
              "      <td>0.8</td>\n",
              "      <td>0.020</td>\n",
              "      <td>22.0</td>\n",
              "      <td>98.0</td>\n",
              "      <td>0.98941</td>\n",
              "      <td>3.26</td>\n",
              "      <td>0.32</td>\n",
              "      <td>11.8</td>\n",
              "      <td>6</td>\n",
              "    </tr>\n",
              "  </tbody>\n",
              "</table>\n",
              "<p>4898 rows × 12 columns</p>\n",
              "</div>\n",
              "      <button class=\"colab-df-convert\" onclick=\"convertToInteractive('df-7deb765f-3400-4a64-a002-a18b3a694ccd')\"\n",
              "              title=\"Convert this dataframe to an interactive table.\"\n",
              "              style=\"display:none;\">\n",
              "        \n",
              "  <svg xmlns=\"http://www.w3.org/2000/svg\" height=\"24px\"viewBox=\"0 0 24 24\"\n",
              "       width=\"24px\">\n",
              "    <path d=\"M0 0h24v24H0V0z\" fill=\"none\"/>\n",
              "    <path d=\"M18.56 5.44l.94 2.06.94-2.06 2.06-.94-2.06-.94-.94-2.06-.94 2.06-2.06.94zm-11 1L8.5 8.5l.94-2.06 2.06-.94-2.06-.94L8.5 2.5l-.94 2.06-2.06.94zm10 10l.94 2.06.94-2.06 2.06-.94-2.06-.94-.94-2.06-.94 2.06-2.06.94z\"/><path d=\"M17.41 7.96l-1.37-1.37c-.4-.4-.92-.59-1.43-.59-.52 0-1.04.2-1.43.59L10.3 9.45l-7.72 7.72c-.78.78-.78 2.05 0 2.83L4 21.41c.39.39.9.59 1.41.59.51 0 1.02-.2 1.41-.59l7.78-7.78 2.81-2.81c.8-.78.8-2.07 0-2.86zM5.41 20L4 18.59l7.72-7.72 1.47 1.35L5.41 20z\"/>\n",
              "  </svg>\n",
              "      </button>\n",
              "      \n",
              "  <style>\n",
              "    .colab-df-container {\n",
              "      display:flex;\n",
              "      flex-wrap:wrap;\n",
              "      gap: 12px;\n",
              "    }\n",
              "\n",
              "    .colab-df-convert {\n",
              "      background-color: #E8F0FE;\n",
              "      border: none;\n",
              "      border-radius: 50%;\n",
              "      cursor: pointer;\n",
              "      display: none;\n",
              "      fill: #1967D2;\n",
              "      height: 32px;\n",
              "      padding: 0 0 0 0;\n",
              "      width: 32px;\n",
              "    }\n",
              "\n",
              "    .colab-df-convert:hover {\n",
              "      background-color: #E2EBFA;\n",
              "      box-shadow: 0px 1px 2px rgba(60, 64, 67, 0.3), 0px 1px 3px 1px rgba(60, 64, 67, 0.15);\n",
              "      fill: #174EA6;\n",
              "    }\n",
              "\n",
              "    [theme=dark] .colab-df-convert {\n",
              "      background-color: #3B4455;\n",
              "      fill: #D2E3FC;\n",
              "    }\n",
              "\n",
              "    [theme=dark] .colab-df-convert:hover {\n",
              "      background-color: #434B5C;\n",
              "      box-shadow: 0px 1px 3px 1px rgba(0, 0, 0, 0.15);\n",
              "      filter: drop-shadow(0px 1px 2px rgba(0, 0, 0, 0.3));\n",
              "      fill: #FFFFFF;\n",
              "    }\n",
              "  </style>\n",
              "\n",
              "      <script>\n",
              "        const buttonEl =\n",
              "          document.querySelector('#df-7deb765f-3400-4a64-a002-a18b3a694ccd button.colab-df-convert');\n",
              "        buttonEl.style.display =\n",
              "          google.colab.kernel.accessAllowed ? 'block' : 'none';\n",
              "\n",
              "        async function convertToInteractive(key) {\n",
              "          const element = document.querySelector('#df-7deb765f-3400-4a64-a002-a18b3a694ccd');\n",
              "          const dataTable =\n",
              "            await google.colab.kernel.invokeFunction('convertToInteractive',\n",
              "                                                     [key], {});\n",
              "          if (!dataTable) return;\n",
              "\n",
              "          const docLinkHtml = 'Like what you see? Visit the ' +\n",
              "            '<a target=\"_blank\" href=https://colab.research.google.com/notebooks/data_table.ipynb>data table notebook</a>'\n",
              "            + ' to learn more about interactive tables.';\n",
              "          element.innerHTML = '';\n",
              "          dataTable['output_type'] = 'display_data';\n",
              "          await google.colab.output.renderOutput(dataTable, element);\n",
              "          const docLink = document.createElement('div');\n",
              "          docLink.innerHTML = docLinkHtml;\n",
              "          element.appendChild(docLink);\n",
              "        }\n",
              "      </script>\n",
              "    </div>\n",
              "  </div>\n",
              "  "
            ],
            "text/plain": [
              "      fixed acidity  volatile acidity  citric acid  residual sugar  chlorides  \\\n",
              "0               7.0              0.27         0.36            20.7      0.045   \n",
              "1               6.3              0.30         0.34             1.6      0.049   \n",
              "2               8.1              0.28         0.40             6.9      0.050   \n",
              "3               7.2              0.23         0.32             8.5      0.058   \n",
              "4               7.2              0.23         0.32             8.5      0.058   \n",
              "...             ...               ...          ...             ...        ...   \n",
              "4893            6.2              0.21         0.29             1.6      0.039   \n",
              "4894            6.6              0.32         0.36             8.0      0.047   \n",
              "4895            6.5              0.24         0.19             1.2      0.041   \n",
              "4896            5.5              0.29         0.30             1.1      0.022   \n",
              "4897            6.0              0.21         0.38             0.8      0.020   \n",
              "\n",
              "      free sulfur dioxide  total sulfur dioxide  density    pH  sulphates  \\\n",
              "0                    45.0                 170.0  1.00100  3.00       0.45   \n",
              "1                    14.0                 132.0  0.99400  3.30       0.49   \n",
              "2                    30.0                  97.0  0.99510  3.26       0.44   \n",
              "3                    47.0                 186.0  0.99560  3.19       0.40   \n",
              "4                    47.0                 186.0  0.99560  3.19       0.40   \n",
              "...                   ...                   ...      ...   ...        ...   \n",
              "4893                 24.0                  92.0  0.99114  3.27       0.50   \n",
              "4894                 57.0                 168.0  0.99490  3.15       0.46   \n",
              "4895                 30.0                 111.0  0.99254  2.99       0.46   \n",
              "4896                 20.0                 110.0  0.98869  3.34       0.38   \n",
              "4897                 22.0                  98.0  0.98941  3.26       0.32   \n",
              "\n",
              "      alcohol  quality  \n",
              "0         8.8        6  \n",
              "1         9.5        6  \n",
              "2        10.1        6  \n",
              "3         9.9        6  \n",
              "4         9.9        6  \n",
              "...       ...      ...  \n",
              "4893     11.2        6  \n",
              "4894      9.6        5  \n",
              "4895      9.4        6  \n",
              "4896     12.8        7  \n",
              "4897     11.8        6  \n",
              "\n",
              "[4898 rows x 12 columns]"
            ]
          },
          "metadata": {},
          "execution_count": 4
        }
      ],
      "metadata": {
        "colab": {
          "base_uri": "https://localhost:8080/",
          "height": 485
        },
        "id": "50w6ta_pQbD-",
        "outputId": "7fccb1a4-9a83-4888-b496-2b34cc9e75d9"
      }
    },
    {
      "cell_type": "code",
      "execution_count": 5,
      "source": [
        "#check the shape of data\n",
        "df.shape"
      ],
      "outputs": [
        {
          "output_type": "execute_result",
          "data": {
            "text/plain": [
              "(4898, 12)"
            ]
          },
          "metadata": {},
          "execution_count": 5
        }
      ],
      "metadata": {
        "colab": {
          "base_uri": "https://localhost:8080/"
        },
        "id": "mNFEXhMsfuMs",
        "outputId": "c98c5cce-819d-4ab4-a5e4-1449843123bc"
      }
    },
    {
      "cell_type": "code",
      "execution_count": 6,
      "source": [
        "df.info()"
      ],
      "outputs": [
        {
          "output_type": "stream",
          "name": "stdout",
          "text": [
            "<class 'pandas.core.frame.DataFrame'>\n",
            "RangeIndex: 4898 entries, 0 to 4897\n",
            "Data columns (total 12 columns):\n",
            " #   Column                Non-Null Count  Dtype  \n",
            "---  ------                --------------  -----  \n",
            " 0   fixed acidity         4898 non-null   float64\n",
            " 1   volatile acidity      4898 non-null   float64\n",
            " 2   citric acid           4898 non-null   float64\n",
            " 3   residual sugar        4898 non-null   float64\n",
            " 4   chlorides             4898 non-null   float64\n",
            " 5   free sulfur dioxide   4898 non-null   float64\n",
            " 6   total sulfur dioxide  4898 non-null   float64\n",
            " 7   density               4898 non-null   float64\n",
            " 8   pH                    4898 non-null   float64\n",
            " 9   sulphates             4898 non-null   float64\n",
            " 10  alcohol               4898 non-null   float64\n",
            " 11  quality               4898 non-null   int64  \n",
            "dtypes: float64(11), int64(1)\n",
            "memory usage: 459.3 KB\n"
          ]
        }
      ],
      "metadata": {
        "colab": {
          "base_uri": "https://localhost:8080/"
        },
        "id": "IezHJKQxRywV",
        "outputId": "31006c43-17a1-4f6b-c9f1-ab6fbec035c2"
      }
    },
    {
      "cell_type": "markdown",
      "source": [
        "In order to demonstrate the `predict_model()` function on unseen data, a sample of 15 records has been withheld from the original dataset to be used for predictions. This should not be confused with a train/test split as this particular split is performed to simulate a real life scenario. Another way to think about this is that these 15 records were not available at the time when the machine learning experiment was performed."
      ],
      "metadata": {
        "id": "o4C_ep4RfuMx"
      }
    },
    {
      "cell_type": "code",
      "execution_count": 7,
      "source": [
        "data = df.sample(frac=0.9, random_state=786)\n",
        "data_unseen = df.drop(data.index)\n",
        "\n",
        "data.reset_index(drop=True, inplace=True)\n",
        "data_unseen.reset_index(drop=True, inplace=True)\n",
        "\n",
        "print('Data for Modeling: ' + str(data.shape))\n",
        "print('Unseen Data For Predictions: ' + str(data_unseen.shape))"
      ],
      "outputs": [
        {
          "output_type": "stream",
          "name": "stdout",
          "text": [
            "Data for Modeling: (4408, 12)\n",
            "Unseen Data For Predictions: (490, 12)\n"
          ]
        }
      ],
      "metadata": {
        "colab": {
          "base_uri": "https://localhost:8080/"
        },
        "id": "Ttyujuo7fuMy",
        "outputId": "6350f25d-e143-4b7b-8652-c62039bb061b"
      }
    },
    {
      "cell_type": "markdown",
      "source": [
        "# 6.0 Setting up the Environment in PyCaret"
      ],
      "metadata": {
        "id": "QXG8qOz5fuM3"
      }
    },
    {
      "cell_type": "markdown",
      "source": [
        "The `setup()` function initializes the environment in pycaret and creates the transformation pipeline to prepare the data for modeling and deployment. `setup()` must be called before executing any other function in pycaret. It takes two mandatory parameters: a pandas dataframe and the name of the target column. All other parameters are optional and are used to customize the pre-processing pipeline (we will see them in later tutorials).\n",
        "\n",
        "When `setup()` is executed, PyCaret's inference algorithm will automatically infer the data types for all features based on certain properties. The data type should be inferred correctly but this is not always the case. To account for this, PyCaret displays a table containing the features and their inferred data types after `setup()` is executed. If all of the data types are correctly identified `enter` can be pressed to continue or `quit` can be typed to end the expriment. Ensuring that the data types are correct is of fundamental importance in PyCaret as it automatically performs a few pre-processing tasks which are imperative to any machine learning experiment. These tasks are performed differently for each data type which means it is very important for them to be correctly configured.\n",
        "\n",
        "In later tutorials we will learn how to overwrite PyCaret's infered data type using the `numeric_features` and `categorical_features` parameters in `setup()`."
      ],
      "metadata": {
        "id": "nhFahBmtfuM5"
      }
    },
    {
      "cell_type": "code",
      "execution_count": 10,
      "source": [
        "from pycaret.classification import *\n",
        "exp_mclf101 = setup(data = data, target = 'quality', session_id=123) "
      ],
      "outputs": [
        {
          "output_type": "display_data",
          "data": {
            "text/html": [
              "<style type=\"text/css\">\n",
              "#T_a5147_row9_col1 {\n",
              "  background-color: lightgreen;\n",
              "}\n",
              "</style>\n",
              "<table id=\"T_a5147_\" class=\"dataframe\">\n",
              "  <thead>\n",
              "    <tr>\n",
              "      <th class=\"blank level0\" >&nbsp;</th>\n",
              "      <th class=\"col_heading level0 col0\" >Description</th>\n",
              "      <th class=\"col_heading level0 col1\" >Value</th>\n",
              "    </tr>\n",
              "  </thead>\n",
              "  <tbody>\n",
              "    <tr>\n",
              "      <th id=\"T_a5147_level0_row0\" class=\"row_heading level0 row0\" >0</th>\n",
              "      <td id=\"T_a5147_row0_col0\" class=\"data row0 col0\" >Session id</td>\n",
              "      <td id=\"T_a5147_row0_col1\" class=\"data row0 col1\" >123</td>\n",
              "    </tr>\n",
              "    <tr>\n",
              "      <th id=\"T_a5147_level0_row1\" class=\"row_heading level0 row1\" >1</th>\n",
              "      <td id=\"T_a5147_row1_col0\" class=\"data row1 col0\" >Target</td>\n",
              "      <td id=\"T_a5147_row1_col1\" class=\"data row1 col1\" >quality</td>\n",
              "    </tr>\n",
              "    <tr>\n",
              "      <th id=\"T_a5147_level0_row2\" class=\"row_heading level0 row2\" >2</th>\n",
              "      <td id=\"T_a5147_row2_col0\" class=\"data row2 col0\" >Target type</td>\n",
              "      <td id=\"T_a5147_row2_col1\" class=\"data row2 col1\" >Multiclass</td>\n",
              "    </tr>\n",
              "    <tr>\n",
              "      <th id=\"T_a5147_level0_row3\" class=\"row_heading level0 row3\" >3</th>\n",
              "      <td id=\"T_a5147_row3_col0\" class=\"data row3 col0\" >Target mapping</td>\n",
              "      <td id=\"T_a5147_row3_col1\" class=\"data row3 col1\" >3: 0, 4: 1, 5: 2, 6: 3, 7: 4, 8: 5, 9: 6</td>\n",
              "    </tr>\n",
              "    <tr>\n",
              "      <th id=\"T_a5147_level0_row4\" class=\"row_heading level0 row4\" >4</th>\n",
              "      <td id=\"T_a5147_row4_col0\" class=\"data row4 col0\" >Original data shape</td>\n",
              "      <td id=\"T_a5147_row4_col1\" class=\"data row4 col1\" >(4408, 12)</td>\n",
              "    </tr>\n",
              "    <tr>\n",
              "      <th id=\"T_a5147_level0_row5\" class=\"row_heading level0 row5\" >5</th>\n",
              "      <td id=\"T_a5147_row5_col0\" class=\"data row5 col0\" >Transformed data shape</td>\n",
              "      <td id=\"T_a5147_row5_col1\" class=\"data row5 col1\" >(4408, 12)</td>\n",
              "    </tr>\n",
              "    <tr>\n",
              "      <th id=\"T_a5147_level0_row6\" class=\"row_heading level0 row6\" >6</th>\n",
              "      <td id=\"T_a5147_row6_col0\" class=\"data row6 col0\" >Transformed train set shape</td>\n",
              "      <td id=\"T_a5147_row6_col1\" class=\"data row6 col1\" >(3085, 12)</td>\n",
              "    </tr>\n",
              "    <tr>\n",
              "      <th id=\"T_a5147_level0_row7\" class=\"row_heading level0 row7\" >7</th>\n",
              "      <td id=\"T_a5147_row7_col0\" class=\"data row7 col0\" >Transformed test set shape</td>\n",
              "      <td id=\"T_a5147_row7_col1\" class=\"data row7 col1\" >(1323, 12)</td>\n",
              "    </tr>\n",
              "    <tr>\n",
              "      <th id=\"T_a5147_level0_row8\" class=\"row_heading level0 row8\" >8</th>\n",
              "      <td id=\"T_a5147_row8_col0\" class=\"data row8 col0\" >Numeric features</td>\n",
              "      <td id=\"T_a5147_row8_col1\" class=\"data row8 col1\" >11</td>\n",
              "    </tr>\n",
              "    <tr>\n",
              "      <th id=\"T_a5147_level0_row9\" class=\"row_heading level0 row9\" >9</th>\n",
              "      <td id=\"T_a5147_row9_col0\" class=\"data row9 col0\" >Preprocess</td>\n",
              "      <td id=\"T_a5147_row9_col1\" class=\"data row9 col1\" >True</td>\n",
              "    </tr>\n",
              "    <tr>\n",
              "      <th id=\"T_a5147_level0_row10\" class=\"row_heading level0 row10\" >10</th>\n",
              "      <td id=\"T_a5147_row10_col0\" class=\"data row10 col0\" >Imputation type</td>\n",
              "      <td id=\"T_a5147_row10_col1\" class=\"data row10 col1\" >simple</td>\n",
              "    </tr>\n",
              "    <tr>\n",
              "      <th id=\"T_a5147_level0_row11\" class=\"row_heading level0 row11\" >11</th>\n",
              "      <td id=\"T_a5147_row11_col0\" class=\"data row11 col0\" >Numeric imputation</td>\n",
              "      <td id=\"T_a5147_row11_col1\" class=\"data row11 col1\" >mean</td>\n",
              "    </tr>\n",
              "    <tr>\n",
              "      <th id=\"T_a5147_level0_row12\" class=\"row_heading level0 row12\" >12</th>\n",
              "      <td id=\"T_a5147_row12_col0\" class=\"data row12 col0\" >Categorical imputation</td>\n",
              "      <td id=\"T_a5147_row12_col1\" class=\"data row12 col1\" >constant</td>\n",
              "    </tr>\n",
              "    <tr>\n",
              "      <th id=\"T_a5147_level0_row13\" class=\"row_heading level0 row13\" >13</th>\n",
              "      <td id=\"T_a5147_row13_col0\" class=\"data row13 col0\" >Low variance threshold</td>\n",
              "      <td id=\"T_a5147_row13_col1\" class=\"data row13 col1\" >0</td>\n",
              "    </tr>\n",
              "    <tr>\n",
              "      <th id=\"T_a5147_level0_row14\" class=\"row_heading level0 row14\" >14</th>\n",
              "      <td id=\"T_a5147_row14_col0\" class=\"data row14 col0\" >Fold Generator</td>\n",
              "      <td id=\"T_a5147_row14_col1\" class=\"data row14 col1\" >StratifiedKFold</td>\n",
              "    </tr>\n",
              "    <tr>\n",
              "      <th id=\"T_a5147_level0_row15\" class=\"row_heading level0 row15\" >15</th>\n",
              "      <td id=\"T_a5147_row15_col0\" class=\"data row15 col0\" >Fold Number</td>\n",
              "      <td id=\"T_a5147_row15_col1\" class=\"data row15 col1\" >10</td>\n",
              "    </tr>\n",
              "    <tr>\n",
              "      <th id=\"T_a5147_level0_row16\" class=\"row_heading level0 row16\" >16</th>\n",
              "      <td id=\"T_a5147_row16_col0\" class=\"data row16 col0\" >CPU Jobs</td>\n",
              "      <td id=\"T_a5147_row16_col1\" class=\"data row16 col1\" >-1</td>\n",
              "    </tr>\n",
              "    <tr>\n",
              "      <th id=\"T_a5147_level0_row17\" class=\"row_heading level0 row17\" >17</th>\n",
              "      <td id=\"T_a5147_row17_col0\" class=\"data row17 col0\" >Use GPU</td>\n",
              "      <td id=\"T_a5147_row17_col1\" class=\"data row17 col1\" >False</td>\n",
              "    </tr>\n",
              "    <tr>\n",
              "      <th id=\"T_a5147_level0_row18\" class=\"row_heading level0 row18\" >18</th>\n",
              "      <td id=\"T_a5147_row18_col0\" class=\"data row18 col0\" >Log Experiment</td>\n",
              "      <td id=\"T_a5147_row18_col1\" class=\"data row18 col1\" >False</td>\n",
              "    </tr>\n",
              "    <tr>\n",
              "      <th id=\"T_a5147_level0_row19\" class=\"row_heading level0 row19\" >19</th>\n",
              "      <td id=\"T_a5147_row19_col0\" class=\"data row19 col0\" >Experiment Name</td>\n",
              "      <td id=\"T_a5147_row19_col1\" class=\"data row19 col1\" >clf-default-name</td>\n",
              "    </tr>\n",
              "    <tr>\n",
              "      <th id=\"T_a5147_level0_row20\" class=\"row_heading level0 row20\" >20</th>\n",
              "      <td id=\"T_a5147_row20_col0\" class=\"data row20 col0\" >USI</td>\n",
              "      <td id=\"T_a5147_row20_col1\" class=\"data row20 col1\" >e36e</td>\n",
              "    </tr>\n",
              "  </tbody>\n",
              "</table>\n"
            ],
            "text/plain": [
              "<pandas.io.formats.style.Styler at 0x7fe14c50f580>"
            ]
          },
          "metadata": {}
        }
      ],
      "metadata": {
        "colab": {
          "base_uri": "https://localhost:8080/",
          "height": 708
        },
        "id": "9PcuxLQSfuNC",
        "outputId": "27b99ae5-f03a-4250-b8ef-7ac7ac09fabb",
        "scrolled": false
      }
    },
    {
      "cell_type": "markdown",
      "source": [
        "Once the setup has been successfully executed it prints the information grid which contains several important pieces of information. Most of the information is related to the pre-processing pipeline which is constructed when `setup()` is executed. The majority of these features are out of scope for the purposes of this tutorial however a few important things to note at this stage include:\n",
        "\n",
        "- **session_id :**  A pseduo-random number distributed as a seed in all functions for later reproducibility. If no `session_id` is passed, a random number is automatically generated that is distributed to all functions. In this experiment, the `session_id` is set as `123` for later reproducibility.<br/>\n",
        "<br/>\n",
        "- **Target Type :**  Binary or Multiclass. The Target type is automatically detected and shown. There is no difference in how the experiment is performed for Binary or Multiclass problems. All functionalities are identical.<br/>\n",
        "<br/>\n",
        "- **Label Encoded :**  When the Target variable is of type string (i.e. 'Yes' or 'No') instead of 1 or 0, it automatically encodes the label into 1 and 0 and displays the mapping (0 : No, 1 : Yes) for reference. In this experiment label encoding is applied as follows: Iris-setosa: 0, Iris-versicolor: 1, Iris-virginica: 2. <br/>\n",
        "<br/>\n",
        "- **Original Data :**  Displays the original shape of the dataset. In this experiment (135, 5) means 135 samples and 5 features including the target column. <br/>\n",
        "<br/>\n",
        "- **Missing Values :**  When there are missing values in the original data this will show as True. For this experiment there are no missing values in the dataset.<br/>\n",
        "<br/>\n",
        "- **Numeric Features :**  The number of features inferred as numeric. In this dataset, 4 out of 5 features are inferred as numeric. <br/>\n",
        "<br/>\n",
        "- **Categorical Features :**  The number of features inferred as categorical. In this dataset, there are no categorical features. <br/>\n",
        "<br/>\n",
        "- **Transformed Train Set :**  Displays the shape of the transformed training set. Notice that the original shape of (135, 5) is transformed into (94, 4) for the transformed train set. <br/>\n",
        "<br/>\n",
        "- **Transformed Test Set :**  Displays the shape of the transformed test/hold-out set. There are 41 samples in test/hold-out set. This split is based on the default value of 70/30 that can be changed using the `train_size` parameter in setup. <br/>\n",
        "\n",
        "Notice how a few tasks that are imperative to perform modeling are automatically handled such as missing value imputation, categorical encoding etc. Most of the parameters in `setup()` are optional and used for customizing the pre-processing pipeline. These parameters are out of scope for this tutorial but as you progress to the intermediate and expert levels, we will cover them in much greater detail."
      ],
      "metadata": {
        "id": "8Mz7JeKqfuNJ"
      }
    },
    {
      "cell_type": "markdown",
      "source": [
        "# 7.0 Comparing All Models"
      ],
      "metadata": {
        "id": "i9ZvVSDYfuNL"
      }
    },
    {
      "cell_type": "markdown",
      "source": [
        "Comparing all models to evaluate performance is the recommended starting point for modeling once the setup is completed (unless you exactly know what kind of model you need, which is often not the case). This function trains all models in the model library and scores them using stratified cross validation for metric evaluation. The output prints a score grid that shows average Accuracy, Recall, Precision, F1, Kappa, and MCC accross the folds (10 by default) along with training times."
      ],
      "metadata": {
        "id": "Kr65WJW2fuNM"
      }
    },
    {
      "cell_type": "code",
      "execution_count": 11,
      "source": [
        "best = compare_models()"
      ],
      "outputs": [
        {
          "output_type": "display_data",
          "data": {
            "text/html": [],
            "text/plain": [
              "<IPython.core.display.HTML object>"
            ]
          },
          "metadata": {}
        },
        {
          "output_type": "display_data",
          "data": {
            "text/html": [
              "<style type=\"text/css\">\n",
              "#T_2d3e2_ th {\n",
              "  text-align: left;\n",
              "}\n",
              "#T_2d3e2_row0_col0, #T_2d3e2_row0_col2, #T_2d3e2_row1_col0, #T_2d3e2_row1_col1, #T_2d3e2_row1_col3, #T_2d3e2_row1_col4, #T_2d3e2_row1_col5, #T_2d3e2_row1_col6, #T_2d3e2_row1_col7, #T_2d3e2_row2_col0, #T_2d3e2_row2_col1, #T_2d3e2_row2_col2, #T_2d3e2_row2_col3, #T_2d3e2_row2_col4, #T_2d3e2_row2_col5, #T_2d3e2_row2_col6, #T_2d3e2_row2_col7, #T_2d3e2_row3_col0, #T_2d3e2_row3_col1, #T_2d3e2_row3_col2, #T_2d3e2_row3_col3, #T_2d3e2_row3_col4, #T_2d3e2_row3_col5, #T_2d3e2_row3_col6, #T_2d3e2_row3_col7, #T_2d3e2_row4_col0, #T_2d3e2_row4_col1, #T_2d3e2_row4_col2, #T_2d3e2_row4_col3, #T_2d3e2_row4_col4, #T_2d3e2_row4_col5, #T_2d3e2_row4_col6, #T_2d3e2_row4_col7, #T_2d3e2_row5_col0, #T_2d3e2_row5_col1, #T_2d3e2_row5_col2, #T_2d3e2_row5_col3, #T_2d3e2_row5_col4, #T_2d3e2_row5_col5, #T_2d3e2_row5_col6, #T_2d3e2_row5_col7, #T_2d3e2_row6_col0, #T_2d3e2_row6_col1, #T_2d3e2_row6_col2, #T_2d3e2_row6_col3, #T_2d3e2_row6_col4, #T_2d3e2_row6_col5, #T_2d3e2_row6_col6, #T_2d3e2_row6_col7, #T_2d3e2_row7_col0, #T_2d3e2_row7_col1, #T_2d3e2_row7_col2, #T_2d3e2_row7_col3, #T_2d3e2_row7_col4, #T_2d3e2_row7_col5, #T_2d3e2_row7_col6, #T_2d3e2_row7_col7, #T_2d3e2_row8_col0, #T_2d3e2_row8_col1, #T_2d3e2_row8_col2, #T_2d3e2_row8_col3, #T_2d3e2_row8_col4, #T_2d3e2_row8_col5, #T_2d3e2_row8_col6, #T_2d3e2_row8_col7, #T_2d3e2_row9_col0, #T_2d3e2_row9_col1, #T_2d3e2_row9_col2, #T_2d3e2_row9_col3, #T_2d3e2_row9_col4, #T_2d3e2_row9_col5, #T_2d3e2_row9_col6, #T_2d3e2_row9_col7, #T_2d3e2_row10_col0, #T_2d3e2_row10_col1, #T_2d3e2_row10_col2, #T_2d3e2_row10_col3, #T_2d3e2_row10_col4, #T_2d3e2_row10_col5, #T_2d3e2_row10_col6, #T_2d3e2_row10_col7, #T_2d3e2_row11_col0, #T_2d3e2_row11_col1, #T_2d3e2_row11_col2, #T_2d3e2_row11_col3, #T_2d3e2_row11_col4, #T_2d3e2_row11_col5, #T_2d3e2_row11_col6, #T_2d3e2_row11_col7, #T_2d3e2_row12_col0, #T_2d3e2_row12_col1, #T_2d3e2_row12_col2, #T_2d3e2_row12_col3, #T_2d3e2_row12_col4, #T_2d3e2_row12_col5, #T_2d3e2_row12_col6, #T_2d3e2_row12_col7, #T_2d3e2_row13_col0, #T_2d3e2_row13_col1, #T_2d3e2_row13_col2, #T_2d3e2_row13_col3, #T_2d3e2_row13_col4, #T_2d3e2_row13_col5, #T_2d3e2_row13_col6, #T_2d3e2_row13_col7 {\n",
              "  text-align: left;\n",
              "}\n",
              "#T_2d3e2_row0_col1, #T_2d3e2_row0_col3, #T_2d3e2_row0_col4, #T_2d3e2_row0_col5, #T_2d3e2_row0_col6, #T_2d3e2_row0_col7, #T_2d3e2_row1_col2 {\n",
              "  text-align: left;\n",
              "  background-color: yellow;\n",
              "}\n",
              "#T_2d3e2_row0_col8, #T_2d3e2_row1_col8, #T_2d3e2_row2_col8, #T_2d3e2_row3_col8, #T_2d3e2_row4_col8, #T_2d3e2_row5_col8, #T_2d3e2_row7_col8, #T_2d3e2_row8_col8, #T_2d3e2_row9_col8, #T_2d3e2_row10_col8, #T_2d3e2_row11_col8, #T_2d3e2_row12_col8, #T_2d3e2_row13_col8 {\n",
              "  text-align: left;\n",
              "  background-color: lightgrey;\n",
              "}\n",
              "#T_2d3e2_row6_col8 {\n",
              "  text-align: left;\n",
              "  background-color: yellow;\n",
              "  background-color: lightgrey;\n",
              "}\n",
              "</style>\n",
              "<table id=\"T_2d3e2_\" class=\"dataframe\">\n",
              "  <thead>\n",
              "    <tr>\n",
              "      <th class=\"blank level0\" >&nbsp;</th>\n",
              "      <th class=\"col_heading level0 col0\" >Model</th>\n",
              "      <th class=\"col_heading level0 col1\" >Accuracy</th>\n",
              "      <th class=\"col_heading level0 col2\" >AUC</th>\n",
              "      <th class=\"col_heading level0 col3\" >Recall</th>\n",
              "      <th class=\"col_heading level0 col4\" >Prec.</th>\n",
              "      <th class=\"col_heading level0 col5\" >F1</th>\n",
              "      <th class=\"col_heading level0 col6\" >Kappa</th>\n",
              "      <th class=\"col_heading level0 col7\" >MCC</th>\n",
              "      <th class=\"col_heading level0 col8\" >TT (Sec)</th>\n",
              "    </tr>\n",
              "  </thead>\n",
              "  <tbody>\n",
              "    <tr>\n",
              "      <th id=\"T_2d3e2_level0_row0\" class=\"row_heading level0 row0\" >rf</th>\n",
              "      <td id=\"T_2d3e2_row0_col0\" class=\"data row0 col0\" >Random Forest Classifier</td>\n",
              "      <td id=\"T_2d3e2_row0_col1\" class=\"data row0 col1\" >0.6512</td>\n",
              "      <td id=\"T_2d3e2_row0_col2\" class=\"data row0 col2\" >0.2491</td>\n",
              "      <td id=\"T_2d3e2_row0_col3\" class=\"data row0 col3\" >0.6512</td>\n",
              "      <td id=\"T_2d3e2_row0_col4\" class=\"data row0 col4\" >0.6486</td>\n",
              "      <td id=\"T_2d3e2_row0_col5\" class=\"data row0 col5\" >0.6351</td>\n",
              "      <td id=\"T_2d3e2_row0_col6\" class=\"data row0 col6\" >0.4547</td>\n",
              "      <td id=\"T_2d3e2_row0_col7\" class=\"data row0 col7\" >0.4616</td>\n",
              "      <td id=\"T_2d3e2_row0_col8\" class=\"data row0 col8\" >0.5780</td>\n",
              "    </tr>\n",
              "    <tr>\n",
              "      <th id=\"T_2d3e2_level0_row1\" class=\"row_heading level0 row1\" >et</th>\n",
              "      <td id=\"T_2d3e2_row1_col0\" class=\"data row1 col0\" >Extra Trees Classifier</td>\n",
              "      <td id=\"T_2d3e2_row1_col1\" class=\"data row1 col1\" >0.6457</td>\n",
              "      <td id=\"T_2d3e2_row1_col2\" class=\"data row1 col2\" >0.2514</td>\n",
              "      <td id=\"T_2d3e2_row1_col3\" class=\"data row1 col3\" >0.6457</td>\n",
              "      <td id=\"T_2d3e2_row1_col4\" class=\"data row1 col4\" >0.6423</td>\n",
              "      <td id=\"T_2d3e2_row1_col5\" class=\"data row1 col5\" >0.6297</td>\n",
              "      <td id=\"T_2d3e2_row1_col6\" class=\"data row1 col6\" >0.4466</td>\n",
              "      <td id=\"T_2d3e2_row1_col7\" class=\"data row1 col7\" >0.4535</td>\n",
              "      <td id=\"T_2d3e2_row1_col8\" class=\"data row1 col8\" >0.6350</td>\n",
              "    </tr>\n",
              "    <tr>\n",
              "      <th id=\"T_2d3e2_level0_row2\" class=\"row_heading level0 row2\" >lightgbm</th>\n",
              "      <td id=\"T_2d3e2_row2_col0\" class=\"data row2 col0\" >Light Gradient Boosting Machine</td>\n",
              "      <td id=\"T_2d3e2_row2_col1\" class=\"data row2 col1\" >0.6360</td>\n",
              "      <td id=\"T_2d3e2_row2_col2\" class=\"data row2 col2\" >0.2446</td>\n",
              "      <td id=\"T_2d3e2_row2_col3\" class=\"data row2 col3\" >0.6360</td>\n",
              "      <td id=\"T_2d3e2_row2_col4\" class=\"data row2 col4\" >0.6306</td>\n",
              "      <td id=\"T_2d3e2_row2_col5\" class=\"data row2 col5\" >0.6248</td>\n",
              "      <td id=\"T_2d3e2_row2_col6\" class=\"data row2 col6\" >0.4393</td>\n",
              "      <td id=\"T_2d3e2_row2_col7\" class=\"data row2 col7\" >0.4427</td>\n",
              "      <td id=\"T_2d3e2_row2_col8\" class=\"data row2 col8\" >0.9050</td>\n",
              "    </tr>\n",
              "    <tr>\n",
              "      <th id=\"T_2d3e2_level0_row3\" class=\"row_heading level0 row3\" >gbc</th>\n",
              "      <td id=\"T_2d3e2_row3_col0\" class=\"data row3 col0\" >Gradient Boosting Classifier</td>\n",
              "      <td id=\"T_2d3e2_row3_col1\" class=\"data row3 col1\" >0.5854</td>\n",
              "      <td id=\"T_2d3e2_row3_col2\" class=\"data row3 col2\" >0.2292</td>\n",
              "      <td id=\"T_2d3e2_row3_col3\" class=\"data row3 col3\" >0.5854</td>\n",
              "      <td id=\"T_2d3e2_row3_col4\" class=\"data row3 col4\" >0.5823</td>\n",
              "      <td id=\"T_2d3e2_row3_col5\" class=\"data row3 col5\" >0.5715</td>\n",
              "      <td id=\"T_2d3e2_row3_col6\" class=\"data row3 col6\" >0.3539</td>\n",
              "      <td id=\"T_2d3e2_row3_col7\" class=\"data row3 col7\" >0.3608</td>\n",
              "      <td id=\"T_2d3e2_row3_col8\" class=\"data row3 col8\" >3.2340</td>\n",
              "    </tr>\n",
              "    <tr>\n",
              "      <th id=\"T_2d3e2_level0_row4\" class=\"row_heading level0 row4\" >dt</th>\n",
              "      <td id=\"T_2d3e2_row4_col0\" class=\"data row4 col0\" >Decision Tree Classifier</td>\n",
              "      <td id=\"T_2d3e2_row4_col1\" class=\"data row4 col1\" >0.5682</td>\n",
              "      <td id=\"T_2d3e2_row4_col2\" class=\"data row4 col2\" >0.2071</td>\n",
              "      <td id=\"T_2d3e2_row4_col3\" class=\"data row4 col3\" >0.5682</td>\n",
              "      <td id=\"T_2d3e2_row4_col4\" class=\"data row4 col4\" >0.5677</td>\n",
              "      <td id=\"T_2d3e2_row4_col5\" class=\"data row4 col5\" >0.5669</td>\n",
              "      <td id=\"T_2d3e2_row4_col6\" class=\"data row4 col6\" >0.3589</td>\n",
              "      <td id=\"T_2d3e2_row4_col7\" class=\"data row4 col7\" >0.3593</td>\n",
              "      <td id=\"T_2d3e2_row4_col8\" class=\"data row4 col8\" >0.0610</td>\n",
              "    </tr>\n",
              "    <tr>\n",
              "      <th id=\"T_2d3e2_level0_row5\" class=\"row_heading level0 row5\" >lda</th>\n",
              "      <td id=\"T_2d3e2_row5_col0\" class=\"data row5 col0\" >Linear Discriminant Analysis</td>\n",
              "      <td id=\"T_2d3e2_row5_col1\" class=\"data row5 col1\" >0.5287</td>\n",
              "      <td id=\"T_2d3e2_row5_col2\" class=\"data row5 col2\" >0.2099</td>\n",
              "      <td id=\"T_2d3e2_row5_col3\" class=\"data row5 col3\" >0.5287</td>\n",
              "      <td id=\"T_2d3e2_row5_col4\" class=\"data row5 col4\" >0.5130</td>\n",
              "      <td id=\"T_2d3e2_row5_col5\" class=\"data row5 col5\" >0.5043</td>\n",
              "      <td id=\"T_2d3e2_row5_col6\" class=\"data row5 col6\" >0.2501</td>\n",
              "      <td id=\"T_2d3e2_row5_col7\" class=\"data row5 col7\" >0.2602</td>\n",
              "      <td id=\"T_2d3e2_row5_col8\" class=\"data row5 col8\" >0.0520</td>\n",
              "    </tr>\n",
              "    <tr>\n",
              "      <th id=\"T_2d3e2_level0_row6\" class=\"row_heading level0 row6\" >ridge</th>\n",
              "      <td id=\"T_2d3e2_row6_col0\" class=\"data row6 col0\" >Ridge Classifier</td>\n",
              "      <td id=\"T_2d3e2_row6_col1\" class=\"data row6 col1\" >0.5268</td>\n",
              "      <td id=\"T_2d3e2_row6_col2\" class=\"data row6 col2\" >0.0000</td>\n",
              "      <td id=\"T_2d3e2_row6_col3\" class=\"data row6 col3\" >0.5268</td>\n",
              "      <td id=\"T_2d3e2_row6_col4\" class=\"data row6 col4\" >0.4831</td>\n",
              "      <td id=\"T_2d3e2_row6_col5\" class=\"data row6 col5\" >0.4633</td>\n",
              "      <td id=\"T_2d3e2_row6_col6\" class=\"data row6 col6\" >0.2102</td>\n",
              "      <td id=\"T_2d3e2_row6_col7\" class=\"data row6 col7\" >0.2350</td>\n",
              "      <td id=\"T_2d3e2_row6_col8\" class=\"data row6 col8\" >0.0410</td>\n",
              "    </tr>\n",
              "    <tr>\n",
              "      <th id=\"T_2d3e2_level0_row7\" class=\"row_heading level0 row7\" >lr</th>\n",
              "      <td id=\"T_2d3e2_row7_col0\" class=\"data row7 col0\" >Logistic Regression</td>\n",
              "      <td id=\"T_2d3e2_row7_col1\" class=\"data row7 col1\" >0.5190</td>\n",
              "      <td id=\"T_2d3e2_row7_col2\" class=\"data row7 col2\" >0.2022</td>\n",
              "      <td id=\"T_2d3e2_row7_col3\" class=\"data row7 col3\" >0.5190</td>\n",
              "      <td id=\"T_2d3e2_row7_col4\" class=\"data row7 col4\" >0.4792</td>\n",
              "      <td id=\"T_2d3e2_row7_col5\" class=\"data row7 col5\" >0.4689</td>\n",
              "      <td id=\"T_2d3e2_row7_col6\" class=\"data row7 col6\" >0.2072</td>\n",
              "      <td id=\"T_2d3e2_row7_col7\" class=\"data row7 col7\" >0.2256</td>\n",
              "      <td id=\"T_2d3e2_row7_col8\" class=\"data row7 col8\" >2.1050</td>\n",
              "    </tr>\n",
              "    <tr>\n",
              "      <th id=\"T_2d3e2_level0_row8\" class=\"row_heading level0 row8\" >qda</th>\n",
              "      <td id=\"T_2d3e2_row8_col0\" class=\"data row8 col0\" >Quadratic Discriminant Analysis</td>\n",
              "      <td id=\"T_2d3e2_row8_col1\" class=\"data row8 col1\" >0.4895</td>\n",
              "      <td id=\"T_2d3e2_row8_col2\" class=\"data row8 col2\" >0.2140</td>\n",
              "      <td id=\"T_2d3e2_row8_col3\" class=\"data row8 col3\" >0.4895</td>\n",
              "      <td id=\"T_2d3e2_row8_col4\" class=\"data row8 col4\" >0.4970</td>\n",
              "      <td id=\"T_2d3e2_row8_col5\" class=\"data row8 col5\" >0.4832</td>\n",
              "      <td id=\"T_2d3e2_row8_col6\" class=\"data row8 col6\" >0.2569</td>\n",
              "      <td id=\"T_2d3e2_row8_col7\" class=\"data row8 col7\" >0.2613</td>\n",
              "      <td id=\"T_2d3e2_row8_col8\" class=\"data row8 col8\" >0.0480</td>\n",
              "    </tr>\n",
              "    <tr>\n",
              "      <th id=\"T_2d3e2_level0_row9\" class=\"row_heading level0 row9\" >knn</th>\n",
              "      <td id=\"T_2d3e2_row9_col0\" class=\"data row9 col0\" >K Neighbors Classifier</td>\n",
              "      <td id=\"T_2d3e2_row9_col1\" class=\"data row9 col1\" >0.4654</td>\n",
              "      <td id=\"T_2d3e2_row9_col2\" class=\"data row9 col2\" >0.1965</td>\n",
              "      <td id=\"T_2d3e2_row9_col3\" class=\"data row9 col3\" >0.4654</td>\n",
              "      <td id=\"T_2d3e2_row9_col4\" class=\"data row9 col4\" >0.4536</td>\n",
              "      <td id=\"T_2d3e2_row9_col5\" class=\"data row9 col5\" >0.4489</td>\n",
              "      <td id=\"T_2d3e2_row9_col6\" class=\"data row9 col6\" >0.1703</td>\n",
              "      <td id=\"T_2d3e2_row9_col7\" class=\"data row9 col7\" >0.1727</td>\n",
              "      <td id=\"T_2d3e2_row9_col8\" class=\"data row9 col8\" >0.0610</td>\n",
              "    </tr>\n",
              "    <tr>\n",
              "      <th id=\"T_2d3e2_level0_row10\" class=\"row_heading level0 row10\" >nb</th>\n",
              "      <td id=\"T_2d3e2_row10_col0\" class=\"data row10 col0\" >Naive Bayes</td>\n",
              "      <td id=\"T_2d3e2_row10_col1\" class=\"data row10 col1\" >0.4522</td>\n",
              "      <td id=\"T_2d3e2_row10_col2\" class=\"data row10 col2\" >0.1994</td>\n",
              "      <td id=\"T_2d3e2_row10_col3\" class=\"data row10 col3\" >0.4522</td>\n",
              "      <td id=\"T_2d3e2_row10_col4\" class=\"data row10 col4\" >0.4673</td>\n",
              "      <td id=\"T_2d3e2_row10_col5\" class=\"data row10 col5\" >0.4424</td>\n",
              "      <td id=\"T_2d3e2_row10_col6\" class=\"data row10 col6\" >0.2245</td>\n",
              "      <td id=\"T_2d3e2_row10_col7\" class=\"data row10 col7\" >0.2324</td>\n",
              "      <td id=\"T_2d3e2_row10_col8\" class=\"data row10 col8\" >0.0460</td>\n",
              "    </tr>\n",
              "    <tr>\n",
              "      <th id=\"T_2d3e2_level0_row11\" class=\"row_heading level0 row11\" >dummy</th>\n",
              "      <td id=\"T_2d3e2_row11_col0\" class=\"data row11 col0\" >Dummy Classifier</td>\n",
              "      <td id=\"T_2d3e2_row11_col1\" class=\"data row11 col1\" >0.4467</td>\n",
              "      <td id=\"T_2d3e2_row11_col2\" class=\"data row11 col2\" >0.1500</td>\n",
              "      <td id=\"T_2d3e2_row11_col3\" class=\"data row11 col3\" >0.4467</td>\n",
              "      <td id=\"T_2d3e2_row11_col4\" class=\"data row11 col4\" >0.1995</td>\n",
              "      <td id=\"T_2d3e2_row11_col5\" class=\"data row11 col5\" >0.2758</td>\n",
              "      <td id=\"T_2d3e2_row11_col6\" class=\"data row11 col6\" >0.0000</td>\n",
              "      <td id=\"T_2d3e2_row11_col7\" class=\"data row11 col7\" >0.0000</td>\n",
              "      <td id=\"T_2d3e2_row11_col8\" class=\"data row11 col8\" >0.0420</td>\n",
              "    </tr>\n",
              "    <tr>\n",
              "      <th id=\"T_2d3e2_level0_row12\" class=\"row_heading level0 row12\" >ada</th>\n",
              "      <td id=\"T_2d3e2_row12_col0\" class=\"data row12 col0\" >Ada Boost Classifier</td>\n",
              "      <td id=\"T_2d3e2_row12_col1\" class=\"data row12 col1\" >0.4347</td>\n",
              "      <td id=\"T_2d3e2_row12_col2\" class=\"data row12 col2\" >0.1682</td>\n",
              "      <td id=\"T_2d3e2_row12_col3\" class=\"data row12 col3\" >0.4347</td>\n",
              "      <td id=\"T_2d3e2_row12_col4\" class=\"data row12 col4\" >0.3896</td>\n",
              "      <td id=\"T_2d3e2_row12_col5\" class=\"data row12 col5\" >0.3334</td>\n",
              "      <td id=\"T_2d3e2_row12_col6\" class=\"data row12 col6\" >0.0619</td>\n",
              "      <td id=\"T_2d3e2_row12_col7\" class=\"data row12 col7\" >0.0760</td>\n",
              "      <td id=\"T_2d3e2_row12_col8\" class=\"data row12 col8\" >0.2190</td>\n",
              "    </tr>\n",
              "    <tr>\n",
              "      <th id=\"T_2d3e2_level0_row13\" class=\"row_heading level0 row13\" >svm</th>\n",
              "      <td id=\"T_2d3e2_row13_col0\" class=\"data row13 col0\" >SVM - Linear Kernel</td>\n",
              "      <td id=\"T_2d3e2_row13_col1\" class=\"data row13 col1\" >0.3899</td>\n",
              "      <td id=\"T_2d3e2_row13_col2\" class=\"data row13 col2\" >0.0000</td>\n",
              "      <td id=\"T_2d3e2_row13_col3\" class=\"data row13 col3\" >0.3899</td>\n",
              "      <td id=\"T_2d3e2_row13_col4\" class=\"data row13 col4\" >0.3136</td>\n",
              "      <td id=\"T_2d3e2_row13_col5\" class=\"data row13 col5\" >0.2663</td>\n",
              "      <td id=\"T_2d3e2_row13_col6\" class=\"data row13 col6\" >0.0314</td>\n",
              "      <td id=\"T_2d3e2_row13_col7\" class=\"data row13 col7\" >0.0497</td>\n",
              "      <td id=\"T_2d3e2_row13_col8\" class=\"data row13 col8\" >0.1270</td>\n",
              "    </tr>\n",
              "  </tbody>\n",
              "</table>\n"
            ],
            "text/plain": [
              "<pandas.io.formats.style.Styler at 0x7fe1698512e0>"
            ]
          },
          "metadata": {}
        },
        {
          "output_type": "display_data",
          "data": {
            "application/vnd.jupyter.widget-view+json": {
              "version_major": 2,
              "version_minor": 0,
              "model_id": "10638b21033245ca851ece2275f1ab0a"
            },
            "text/plain": [
              "Processing:   0%|          | 0/61 [00:00<?, ?it/s]"
            ]
          },
          "metadata": {
            "application/vnd.jupyter.widget-view+json": {
              "colab": {
                "custom_widget_manager": {
                  "url": "https://ssl.gstatic.com/colaboratory-static/widgets/colab-cdn-widget-manager/d2e234f7cc04bf79/manager.min.js"
                }
              }
            }
          }
        },
        {
          "output_type": "display_data",
          "data": {
            "text/html": [],
            "text/plain": [
              "<IPython.core.display.HTML object>"
            ]
          },
          "metadata": {}
        }
      ],
      "metadata": {
        "colab": {
          "base_uri": "https://localhost:8080/",
          "height": 488,
          "referenced_widgets": [
            "10638b21033245ca851ece2275f1ab0a",
            "748cd7b4778f488a848b75ff0890139f",
            "5fd444e8ca3142fa908fa44caecbc2ba",
            "6685cc0ffd0a4dc6bfd6d13ceaf6a3b2",
            "89271f1e87124c169ac4c70cecb278d4",
            "4651df624a5544c08b4dbfd60a48afc7",
            "fcd02c3eee5241c0a517b3bfa7fb0893",
            "8dc93b35ac3d4757b8f7bd2ec85556f5",
            "9f2fb7bc989345c1851fea591b64cf9d",
            "b1b9e2beb04e4ff0a0a106b9e01ce0c9",
            "6f942e9df5da41e5a36f9f625e887e6f"
          ]
        },
        "id": "1wcMisYyfuNN",
        "outputId": "36710208-df09-4e0e-a322-102e072d242e",
        "scrolled": false
      }
    },
    {
      "cell_type": "markdown",
      "source": [
        "Two simple words of code ***(not even a line)*** have trained and evaluated over 15 models using cross validation. The score grid printed above highlights the highest performing metric for comparison purposes only. The grid by default is sorted using 'Accuracy' (highest to lowest) which can be changed by passing the `sort` parameter. For example `compare_models(sort = 'Recall')` will sort the grid by Recall instead of `Accuracy`. If you want to change the fold parameter from the default value of `10` to a different value then you can use the `fold` parameter. For example `compare_models(fold = 5)` will compare all models on 5 fold cross validation. Reducing the number of folds will improve the training time. By default, `compare_models` return the best performing model based on default sort order but can be used to return a list of top N models by using `n_select` parameter.\n",
        "\n",
        "**Note:** The `AUC` metric is not available for Multiclass classification however the column will still be shown with `zero` values to maintain consistency between the Binary Classification and Multiclass Classification display grids. "
      ],
      "metadata": {
        "id": "JxcCbKtffuNV"
      }
    },
    {
      "cell_type": "markdown",
      "source": [
        "# 8.0 Create a Model"
      ],
      "metadata": {
        "id": "qH7AeJqjfuNX"
      }
    },
    {
      "cell_type": "markdown",
      "source": [
        "Creating Models for top three models"
      ],
      "metadata": {
        "id": "UM0qn2f_fuNY"
      }
    },
    {
      "cell_type": "markdown",
      "source": [
        "# 8.1 Random Forest Classifier"
      ],
      "metadata": {
        "id": "yyApyoXbfuNZ"
      }
    },
    {
      "cell_type": "code",
      "execution_count": 12,
      "source": [
        "rf = create_model('rf')"
      ],
      "outputs": [
        {
          "output_type": "display_data",
          "data": {
            "text/html": [],
            "text/plain": [
              "<IPython.core.display.HTML object>"
            ]
          },
          "metadata": {}
        },
        {
          "output_type": "display_data",
          "data": {
            "text/html": [
              "<style type=\"text/css\">\n",
              "#T_496ea_row10_col0, #T_496ea_row10_col1, #T_496ea_row10_col2, #T_496ea_row10_col3, #T_496ea_row10_col4, #T_496ea_row10_col5, #T_496ea_row10_col6 {\n",
              "  background: yellow;\n",
              "}\n",
              "</style>\n",
              "<table id=\"T_496ea_\" class=\"dataframe\">\n",
              "  <thead>\n",
              "    <tr>\n",
              "      <th class=\"blank level0\" >&nbsp;</th>\n",
              "      <th class=\"col_heading level0 col0\" >Accuracy</th>\n",
              "      <th class=\"col_heading level0 col1\" >AUC</th>\n",
              "      <th class=\"col_heading level0 col2\" >Recall</th>\n",
              "      <th class=\"col_heading level0 col3\" >Prec.</th>\n",
              "      <th class=\"col_heading level0 col4\" >F1</th>\n",
              "      <th class=\"col_heading level0 col5\" >Kappa</th>\n",
              "      <th class=\"col_heading level0 col6\" >MCC</th>\n",
              "    </tr>\n",
              "    <tr>\n",
              "      <th class=\"index_name level0\" >Fold</th>\n",
              "      <th class=\"blank col0\" >&nbsp;</th>\n",
              "      <th class=\"blank col1\" >&nbsp;</th>\n",
              "      <th class=\"blank col2\" >&nbsp;</th>\n",
              "      <th class=\"blank col3\" >&nbsp;</th>\n",
              "      <th class=\"blank col4\" >&nbsp;</th>\n",
              "      <th class=\"blank col5\" >&nbsp;</th>\n",
              "      <th class=\"blank col6\" >&nbsp;</th>\n",
              "    </tr>\n",
              "  </thead>\n",
              "  <tbody>\n",
              "    <tr>\n",
              "      <th id=\"T_496ea_level0_row0\" class=\"row_heading level0 row0\" >0</th>\n",
              "      <td id=\"T_496ea_row0_col0\" class=\"data row0 col0\" >0.7023</td>\n",
              "      <td id=\"T_496ea_row0_col1\" class=\"data row0 col1\" >0.0000</td>\n",
              "      <td id=\"T_496ea_row0_col2\" class=\"data row0 col2\" >0.7023</td>\n",
              "      <td id=\"T_496ea_row0_col3\" class=\"data row0 col3\" >0.6967</td>\n",
              "      <td id=\"T_496ea_row0_col4\" class=\"data row0 col4\" >0.6803</td>\n",
              "      <td id=\"T_496ea_row0_col5\" class=\"data row0 col5\" >0.5265</td>\n",
              "      <td id=\"T_496ea_row0_col6\" class=\"data row0 col6\" >0.5425</td>\n",
              "    </tr>\n",
              "    <tr>\n",
              "      <th id=\"T_496ea_level0_row1\" class=\"row_heading level0 row1\" >1</th>\n",
              "      <td id=\"T_496ea_row1_col0\" class=\"data row1 col0\" >0.6375</td>\n",
              "      <td id=\"T_496ea_row1_col1\" class=\"data row1 col1\" >0.0000</td>\n",
              "      <td id=\"T_496ea_row1_col2\" class=\"data row1 col2\" >0.6375</td>\n",
              "      <td id=\"T_496ea_row1_col3\" class=\"data row1 col3\" >0.6199</td>\n",
              "      <td id=\"T_496ea_row1_col4\" class=\"data row1 col4\" >0.6210</td>\n",
              "      <td id=\"T_496ea_row1_col5\" class=\"data row1 col5\" >0.4346</td>\n",
              "      <td id=\"T_496ea_row1_col6\" class=\"data row1 col6\" >0.4405</td>\n",
              "    </tr>\n",
              "    <tr>\n",
              "      <th id=\"T_496ea_level0_row2\" class=\"row_heading level0 row2\" >2</th>\n",
              "      <td id=\"T_496ea_row2_col0\" class=\"data row2 col0\" >0.6375</td>\n",
              "      <td id=\"T_496ea_row2_col1\" class=\"data row2 col1\" >0.8009</td>\n",
              "      <td id=\"T_496ea_row2_col2\" class=\"data row2 col2\" >0.6375</td>\n",
              "      <td id=\"T_496ea_row2_col3\" class=\"data row2 col3\" >0.6509</td>\n",
              "      <td id=\"T_496ea_row2_col4\" class=\"data row2 col4\" >0.6248</td>\n",
              "      <td id=\"T_496ea_row2_col5\" class=\"data row2 col5\" >0.4343</td>\n",
              "      <td id=\"T_496ea_row2_col6\" class=\"data row2 col6\" >0.4398</td>\n",
              "    </tr>\n",
              "    <tr>\n",
              "      <th id=\"T_496ea_level0_row3\" class=\"row_heading level0 row3\" >3</th>\n",
              "      <td id=\"T_496ea_row3_col0\" class=\"data row3 col0\" >0.6408</td>\n",
              "      <td id=\"T_496ea_row3_col1\" class=\"data row3 col1\" >0.8473</td>\n",
              "      <td id=\"T_496ea_row3_col2\" class=\"data row3 col2\" >0.6408</td>\n",
              "      <td id=\"T_496ea_row3_col3\" class=\"data row3 col3\" >0.6241</td>\n",
              "      <td id=\"T_496ea_row3_col4\" class=\"data row3 col4\" >0.6273</td>\n",
              "      <td id=\"T_496ea_row3_col5\" class=\"data row3 col5\" >0.4470</td>\n",
              "      <td id=\"T_496ea_row3_col6\" class=\"data row3 col6\" >0.4494</td>\n",
              "    </tr>\n",
              "    <tr>\n",
              "      <th id=\"T_496ea_level0_row4\" class=\"row_heading level0 row4\" >4</th>\n",
              "      <td id=\"T_496ea_row4_col0\" class=\"data row4 col0\" >0.6731</td>\n",
              "      <td id=\"T_496ea_row4_col1\" class=\"data row4 col1\" >0.8426</td>\n",
              "      <td id=\"T_496ea_row4_col2\" class=\"data row4 col2\" >0.6731</td>\n",
              "      <td id=\"T_496ea_row4_col3\" class=\"data row4 col3\" >0.6655</td>\n",
              "      <td id=\"T_496ea_row4_col4\" class=\"data row4 col4\" >0.6545</td>\n",
              "      <td id=\"T_496ea_row4_col5\" class=\"data row4 col5\" >0.4897</td>\n",
              "      <td id=\"T_496ea_row4_col6\" class=\"data row4 col6\" >0.4952</td>\n",
              "    </tr>\n",
              "    <tr>\n",
              "      <th id=\"T_496ea_level0_row5\" class=\"row_heading level0 row5\" >5</th>\n",
              "      <td id=\"T_496ea_row5_col0\" class=\"data row5 col0\" >0.6623</td>\n",
              "      <td id=\"T_496ea_row5_col1\" class=\"data row5 col1\" >0.0000</td>\n",
              "      <td id=\"T_496ea_row5_col2\" class=\"data row5 col2\" >0.6623</td>\n",
              "      <td id=\"T_496ea_row5_col3\" class=\"data row5 col3\" >0.6595</td>\n",
              "      <td id=\"T_496ea_row5_col4\" class=\"data row5 col4\" >0.6483</td>\n",
              "      <td id=\"T_496ea_row5_col5\" class=\"data row5 col5\" >0.4751</td>\n",
              "      <td id=\"T_496ea_row5_col6\" class=\"data row5 col6\" >0.4803</td>\n",
              "    </tr>\n",
              "    <tr>\n",
              "      <th id=\"T_496ea_level0_row6\" class=\"row_heading level0 row6\" >6</th>\n",
              "      <td id=\"T_496ea_row6_col0\" class=\"data row6 col0\" >0.6851</td>\n",
              "      <td id=\"T_496ea_row6_col1\" class=\"data row6 col1\" >0.0000</td>\n",
              "      <td id=\"T_496ea_row6_col2\" class=\"data row6 col2\" >0.6851</td>\n",
              "      <td id=\"T_496ea_row6_col3\" class=\"data row6 col3\" >0.7010</td>\n",
              "      <td id=\"T_496ea_row6_col4\" class=\"data row6 col4\" >0.6755</td>\n",
              "      <td id=\"T_496ea_row6_col5\" class=\"data row6 col5\" >0.5068</td>\n",
              "      <td id=\"T_496ea_row6_col6\" class=\"data row6 col6\" >0.5154</td>\n",
              "    </tr>\n",
              "    <tr>\n",
              "      <th id=\"T_496ea_level0_row7\" class=\"row_heading level0 row7\" >7</th>\n",
              "      <td id=\"T_496ea_row7_col0\" class=\"data row7 col0\" >0.6104</td>\n",
              "      <td id=\"T_496ea_row7_col1\" class=\"data row7 col1\" >0.0000</td>\n",
              "      <td id=\"T_496ea_row7_col2\" class=\"data row7 col2\" >0.6104</td>\n",
              "      <td id=\"T_496ea_row7_col3\" class=\"data row7 col3\" >0.6034</td>\n",
              "      <td id=\"T_496ea_row7_col4\" class=\"data row7 col4\" >0.5887</td>\n",
              "      <td id=\"T_496ea_row7_col5\" class=\"data row7 col5\" >0.3866</td>\n",
              "      <td id=\"T_496ea_row7_col6\" class=\"data row7 col6\" >0.3935</td>\n",
              "    </tr>\n",
              "    <tr>\n",
              "      <th id=\"T_496ea_level0_row8\" class=\"row_heading level0 row8\" >8</th>\n",
              "      <td id=\"T_496ea_row8_col0\" class=\"data row8 col0\" >0.6234</td>\n",
              "      <td id=\"T_496ea_row8_col1\" class=\"data row8 col1\" >0.0000</td>\n",
              "      <td id=\"T_496ea_row8_col2\" class=\"data row8 col2\" >0.6234</td>\n",
              "      <td id=\"T_496ea_row8_col3\" class=\"data row8 col3\" >0.6220</td>\n",
              "      <td id=\"T_496ea_row8_col4\" class=\"data row8 col4\" >0.6052</td>\n",
              "      <td id=\"T_496ea_row8_col5\" class=\"data row8 col5\" >0.4094</td>\n",
              "      <td id=\"T_496ea_row8_col6\" class=\"data row8 col6\" >0.4160</td>\n",
              "    </tr>\n",
              "    <tr>\n",
              "      <th id=\"T_496ea_level0_row9\" class=\"row_heading level0 row9\" >9</th>\n",
              "      <td id=\"T_496ea_row9_col0\" class=\"data row9 col0\" >0.6396</td>\n",
              "      <td id=\"T_496ea_row9_col1\" class=\"data row9 col1\" >0.0000</td>\n",
              "      <td id=\"T_496ea_row9_col2\" class=\"data row9 col2\" >0.6396</td>\n",
              "      <td id=\"T_496ea_row9_col3\" class=\"data row9 col3\" >0.6430</td>\n",
              "      <td id=\"T_496ea_row9_col4\" class=\"data row9 col4\" >0.6258</td>\n",
              "      <td id=\"T_496ea_row9_col5\" class=\"data row9 col5\" >0.4372</td>\n",
              "      <td id=\"T_496ea_row9_col6\" class=\"data row9 col6\" >0.4437</td>\n",
              "    </tr>\n",
              "    <tr>\n",
              "      <th id=\"T_496ea_level0_row10\" class=\"row_heading level0 row10\" >Mean</th>\n",
              "      <td id=\"T_496ea_row10_col0\" class=\"data row10 col0\" >0.6512</td>\n",
              "      <td id=\"T_496ea_row10_col1\" class=\"data row10 col1\" >0.2491</td>\n",
              "      <td id=\"T_496ea_row10_col2\" class=\"data row10 col2\" >0.6512</td>\n",
              "      <td id=\"T_496ea_row10_col3\" class=\"data row10 col3\" >0.6486</td>\n",
              "      <td id=\"T_496ea_row10_col4\" class=\"data row10 col4\" >0.6351</td>\n",
              "      <td id=\"T_496ea_row10_col5\" class=\"data row10 col5\" >0.4547</td>\n",
              "      <td id=\"T_496ea_row10_col6\" class=\"data row10 col6\" >0.4616</td>\n",
              "    </tr>\n",
              "    <tr>\n",
              "      <th id=\"T_496ea_level0_row11\" class=\"row_heading level0 row11\" >Std</th>\n",
              "      <td id=\"T_496ea_row11_col0\" class=\"data row11 col0\" >0.0272</td>\n",
              "      <td id=\"T_496ea_row11_col1\" class=\"data row11 col1\" >0.3806</td>\n",
              "      <td id=\"T_496ea_row11_col2\" class=\"data row11 col2\" >0.0272</td>\n",
              "      <td id=\"T_496ea_row11_col3\" class=\"data row11 col3\" >0.0311</td>\n",
              "      <td id=\"T_496ea_row11_col4\" class=\"data row11 col4\" >0.0278</td>\n",
              "      <td id=\"T_496ea_row11_col5\" class=\"data row11 col5\" >0.0417</td>\n",
              "      <td id=\"T_496ea_row11_col6\" class=\"data row11 col6\" >0.0436</td>\n",
              "    </tr>\n",
              "  </tbody>\n",
              "</table>\n"
            ],
            "text/plain": [
              "<pandas.io.formats.style.Styler at 0x7fe14c4597c0>"
            ]
          },
          "metadata": {}
        },
        {
          "output_type": "display_data",
          "data": {
            "application/vnd.jupyter.widget-view+json": {
              "version_major": 2,
              "version_minor": 0,
              "model_id": "b453bbe4c8c84fcdb069bdf97d194321"
            },
            "text/plain": [
              "Processing:   0%|          | 0/4 [00:00<?, ?it/s]"
            ]
          },
          "metadata": {
            "application/vnd.jupyter.widget-view+json": {
              "colab": {
                "custom_widget_manager": {
                  "url": "https://ssl.gstatic.com/colaboratory-static/widgets/colab-cdn-widget-manager/d2e234f7cc04bf79/manager.min.js"
                }
              }
            }
          }
        },
        {
          "output_type": "display_data",
          "data": {
            "text/html": [],
            "text/plain": [
              "<IPython.core.display.HTML object>"
            ]
          },
          "metadata": {}
        }
      ],
      "metadata": {
        "colab": {
          "base_uri": "https://localhost:8080/",
          "height": 457,
          "referenced_widgets": [
            "b453bbe4c8c84fcdb069bdf97d194321",
            "8879d2f135f1483d96dd20950fae2d66",
            "1edd25ccedf74faea7456b55f015e3dd",
            "eaead5d0293743408ad3fd9b6ba43a6d",
            "0e80fd10bad547109dee5d73d3e1c00c",
            "cf6f7cd8da1a498e97453f7145a6b7a6",
            "3a768a3d64534e69a135f39ae96f3421",
            "6c023794764f4f519458c4a93debc861",
            "bcae748f3b1d4471a04cc623bf128ebe",
            "b820495fe0c24774b4accb279f9233c6",
            "7a40549848464efe9f49d46d09d0f84b"
          ]
        },
        "id": "U6v4R3MJfuNb",
        "outputId": "5b4e7651-9da1-401c-cd4e-92c2914066eb"
      }
    },
    {
      "cell_type": "code",
      "execution_count": 13,
      "source": [
        "\n",
        "print(rf)"
      ],
      "outputs": [
        {
          "output_type": "stream",
          "name": "stdout",
          "text": [
            "RandomForestClassifier(bootstrap=True, ccp_alpha=0.0, class_weight=None,\n",
            "                       criterion='gini', max_depth=None, max_features='auto',\n",
            "                       max_leaf_nodes=None, max_samples=None,\n",
            "                       min_impurity_decrease=0.0, min_samples_leaf=1,\n",
            "                       min_samples_split=2, min_weight_fraction_leaf=0.0,\n",
            "                       n_estimators=100, n_jobs=-1, oob_score=False,\n",
            "                       random_state=123, verbose=0, warm_start=False)\n"
          ]
        }
      ],
      "metadata": {
        "colab": {
          "base_uri": "https://localhost:8080/"
        },
        "id": "7jwPc7ZBfuNg",
        "outputId": "3cdf0475-bb9f-49c2-c79d-499be0aa0f58"
      }
    },
    {
      "cell_type": "markdown",
      "source": [
        "# 8.2 Extra Tree Classifier"
      ],
      "metadata": {
        "id": "PhHDTJYwfuNl"
      }
    },
    {
      "cell_type": "code",
      "execution_count": 14,
      "source": [
        "et = create_model('et')"
      ],
      "outputs": [
        {
          "output_type": "display_data",
          "data": {
            "text/html": [],
            "text/plain": [
              "<IPython.core.display.HTML object>"
            ]
          },
          "metadata": {}
        },
        {
          "output_type": "display_data",
          "data": {
            "text/html": [
              "<style type=\"text/css\">\n",
              "#T_432bf_row10_col0, #T_432bf_row10_col1, #T_432bf_row10_col2, #T_432bf_row10_col3, #T_432bf_row10_col4, #T_432bf_row10_col5, #T_432bf_row10_col6 {\n",
              "  background: yellow;\n",
              "}\n",
              "</style>\n",
              "<table id=\"T_432bf_\" class=\"dataframe\">\n",
              "  <thead>\n",
              "    <tr>\n",
              "      <th class=\"blank level0\" >&nbsp;</th>\n",
              "      <th class=\"col_heading level0 col0\" >Accuracy</th>\n",
              "      <th class=\"col_heading level0 col1\" >AUC</th>\n",
              "      <th class=\"col_heading level0 col2\" >Recall</th>\n",
              "      <th class=\"col_heading level0 col3\" >Prec.</th>\n",
              "      <th class=\"col_heading level0 col4\" >F1</th>\n",
              "      <th class=\"col_heading level0 col5\" >Kappa</th>\n",
              "      <th class=\"col_heading level0 col6\" >MCC</th>\n",
              "    </tr>\n",
              "    <tr>\n",
              "      <th class=\"index_name level0\" >Fold</th>\n",
              "      <th class=\"blank col0\" >&nbsp;</th>\n",
              "      <th class=\"blank col1\" >&nbsp;</th>\n",
              "      <th class=\"blank col2\" >&nbsp;</th>\n",
              "      <th class=\"blank col3\" >&nbsp;</th>\n",
              "      <th class=\"blank col4\" >&nbsp;</th>\n",
              "      <th class=\"blank col5\" >&nbsp;</th>\n",
              "      <th class=\"blank col6\" >&nbsp;</th>\n",
              "    </tr>\n",
              "  </thead>\n",
              "  <tbody>\n",
              "    <tr>\n",
              "      <th id=\"T_432bf_level0_row0\" class=\"row_heading level0 row0\" >0</th>\n",
              "      <td id=\"T_432bf_row0_col0\" class=\"data row0 col0\" >0.6731</td>\n",
              "      <td id=\"T_432bf_row0_col1\" class=\"data row0 col1\" >0.0000</td>\n",
              "      <td id=\"T_432bf_row0_col2\" class=\"data row0 col2\" >0.6731</td>\n",
              "      <td id=\"T_432bf_row0_col3\" class=\"data row0 col3\" >0.6705</td>\n",
              "      <td id=\"T_432bf_row0_col4\" class=\"data row0 col4\" >0.6608</td>\n",
              "      <td id=\"T_432bf_row0_col5\" class=\"data row0 col5\" >0.4908</td>\n",
              "      <td id=\"T_432bf_row0_col6\" class=\"data row0 col6\" >0.4996</td>\n",
              "    </tr>\n",
              "    <tr>\n",
              "      <th id=\"T_432bf_level0_row1\" class=\"row_heading level0 row1\" >1</th>\n",
              "      <td id=\"T_432bf_row1_col0\" class=\"data row1 col0\" >0.6375</td>\n",
              "      <td id=\"T_432bf_row1_col1\" class=\"data row1 col1\" >0.0000</td>\n",
              "      <td id=\"T_432bf_row1_col2\" class=\"data row1 col2\" >0.6375</td>\n",
              "      <td id=\"T_432bf_row1_col3\" class=\"data row1 col3\" >0.6257</td>\n",
              "      <td id=\"T_432bf_row1_col4\" class=\"data row1 col4\" >0.6204</td>\n",
              "      <td id=\"T_432bf_row1_col5\" class=\"data row1 col5\" >0.4302</td>\n",
              "      <td id=\"T_432bf_row1_col6\" class=\"data row1 col6\" >0.4396</td>\n",
              "    </tr>\n",
              "    <tr>\n",
              "      <th id=\"T_432bf_level0_row2\" class=\"row_heading level0 row2\" >2</th>\n",
              "      <td id=\"T_432bf_row2_col0\" class=\"data row2 col0\" >0.6278</td>\n",
              "      <td id=\"T_432bf_row2_col1\" class=\"data row2 col1\" >0.8209</td>\n",
              "      <td id=\"T_432bf_row2_col2\" class=\"data row2 col2\" >0.6278</td>\n",
              "      <td id=\"T_432bf_row2_col3\" class=\"data row2 col3\" >0.6392</td>\n",
              "      <td id=\"T_432bf_row2_col4\" class=\"data row2 col4\" >0.6131</td>\n",
              "      <td id=\"T_432bf_row2_col5\" class=\"data row2 col5\" >0.4172</td>\n",
              "      <td id=\"T_432bf_row2_col6\" class=\"data row2 col6\" >0.4238</td>\n",
              "    </tr>\n",
              "    <tr>\n",
              "      <th id=\"T_432bf_level0_row3\" class=\"row_heading level0 row3\" >3</th>\n",
              "      <td id=\"T_432bf_row3_col0\" class=\"data row3 col0\" >0.6408</td>\n",
              "      <td id=\"T_432bf_row3_col1\" class=\"data row3 col1\" >0.8440</td>\n",
              "      <td id=\"T_432bf_row3_col2\" class=\"data row3 col2\" >0.6408</td>\n",
              "      <td id=\"T_432bf_row3_col3\" class=\"data row3 col3\" >0.6241</td>\n",
              "      <td id=\"T_432bf_row3_col4\" class=\"data row3 col4\" >0.6277</td>\n",
              "      <td id=\"T_432bf_row3_col5\" class=\"data row3 col5\" >0.4485</td>\n",
              "      <td id=\"T_432bf_row3_col6\" class=\"data row3 col6\" >0.4505</td>\n",
              "    </tr>\n",
              "    <tr>\n",
              "      <th id=\"T_432bf_level0_row4\" class=\"row_heading level0 row4\" >4</th>\n",
              "      <td id=\"T_432bf_row4_col0\" class=\"data row4 col0\" >0.6667</td>\n",
              "      <td id=\"T_432bf_row4_col1\" class=\"data row4 col1\" >0.8496</td>\n",
              "      <td id=\"T_432bf_row4_col2\" class=\"data row4 col2\" >0.6667</td>\n",
              "      <td id=\"T_432bf_row4_col3\" class=\"data row4 col3\" >0.6599</td>\n",
              "      <td id=\"T_432bf_row4_col4\" class=\"data row4 col4\" >0.6504</td>\n",
              "      <td id=\"T_432bf_row4_col5\" class=\"data row4 col5\" >0.4828</td>\n",
              "      <td id=\"T_432bf_row4_col6\" class=\"data row4 col6\" >0.4880</td>\n",
              "    </tr>\n",
              "    <tr>\n",
              "      <th id=\"T_432bf_level0_row5\" class=\"row_heading level0 row5\" >5</th>\n",
              "      <td id=\"T_432bf_row5_col0\" class=\"data row5 col0\" >0.6591</td>\n",
              "      <td id=\"T_432bf_row5_col1\" class=\"data row5 col1\" >0.0000</td>\n",
              "      <td id=\"T_432bf_row5_col2\" class=\"data row5 col2\" >0.6591</td>\n",
              "      <td id=\"T_432bf_row5_col3\" class=\"data row5 col3\" >0.6536</td>\n",
              "      <td id=\"T_432bf_row5_col4\" class=\"data row5 col4\" >0.6469</td>\n",
              "      <td id=\"T_432bf_row5_col5\" class=\"data row5 col5\" >0.4705</td>\n",
              "      <td id=\"T_432bf_row5_col6\" class=\"data row5 col6\" >0.4761</td>\n",
              "    </tr>\n",
              "    <tr>\n",
              "      <th id=\"T_432bf_level0_row6\" class=\"row_heading level0 row6\" >6</th>\n",
              "      <td id=\"T_432bf_row6_col0\" class=\"data row6 col0\" >0.6526</td>\n",
              "      <td id=\"T_432bf_row6_col1\" class=\"data row6 col1\" >0.0000</td>\n",
              "      <td id=\"T_432bf_row6_col2\" class=\"data row6 col2\" >0.6526</td>\n",
              "      <td id=\"T_432bf_row6_col3\" class=\"data row6 col3\" >0.6571</td>\n",
              "      <td id=\"T_432bf_row6_col4\" class=\"data row6 col4\" >0.6429</td>\n",
              "      <td id=\"T_432bf_row6_col5\" class=\"data row6 col5\" >0.4594</td>\n",
              "      <td id=\"T_432bf_row6_col6\" class=\"data row6 col6\" >0.4655</td>\n",
              "    </tr>\n",
              "    <tr>\n",
              "      <th id=\"T_432bf_level0_row7\" class=\"row_heading level0 row7\" >7</th>\n",
              "      <td id=\"T_432bf_row7_col0\" class=\"data row7 col0\" >0.6104</td>\n",
              "      <td id=\"T_432bf_row7_col1\" class=\"data row7 col1\" >0.0000</td>\n",
              "      <td id=\"T_432bf_row7_col2\" class=\"data row7 col2\" >0.6104</td>\n",
              "      <td id=\"T_432bf_row7_col3\" class=\"data row7 col3\" >0.6016</td>\n",
              "      <td id=\"T_432bf_row7_col4\" class=\"data row7 col4\" >0.5891</td>\n",
              "      <td id=\"T_432bf_row7_col5\" class=\"data row7 col5\" >0.3882</td>\n",
              "      <td id=\"T_432bf_row7_col6\" class=\"data row7 col6\" >0.3945</td>\n",
              "    </tr>\n",
              "    <tr>\n",
              "      <th id=\"T_432bf_level0_row8\" class=\"row_heading level0 row8\" >8</th>\n",
              "      <td id=\"T_432bf_row8_col0\" class=\"data row8 col0\" >0.6364</td>\n",
              "      <td id=\"T_432bf_row8_col1\" class=\"data row8 col1\" >0.0000</td>\n",
              "      <td id=\"T_432bf_row8_col2\" class=\"data row8 col2\" >0.6364</td>\n",
              "      <td id=\"T_432bf_row8_col3\" class=\"data row8 col3\" >0.6297</td>\n",
              "      <td id=\"T_432bf_row8_col4\" class=\"data row8 col4\" >0.6117</td>\n",
              "      <td id=\"T_432bf_row8_col5\" class=\"data row8 col5\" >0.4274</td>\n",
              "      <td id=\"T_432bf_row8_col6\" class=\"data row8 col6\" >0.4352</td>\n",
              "    </tr>\n",
              "    <tr>\n",
              "      <th id=\"T_432bf_level0_row9\" class=\"row_heading level0 row9\" >9</th>\n",
              "      <td id=\"T_432bf_row9_col0\" class=\"data row9 col0\" >0.6526</td>\n",
              "      <td id=\"T_432bf_row9_col1\" class=\"data row9 col1\" >0.0000</td>\n",
              "      <td id=\"T_432bf_row9_col2\" class=\"data row9 col2\" >0.6526</td>\n",
              "      <td id=\"T_432bf_row9_col3\" class=\"data row9 col3\" >0.6619</td>\n",
              "      <td id=\"T_432bf_row9_col4\" class=\"data row9 col4\" >0.6345</td>\n",
              "      <td id=\"T_432bf_row9_col5\" class=\"data row9 col5\" >0.4516</td>\n",
              "      <td id=\"T_432bf_row9_col6\" class=\"data row9 col6\" >0.4620</td>\n",
              "    </tr>\n",
              "    <tr>\n",
              "      <th id=\"T_432bf_level0_row10\" class=\"row_heading level0 row10\" >Mean</th>\n",
              "      <td id=\"T_432bf_row10_col0\" class=\"data row10 col0\" >0.6457</td>\n",
              "      <td id=\"T_432bf_row10_col1\" class=\"data row10 col1\" >0.2514</td>\n",
              "      <td id=\"T_432bf_row10_col2\" class=\"data row10 col2\" >0.6457</td>\n",
              "      <td id=\"T_432bf_row10_col3\" class=\"data row10 col3\" >0.6423</td>\n",
              "      <td id=\"T_432bf_row10_col4\" class=\"data row10 col4\" >0.6297</td>\n",
              "      <td id=\"T_432bf_row10_col5\" class=\"data row10 col5\" >0.4466</td>\n",
              "      <td id=\"T_432bf_row10_col6\" class=\"data row10 col6\" >0.4535</td>\n",
              "    </tr>\n",
              "    <tr>\n",
              "      <th id=\"T_432bf_level0_row11\" class=\"row_heading level0 row11\" >Std</th>\n",
              "      <td id=\"T_432bf_row11_col0\" class=\"data row11 col0\" >0.0179</td>\n",
              "      <td id=\"T_432bf_row11_col1\" class=\"data row11 col1\" >0.3842</td>\n",
              "      <td id=\"T_432bf_row11_col2\" class=\"data row11 col2\" >0.0179</td>\n",
              "      <td id=\"T_432bf_row11_col3\" class=\"data row11 col3\" >0.0207</td>\n",
              "      <td id=\"T_432bf_row11_col4\" class=\"data row11 col4\" >0.0206</td>\n",
              "      <td id=\"T_432bf_row11_col5\" class=\"data row11 col5\" >0.0299</td>\n",
              "      <td id=\"T_432bf_row11_col6\" class=\"data row11 col6\" >0.0299</td>\n",
              "    </tr>\n",
              "  </tbody>\n",
              "</table>\n"
            ],
            "text/plain": [
              "<pandas.io.formats.style.Styler at 0x7fe14c50f580>"
            ]
          },
          "metadata": {}
        },
        {
          "output_type": "display_data",
          "data": {
            "application/vnd.jupyter.widget-view+json": {
              "version_major": 2,
              "version_minor": 0,
              "model_id": "9a6b82dd634746ceb1e3082e2502b6d3"
            },
            "text/plain": [
              "Processing:   0%|          | 0/4 [00:00<?, ?it/s]"
            ]
          },
          "metadata": {
            "application/vnd.jupyter.widget-view+json": {
              "colab": {
                "custom_widget_manager": {
                  "url": "https://ssl.gstatic.com/colaboratory-static/widgets/colab-cdn-widget-manager/d2e234f7cc04bf79/manager.min.js"
                }
              }
            }
          }
        },
        {
          "output_type": "display_data",
          "data": {
            "text/html": [],
            "text/plain": [
              "<IPython.core.display.HTML object>"
            ]
          },
          "metadata": {}
        }
      ],
      "metadata": {
        "colab": {
          "base_uri": "https://localhost:8080/",
          "height": 457,
          "referenced_widgets": [
            "9a6b82dd634746ceb1e3082e2502b6d3",
            "4ac5c29d9125452d8f4d012615cd956f",
            "7e0db863596646ce82ed185331fceb2d",
            "120f69dfe9de4b2bacd4b4e7247c14e9",
            "0abeda73e78a437fa23a3c11102de241",
            "604ba8d9309d4da69d7833b2265e29b1",
            "a1820034a89e478193b21dc57bb5d834",
            "a73a1889d0a142a6a0a572e96adc8756",
            "3b971aed6bf444358c8dafc94d49612e",
            "c088f8d317844cd9a6fc5fe6acfeb720",
            "fe5e2b818859460a87b14b600ec11b0e"
          ]
        },
        "id": "WYHQ1DxkfuNm",
        "outputId": "926287f9-48c0-41d8-ad4f-de883c38c8a8"
      }
    },
    {
      "cell_type": "markdown",
      "source": [
        "# 8.3 Light Gradient Boosting Machine"
      ],
      "metadata": {
        "id": "8IA_BtchfuNt"
      }
    },
    {
      "cell_type": "code",
      "execution_count": 15,
      "source": [
        "lightgbm = create_model('lightgbm')"
      ],
      "outputs": [
        {
          "output_type": "display_data",
          "data": {
            "text/html": [],
            "text/plain": [
              "<IPython.core.display.HTML object>"
            ]
          },
          "metadata": {}
        },
        {
          "output_type": "display_data",
          "data": {
            "text/html": [
              "<style type=\"text/css\">\n",
              "#T_71966_row10_col0, #T_71966_row10_col1, #T_71966_row10_col2, #T_71966_row10_col3, #T_71966_row10_col4, #T_71966_row10_col5, #T_71966_row10_col6 {\n",
              "  background: yellow;\n",
              "}\n",
              "</style>\n",
              "<table id=\"T_71966_\" class=\"dataframe\">\n",
              "  <thead>\n",
              "    <tr>\n",
              "      <th class=\"blank level0\" >&nbsp;</th>\n",
              "      <th class=\"col_heading level0 col0\" >Accuracy</th>\n",
              "      <th class=\"col_heading level0 col1\" >AUC</th>\n",
              "      <th class=\"col_heading level0 col2\" >Recall</th>\n",
              "      <th class=\"col_heading level0 col3\" >Prec.</th>\n",
              "      <th class=\"col_heading level0 col4\" >F1</th>\n",
              "      <th class=\"col_heading level0 col5\" >Kappa</th>\n",
              "      <th class=\"col_heading level0 col6\" >MCC</th>\n",
              "    </tr>\n",
              "    <tr>\n",
              "      <th class=\"index_name level0\" >Fold</th>\n",
              "      <th class=\"blank col0\" >&nbsp;</th>\n",
              "      <th class=\"blank col1\" >&nbsp;</th>\n",
              "      <th class=\"blank col2\" >&nbsp;</th>\n",
              "      <th class=\"blank col3\" >&nbsp;</th>\n",
              "      <th class=\"blank col4\" >&nbsp;</th>\n",
              "      <th class=\"blank col5\" >&nbsp;</th>\n",
              "      <th class=\"blank col6\" >&nbsp;</th>\n",
              "    </tr>\n",
              "  </thead>\n",
              "  <tbody>\n",
              "    <tr>\n",
              "      <th id=\"T_71966_level0_row0\" class=\"row_heading level0 row0\" >0</th>\n",
              "      <td id=\"T_71966_row0_col0\" class=\"data row0 col0\" >0.6699</td>\n",
              "      <td id=\"T_71966_row0_col1\" class=\"data row0 col1\" >0.0000</td>\n",
              "      <td id=\"T_71966_row0_col2\" class=\"data row0 col2\" >0.6699</td>\n",
              "      <td id=\"T_71966_row0_col3\" class=\"data row0 col3\" >0.6715</td>\n",
              "      <td id=\"T_71966_row0_col4\" class=\"data row0 col4\" >0.6648</td>\n",
              "      <td id=\"T_71966_row0_col5\" class=\"data row0 col5\" >0.4947</td>\n",
              "      <td id=\"T_71966_row0_col6\" class=\"data row0 col6\" >0.4992</td>\n",
              "    </tr>\n",
              "    <tr>\n",
              "      <th id=\"T_71966_level0_row1\" class=\"row_heading level0 row1\" >1</th>\n",
              "      <td id=\"T_71966_row1_col0\" class=\"data row1 col0\" >0.6375</td>\n",
              "      <td id=\"T_71966_row1_col1\" class=\"data row1 col1\" >0.0000</td>\n",
              "      <td id=\"T_71966_row1_col2\" class=\"data row1 col2\" >0.6375</td>\n",
              "      <td id=\"T_71966_row1_col3\" class=\"data row1 col3\" >0.6380</td>\n",
              "      <td id=\"T_71966_row1_col4\" class=\"data row1 col4\" >0.6270</td>\n",
              "      <td id=\"T_71966_row1_col5\" class=\"data row1 col5\" >0.4442</td>\n",
              "      <td id=\"T_71966_row1_col6\" class=\"data row1 col6\" >0.4462</td>\n",
              "    </tr>\n",
              "    <tr>\n",
              "      <th id=\"T_71966_level0_row2\" class=\"row_heading level0 row2\" >2</th>\n",
              "      <td id=\"T_71966_row2_col0\" class=\"data row2 col0\" >0.6375</td>\n",
              "      <td id=\"T_71966_row2_col1\" class=\"data row2 col1\" >0.7902</td>\n",
              "      <td id=\"T_71966_row2_col2\" class=\"data row2 col2\" >0.6375</td>\n",
              "      <td id=\"T_71966_row2_col3\" class=\"data row2 col3\" >0.6440</td>\n",
              "      <td id=\"T_71966_row2_col4\" class=\"data row2 col4\" >0.6304</td>\n",
              "      <td id=\"T_71966_row2_col5\" class=\"data row2 col5\" >0.4432</td>\n",
              "      <td id=\"T_71966_row2_col6\" class=\"data row2 col6\" >0.4462</td>\n",
              "    </tr>\n",
              "    <tr>\n",
              "      <th id=\"T_71966_level0_row3\" class=\"row_heading level0 row3\" >3</th>\n",
              "      <td id=\"T_71966_row3_col0\" class=\"data row3 col0\" >0.6440</td>\n",
              "      <td id=\"T_71966_row3_col1\" class=\"data row3 col1\" >0.8247</td>\n",
              "      <td id=\"T_71966_row3_col2\" class=\"data row3 col2\" >0.6440</td>\n",
              "      <td id=\"T_71966_row3_col3\" class=\"data row3 col3\" >0.6383</td>\n",
              "      <td id=\"T_71966_row3_col4\" class=\"data row3 col4\" >0.6341</td>\n",
              "      <td id=\"T_71966_row3_col5\" class=\"data row3 col5\" >0.4539</td>\n",
              "      <td id=\"T_71966_row3_col6\" class=\"data row3 col6\" >0.4561</td>\n",
              "    </tr>\n",
              "    <tr>\n",
              "      <th id=\"T_71966_level0_row4\" class=\"row_heading level0 row4\" >4</th>\n",
              "      <td id=\"T_71966_row4_col0\" class=\"data row4 col0\" >0.6602</td>\n",
              "      <td id=\"T_71966_row4_col1\" class=\"data row4 col1\" >0.8316</td>\n",
              "      <td id=\"T_71966_row4_col2\" class=\"data row4 col2\" >0.6602</td>\n",
              "      <td id=\"T_71966_row4_col3\" class=\"data row4 col3\" >0.6332</td>\n",
              "      <td id=\"T_71966_row4_col4\" class=\"data row4 col4\" >0.6431</td>\n",
              "      <td id=\"T_71966_row4_col5\" class=\"data row4 col5\" >0.4766</td>\n",
              "      <td id=\"T_71966_row4_col6\" class=\"data row4 col6\" >0.4794</td>\n",
              "    </tr>\n",
              "    <tr>\n",
              "      <th id=\"T_71966_level0_row5\" class=\"row_heading level0 row5\" >5</th>\n",
              "      <td id=\"T_71966_row5_col0\" class=\"data row5 col0\" >0.6136</td>\n",
              "      <td id=\"T_71966_row5_col1\" class=\"data row5 col1\" >0.0000</td>\n",
              "      <td id=\"T_71966_row5_col2\" class=\"data row5 col2\" >0.6136</td>\n",
              "      <td id=\"T_71966_row5_col3\" class=\"data row5 col3\" >0.6106</td>\n",
              "      <td id=\"T_71966_row5_col4\" class=\"data row5 col4\" >0.6086</td>\n",
              "      <td id=\"T_71966_row5_col5\" class=\"data row5 col5\" >0.4127</td>\n",
              "      <td id=\"T_71966_row5_col6\" class=\"data row5 col6\" >0.4138</td>\n",
              "    </tr>\n",
              "    <tr>\n",
              "      <th id=\"T_71966_level0_row6\" class=\"row_heading level0 row6\" >6</th>\n",
              "      <td id=\"T_71966_row6_col0\" class=\"data row6 col0\" >0.6396</td>\n",
              "      <td id=\"T_71966_row6_col1\" class=\"data row6 col1\" >0.0000</td>\n",
              "      <td id=\"T_71966_row6_col2\" class=\"data row6 col2\" >0.6396</td>\n",
              "      <td id=\"T_71966_row6_col3\" class=\"data row6 col3\" >0.6395</td>\n",
              "      <td id=\"T_71966_row6_col4\" class=\"data row6 col4\" >0.6323</td>\n",
              "      <td id=\"T_71966_row6_col5\" class=\"data row6 col5\" >0.4450</td>\n",
              "      <td id=\"T_71966_row6_col6\" class=\"data row6 col6\" >0.4482</td>\n",
              "    </tr>\n",
              "    <tr>\n",
              "      <th id=\"T_71966_level0_row7\" class=\"row_heading level0 row7\" >7</th>\n",
              "      <td id=\"T_71966_row7_col0\" class=\"data row7 col0\" >0.6006</td>\n",
              "      <td id=\"T_71966_row7_col1\" class=\"data row7 col1\" >0.0000</td>\n",
              "      <td id=\"T_71966_row7_col2\" class=\"data row7 col2\" >0.6006</td>\n",
              "      <td id=\"T_71966_row7_col3\" class=\"data row7 col3\" >0.6035</td>\n",
              "      <td id=\"T_71966_row7_col4\" class=\"data row7 col4\" >0.5835</td>\n",
              "      <td id=\"T_71966_row7_col5\" class=\"data row7 col5\" >0.3763</td>\n",
              "      <td id=\"T_71966_row7_col6\" class=\"data row7 col6\" >0.3820</td>\n",
              "    </tr>\n",
              "    <tr>\n",
              "      <th id=\"T_71966_level0_row8\" class=\"row_heading level0 row8\" >8</th>\n",
              "      <td id=\"T_71966_row8_col0\" class=\"data row8 col0\" >0.6396</td>\n",
              "      <td id=\"T_71966_row8_col1\" class=\"data row8 col1\" >0.0000</td>\n",
              "      <td id=\"T_71966_row8_col2\" class=\"data row8 col2\" >0.6396</td>\n",
              "      <td id=\"T_71966_row8_col3\" class=\"data row8 col3\" >0.6206</td>\n",
              "      <td id=\"T_71966_row8_col4\" class=\"data row8 col4\" >0.6222</td>\n",
              "      <td id=\"T_71966_row8_col5\" class=\"data row8 col5\" >0.4400</td>\n",
              "      <td id=\"T_71966_row8_col6\" class=\"data row8 col6\" >0.4449</td>\n",
              "    </tr>\n",
              "    <tr>\n",
              "      <th id=\"T_71966_level0_row9\" class=\"row_heading level0 row9\" >9</th>\n",
              "      <td id=\"T_71966_row9_col0\" class=\"data row9 col0\" >0.6169</td>\n",
              "      <td id=\"T_71966_row9_col1\" class=\"data row9 col1\" >0.0000</td>\n",
              "      <td id=\"T_71966_row9_col2\" class=\"data row9 col2\" >0.6169</td>\n",
              "      <td id=\"T_71966_row9_col3\" class=\"data row9 col3\" >0.6063</td>\n",
              "      <td id=\"T_71966_row9_col4\" class=\"data row9 col4\" >0.6020</td>\n",
              "      <td id=\"T_71966_row9_col5\" class=\"data row9 col5\" >0.4066</td>\n",
              "      <td id=\"T_71966_row9_col6\" class=\"data row9 col6\" >0.4107</td>\n",
              "    </tr>\n",
              "    <tr>\n",
              "      <th id=\"T_71966_level0_row10\" class=\"row_heading level0 row10\" >Mean</th>\n",
              "      <td id=\"T_71966_row10_col0\" class=\"data row10 col0\" >0.6360</td>\n",
              "      <td id=\"T_71966_row10_col1\" class=\"data row10 col1\" >0.2446</td>\n",
              "      <td id=\"T_71966_row10_col2\" class=\"data row10 col2\" >0.6360</td>\n",
              "      <td id=\"T_71966_row10_col3\" class=\"data row10 col3\" >0.6306</td>\n",
              "      <td id=\"T_71966_row10_col4\" class=\"data row10 col4\" >0.6248</td>\n",
              "      <td id=\"T_71966_row10_col5\" class=\"data row10 col5\" >0.4393</td>\n",
              "      <td id=\"T_71966_row10_col6\" class=\"data row10 col6\" >0.4427</td>\n",
              "    </tr>\n",
              "    <tr>\n",
              "      <th id=\"T_71966_level0_row11\" class=\"row_heading level0 row11\" >Std</th>\n",
              "      <td id=\"T_71966_row11_col0\" class=\"data row11 col0\" >0.0199</td>\n",
              "      <td id=\"T_71966_row11_col1\" class=\"data row11 col1\" >0.3738</td>\n",
              "      <td id=\"T_71966_row11_col2\" class=\"data row11 col2\" >0.0199</td>\n",
              "      <td id=\"T_71966_row11_col3\" class=\"data row11 col3\" >0.0197</td>\n",
              "      <td id=\"T_71966_row11_col4\" class=\"data row11 col4\" >0.0215</td>\n",
              "      <td id=\"T_71966_row11_col5\" class=\"data row11 col5\" >0.0324</td>\n",
              "      <td id=\"T_71966_row11_col6\" class=\"data row11 col6\" >0.0321</td>\n",
              "    </tr>\n",
              "  </tbody>\n",
              "</table>\n"
            ],
            "text/plain": [
              "<pandas.io.formats.style.Styler at 0x7fe14c48ef10>"
            ]
          },
          "metadata": {}
        },
        {
          "output_type": "display_data",
          "data": {
            "application/vnd.jupyter.widget-view+json": {
              "version_major": 2,
              "version_minor": 0,
              "model_id": "667ef4086eac4e32a68ba57bd19e7036"
            },
            "text/plain": [
              "Processing:   0%|          | 0/4 [00:00<?, ?it/s]"
            ]
          },
          "metadata": {
            "application/vnd.jupyter.widget-view+json": {
              "colab": {
                "custom_widget_manager": {
                  "url": "https://ssl.gstatic.com/colaboratory-static/widgets/colab-cdn-widget-manager/d2e234f7cc04bf79/manager.min.js"
                }
              }
            }
          }
        },
        {
          "output_type": "display_data",
          "data": {
            "text/html": [],
            "text/plain": [
              "<IPython.core.display.HTML object>"
            ]
          },
          "metadata": {}
        }
      ],
      "metadata": {
        "colab": {
          "base_uri": "https://localhost:8080/",
          "height": 457,
          "referenced_widgets": [
            "667ef4086eac4e32a68ba57bd19e7036",
            "3579c29538b24e118cbd250d024db113",
            "d757c4aa8b664cda88885a0353dabb86",
            "a77bed6946374957919862c83ba13e38",
            "6534784f5e534c90924206bed9606a15",
            "b2276f555a034f2cba6f975b19405ef4",
            "4ab2d7b056d84c5d857ac58802fc6d69",
            "e6f0081680104a469c6092341999e044",
            "1d5b9fa97c384e9e9bd152a11fb7b187",
            "f8500affdf50400b99723da69cf25c21",
            "f5b9d3d80adb47ed8532a5b40abe707e"
          ]
        },
        "id": "u3nAFk1MfuNv",
        "outputId": "4efab8dd-65fb-473f-f05f-52a295621769"
      }
    },
    {
      "cell_type": "markdown",
      "source": [
        "# 9.0 Tune a Model"
      ],
      "metadata": {
        "id": "jzY5pn-OfuN4"
      }
    },
    {
      "cell_type": "markdown",
      "source": [
        "# 9.1 Random Forest Classifier"
      ],
      "metadata": {
        "id": "WVgKXyjdfuN7"
      }
    },
    {
      "cell_type": "code",
      "execution_count": 16,
      "source": [
        "tuned_rf = tune_model(rf)"
      ],
      "outputs": [
        {
          "output_type": "display_data",
          "data": {
            "text/html": [],
            "text/plain": [
              "<IPython.core.display.HTML object>"
            ]
          },
          "metadata": {}
        },
        {
          "output_type": "display_data",
          "data": {
            "text/html": [
              "<style type=\"text/css\">\n",
              "#T_be9ac_row10_col0, #T_be9ac_row10_col1, #T_be9ac_row10_col2, #T_be9ac_row10_col3, #T_be9ac_row10_col4, #T_be9ac_row10_col5, #T_be9ac_row10_col6 {\n",
              "  background: yellow;\n",
              "}\n",
              "</style>\n",
              "<table id=\"T_be9ac_\" class=\"dataframe\">\n",
              "  <thead>\n",
              "    <tr>\n",
              "      <th class=\"blank level0\" >&nbsp;</th>\n",
              "      <th class=\"col_heading level0 col0\" >Accuracy</th>\n",
              "      <th class=\"col_heading level0 col1\" >AUC</th>\n",
              "      <th class=\"col_heading level0 col2\" >Recall</th>\n",
              "      <th class=\"col_heading level0 col3\" >Prec.</th>\n",
              "      <th class=\"col_heading level0 col4\" >F1</th>\n",
              "      <th class=\"col_heading level0 col5\" >Kappa</th>\n",
              "      <th class=\"col_heading level0 col6\" >MCC</th>\n",
              "    </tr>\n",
              "    <tr>\n",
              "      <th class=\"index_name level0\" >Fold</th>\n",
              "      <th class=\"blank col0\" >&nbsp;</th>\n",
              "      <th class=\"blank col1\" >&nbsp;</th>\n",
              "      <th class=\"blank col2\" >&nbsp;</th>\n",
              "      <th class=\"blank col3\" >&nbsp;</th>\n",
              "      <th class=\"blank col4\" >&nbsp;</th>\n",
              "      <th class=\"blank col5\" >&nbsp;</th>\n",
              "      <th class=\"blank col6\" >&nbsp;</th>\n",
              "    </tr>\n",
              "  </thead>\n",
              "  <tbody>\n",
              "    <tr>\n",
              "      <th id=\"T_be9ac_level0_row0\" class=\"row_heading level0 row0\" >0</th>\n",
              "      <td id=\"T_be9ac_row0_col0\" class=\"data row0 col0\" >0.5146</td>\n",
              "      <td id=\"T_be9ac_row0_col1\" class=\"data row0 col1\" >0.0000</td>\n",
              "      <td id=\"T_be9ac_row0_col2\" class=\"data row0 col2\" >0.5146</td>\n",
              "      <td id=\"T_be9ac_row0_col3\" class=\"data row0 col3\" >0.4910</td>\n",
              "      <td id=\"T_be9ac_row0_col4\" class=\"data row0 col4\" >0.4974</td>\n",
              "      <td id=\"T_be9ac_row0_col5\" class=\"data row0 col5\" >0.2449</td>\n",
              "      <td id=\"T_be9ac_row0_col6\" class=\"data row0 col6\" >0.2485</td>\n",
              "    </tr>\n",
              "    <tr>\n",
              "      <th id=\"T_be9ac_level0_row1\" class=\"row_heading level0 row1\" >1</th>\n",
              "      <td id=\"T_be9ac_row1_col0\" class=\"data row1 col0\" >0.5049</td>\n",
              "      <td id=\"T_be9ac_row1_col1\" class=\"data row1 col1\" >0.0000</td>\n",
              "      <td id=\"T_be9ac_row1_col2\" class=\"data row1 col2\" >0.5049</td>\n",
              "      <td id=\"T_be9ac_row1_col3\" class=\"data row1 col3\" >0.4816</td>\n",
              "      <td id=\"T_be9ac_row1_col4\" class=\"data row1 col4\" >0.4895</td>\n",
              "      <td id=\"T_be9ac_row1_col5\" class=\"data row1 col5\" >0.2330</td>\n",
              "      <td id=\"T_be9ac_row1_col6\" class=\"data row1 col6\" >0.2352</td>\n",
              "    </tr>\n",
              "    <tr>\n",
              "      <th id=\"T_be9ac_level0_row2\" class=\"row_heading level0 row2\" >2</th>\n",
              "      <td id=\"T_be9ac_row2_col0\" class=\"data row2 col0\" >0.4854</td>\n",
              "      <td id=\"T_be9ac_row2_col1\" class=\"data row2 col1\" >0.6760</td>\n",
              "      <td id=\"T_be9ac_row2_col2\" class=\"data row2 col2\" >0.4854</td>\n",
              "      <td id=\"T_be9ac_row2_col3\" class=\"data row2 col3\" >0.4552</td>\n",
              "      <td id=\"T_be9ac_row2_col4\" class=\"data row2 col4\" >0.4592</td>\n",
              "      <td id=\"T_be9ac_row2_col5\" class=\"data row2 col5\" >0.1828</td>\n",
              "      <td id=\"T_be9ac_row2_col6\" class=\"data row2 col6\" >0.1881</td>\n",
              "    </tr>\n",
              "    <tr>\n",
              "      <th id=\"T_be9ac_level0_row3\" class=\"row_heading level0 row3\" >3</th>\n",
              "      <td id=\"T_be9ac_row3_col0\" class=\"data row3 col0\" >0.5113</td>\n",
              "      <td id=\"T_be9ac_row3_col1\" class=\"data row3 col1\" >0.6899</td>\n",
              "      <td id=\"T_be9ac_row3_col2\" class=\"data row3 col2\" >0.5113</td>\n",
              "      <td id=\"T_be9ac_row3_col3\" class=\"data row3 col3\" >0.4823</td>\n",
              "      <td id=\"T_be9ac_row3_col4\" class=\"data row3 col4\" >0.4935</td>\n",
              "      <td id=\"T_be9ac_row3_col5\" class=\"data row3 col5\" >0.2447</td>\n",
              "      <td id=\"T_be9ac_row3_col6\" class=\"data row3 col6\" >0.2466</td>\n",
              "    </tr>\n",
              "    <tr>\n",
              "      <th id=\"T_be9ac_level0_row4\" class=\"row_heading level0 row4\" >4</th>\n",
              "      <td id=\"T_be9ac_row4_col0\" class=\"data row4 col0\" >0.5307</td>\n",
              "      <td id=\"T_be9ac_row4_col1\" class=\"data row4 col1\" >0.7066</td>\n",
              "      <td id=\"T_be9ac_row4_col2\" class=\"data row4 col2\" >0.5307</td>\n",
              "      <td id=\"T_be9ac_row4_col3\" class=\"data row4 col3\" >0.5274</td>\n",
              "      <td id=\"T_be9ac_row4_col4\" class=\"data row4 col4\" >0.4982</td>\n",
              "      <td id=\"T_be9ac_row4_col5\" class=\"data row4 col5\" >0.2442</td>\n",
              "      <td id=\"T_be9ac_row4_col6\" class=\"data row4 col6\" >0.2543</td>\n",
              "    </tr>\n",
              "    <tr>\n",
              "      <th id=\"T_be9ac_level0_row5\" class=\"row_heading level0 row5\" >5</th>\n",
              "      <td id=\"T_be9ac_row5_col0\" class=\"data row5 col0\" >0.5487</td>\n",
              "      <td id=\"T_be9ac_row5_col1\" class=\"data row5 col1\" >0.0000</td>\n",
              "      <td id=\"T_be9ac_row5_col2\" class=\"data row5 col2\" >0.5487</td>\n",
              "      <td id=\"T_be9ac_row5_col3\" class=\"data row5 col3\" >0.5220</td>\n",
              "      <td id=\"T_be9ac_row5_col4\" class=\"data row5 col4\" >0.5275</td>\n",
              "      <td id=\"T_be9ac_row5_col5\" class=\"data row5 col5\" >0.2894</td>\n",
              "      <td id=\"T_be9ac_row5_col6\" class=\"data row5 col6\" >0.2955</td>\n",
              "    </tr>\n",
              "    <tr>\n",
              "      <th id=\"T_be9ac_level0_row6\" class=\"row_heading level0 row6\" >6</th>\n",
              "      <td id=\"T_be9ac_row6_col0\" class=\"data row6 col0\" >0.5162</td>\n",
              "      <td id=\"T_be9ac_row6_col1\" class=\"data row6 col1\" >0.0000</td>\n",
              "      <td id=\"T_be9ac_row6_col2\" class=\"data row6 col2\" >0.5162</td>\n",
              "      <td id=\"T_be9ac_row6_col3\" class=\"data row6 col3\" >0.4755</td>\n",
              "      <td id=\"T_be9ac_row6_col4\" class=\"data row6 col4\" >0.4886</td>\n",
              "      <td id=\"T_be9ac_row6_col5\" class=\"data row6 col5\" >0.2382</td>\n",
              "      <td id=\"T_be9ac_row6_col6\" class=\"data row6 col6\" >0.2424</td>\n",
              "    </tr>\n",
              "    <tr>\n",
              "      <th id=\"T_be9ac_level0_row7\" class=\"row_heading level0 row7\" >7</th>\n",
              "      <td id=\"T_be9ac_row7_col0\" class=\"data row7 col0\" >0.4968</td>\n",
              "      <td id=\"T_be9ac_row7_col1\" class=\"data row7 col1\" >0.0000</td>\n",
              "      <td id=\"T_be9ac_row7_col2\" class=\"data row7 col2\" >0.4968</td>\n",
              "      <td id=\"T_be9ac_row7_col3\" class=\"data row7 col3\" >0.4690</td>\n",
              "      <td id=\"T_be9ac_row7_col4\" class=\"data row7 col4\" >0.4824</td>\n",
              "      <td id=\"T_be9ac_row7_col5\" class=\"data row7 col5\" >0.2378</td>\n",
              "      <td id=\"T_be9ac_row7_col6\" class=\"data row7 col6\" >0.2384</td>\n",
              "    </tr>\n",
              "    <tr>\n",
              "      <th id=\"T_be9ac_level0_row8\" class=\"row_heading level0 row8\" >8</th>\n",
              "      <td id=\"T_be9ac_row8_col0\" class=\"data row8 col0\" >0.5195</td>\n",
              "      <td id=\"T_be9ac_row8_col1\" class=\"data row8 col1\" >0.0000</td>\n",
              "      <td id=\"T_be9ac_row8_col2\" class=\"data row8 col2\" >0.5195</td>\n",
              "      <td id=\"T_be9ac_row8_col3\" class=\"data row8 col3\" >0.5216</td>\n",
              "      <td id=\"T_be9ac_row8_col4\" class=\"data row8 col4\" >0.4835</td>\n",
              "      <td id=\"T_be9ac_row8_col5\" class=\"data row8 col5\" >0.2185</td>\n",
              "      <td id=\"T_be9ac_row8_col6\" class=\"data row8 col6\" >0.2316</td>\n",
              "    </tr>\n",
              "    <tr>\n",
              "      <th id=\"T_be9ac_level0_row9\" class=\"row_heading level0 row9\" >9</th>\n",
              "      <td id=\"T_be9ac_row9_col0\" class=\"data row9 col0\" >0.4968</td>\n",
              "      <td id=\"T_be9ac_row9_col1\" class=\"data row9 col1\" >0.0000</td>\n",
              "      <td id=\"T_be9ac_row9_col2\" class=\"data row9 col2\" >0.4968</td>\n",
              "      <td id=\"T_be9ac_row9_col3\" class=\"data row9 col3\" >0.4606</td>\n",
              "      <td id=\"T_be9ac_row9_col4\" class=\"data row9 col4\" >0.4770</td>\n",
              "      <td id=\"T_be9ac_row9_col5\" class=\"data row9 col5\" >0.2213</td>\n",
              "      <td id=\"T_be9ac_row9_col6\" class=\"data row9 col6\" >0.2231</td>\n",
              "    </tr>\n",
              "    <tr>\n",
              "      <th id=\"T_be9ac_level0_row10\" class=\"row_heading level0 row10\" >Mean</th>\n",
              "      <td id=\"T_be9ac_row10_col0\" class=\"data row10 col0\" >0.5125</td>\n",
              "      <td id=\"T_be9ac_row10_col1\" class=\"data row10 col1\" >0.2073</td>\n",
              "      <td id=\"T_be9ac_row10_col2\" class=\"data row10 col2\" >0.5125</td>\n",
              "      <td id=\"T_be9ac_row10_col3\" class=\"data row10 col3\" >0.4886</td>\n",
              "      <td id=\"T_be9ac_row10_col4\" class=\"data row10 col4\" >0.4897</td>\n",
              "      <td id=\"T_be9ac_row10_col5\" class=\"data row10 col5\" >0.2355</td>\n",
              "      <td id=\"T_be9ac_row10_col6\" class=\"data row10 col6\" >0.2404</td>\n",
              "    </tr>\n",
              "    <tr>\n",
              "      <th id=\"T_be9ac_level0_row11\" class=\"row_heading level0 row11\" >Std</th>\n",
              "      <td id=\"T_be9ac_row11_col0\" class=\"data row11 col0\" >0.0173</td>\n",
              "      <td id=\"T_be9ac_row11_col1\" class=\"data row11 col1\" >0.3167</td>\n",
              "      <td id=\"T_be9ac_row11_col2\" class=\"data row11 col2\" >0.0173</td>\n",
              "      <td id=\"T_be9ac_row11_col3\" class=\"data row11 col3\" >0.0250</td>\n",
              "      <td id=\"T_be9ac_row11_col4\" class=\"data row11 col4\" >0.0166</td>\n",
              "      <td id=\"T_be9ac_row11_col5\" class=\"data row11 col5\" >0.0254</td>\n",
              "      <td id=\"T_be9ac_row11_col6\" class=\"data row11 col6\" >0.0255</td>\n",
              "    </tr>\n",
              "  </tbody>\n",
              "</table>\n"
            ],
            "text/plain": [
              "<pandas.io.formats.style.Styler at 0x7fe156a0cd00>"
            ]
          },
          "metadata": {}
        },
        {
          "output_type": "display_data",
          "data": {
            "application/vnd.jupyter.widget-view+json": {
              "version_major": 2,
              "version_minor": 0,
              "model_id": "7b931b8e77764d10ab4848f63876b5b4"
            },
            "text/plain": [
              "Processing:   0%|          | 0/7 [00:00<?, ?it/s]"
            ]
          },
          "metadata": {
            "application/vnd.jupyter.widget-view+json": {
              "colab": {
                "custom_widget_manager": {
                  "url": "https://ssl.gstatic.com/colaboratory-static/widgets/colab-cdn-widget-manager/d2e234f7cc04bf79/manager.min.js"
                }
              }
            }
          }
        },
        {
          "output_type": "stream",
          "name": "stdout",
          "text": [
            "Fitting 10 folds for each of 10 candidates, totalling 100 fits\n"
          ]
        },
        {
          "output_type": "display_data",
          "data": {
            "text/html": [],
            "text/plain": [
              "<IPython.core.display.HTML object>"
            ]
          },
          "metadata": {}
        },
        {
          "output_type": "stream",
          "name": "stdout",
          "text": [
            "Original model was better than the tuned model, hence it will be returned. NOTE: The display metrics are for the tuned model (not the original one).\n"
          ]
        }
      ],
      "metadata": {
        "colab": {
          "base_uri": "https://localhost:8080/",
          "height": 493,
          "referenced_widgets": [
            "7b931b8e77764d10ab4848f63876b5b4",
            "eecbf2ab28934b35b4119ff0e91bf690",
            "fb53b5f2ed254bcc924c462b445a5798",
            "e51be9063ea746719c2a135a42579881",
            "7f09b3904c5749249f8ac07bbadae03b",
            "a624175808634cd79f213208da02be45",
            "c2675bcd83f44aefa204321a56b8271a",
            "4e67ed192abe4a43891fec76f1c2df4e",
            "063c9036bb4f45cca6562bcb7e84e458",
            "ed1bb83db2624b40bcbbe796318b266a",
            "e91e2edbe9fb46fe90e25009b84acee6"
          ]
        },
        "id": "sQqeuiqLfuN9",
        "outputId": "89ae3ae5-a905-448b-ea1c-6c43c21a388e"
      }
    },
    {
      "cell_type": "code",
      "execution_count": 17,
      "source": [
        "tuned_best = tune_model(best)"
      ],
      "outputs": [
        {
          "output_type": "display_data",
          "data": {
            "text/html": [],
            "text/plain": [
              "<IPython.core.display.HTML object>"
            ]
          },
          "metadata": {}
        },
        {
          "output_type": "display_data",
          "data": {
            "text/html": [
              "<style type=\"text/css\">\n",
              "#T_9398d_row10_col0, #T_9398d_row10_col1, #T_9398d_row10_col2, #T_9398d_row10_col3, #T_9398d_row10_col4, #T_9398d_row10_col5, #T_9398d_row10_col6 {\n",
              "  background: yellow;\n",
              "}\n",
              "</style>\n",
              "<table id=\"T_9398d_\" class=\"dataframe\">\n",
              "  <thead>\n",
              "    <tr>\n",
              "      <th class=\"blank level0\" >&nbsp;</th>\n",
              "      <th class=\"col_heading level0 col0\" >Accuracy</th>\n",
              "      <th class=\"col_heading level0 col1\" >AUC</th>\n",
              "      <th class=\"col_heading level0 col2\" >Recall</th>\n",
              "      <th class=\"col_heading level0 col3\" >Prec.</th>\n",
              "      <th class=\"col_heading level0 col4\" >F1</th>\n",
              "      <th class=\"col_heading level0 col5\" >Kappa</th>\n",
              "      <th class=\"col_heading level0 col6\" >MCC</th>\n",
              "    </tr>\n",
              "    <tr>\n",
              "      <th class=\"index_name level0\" >Fold</th>\n",
              "      <th class=\"blank col0\" >&nbsp;</th>\n",
              "      <th class=\"blank col1\" >&nbsp;</th>\n",
              "      <th class=\"blank col2\" >&nbsp;</th>\n",
              "      <th class=\"blank col3\" >&nbsp;</th>\n",
              "      <th class=\"blank col4\" >&nbsp;</th>\n",
              "      <th class=\"blank col5\" >&nbsp;</th>\n",
              "      <th class=\"blank col6\" >&nbsp;</th>\n",
              "    </tr>\n",
              "  </thead>\n",
              "  <tbody>\n",
              "    <tr>\n",
              "      <th id=\"T_9398d_level0_row0\" class=\"row_heading level0 row0\" >0</th>\n",
              "      <td id=\"T_9398d_row0_col0\" class=\"data row0 col0\" >0.5146</td>\n",
              "      <td id=\"T_9398d_row0_col1\" class=\"data row0 col1\" >0.0000</td>\n",
              "      <td id=\"T_9398d_row0_col2\" class=\"data row0 col2\" >0.5146</td>\n",
              "      <td id=\"T_9398d_row0_col3\" class=\"data row0 col3\" >0.4910</td>\n",
              "      <td id=\"T_9398d_row0_col4\" class=\"data row0 col4\" >0.4974</td>\n",
              "      <td id=\"T_9398d_row0_col5\" class=\"data row0 col5\" >0.2449</td>\n",
              "      <td id=\"T_9398d_row0_col6\" class=\"data row0 col6\" >0.2485</td>\n",
              "    </tr>\n",
              "    <tr>\n",
              "      <th id=\"T_9398d_level0_row1\" class=\"row_heading level0 row1\" >1</th>\n",
              "      <td id=\"T_9398d_row1_col0\" class=\"data row1 col0\" >0.5049</td>\n",
              "      <td id=\"T_9398d_row1_col1\" class=\"data row1 col1\" >0.0000</td>\n",
              "      <td id=\"T_9398d_row1_col2\" class=\"data row1 col2\" >0.5049</td>\n",
              "      <td id=\"T_9398d_row1_col3\" class=\"data row1 col3\" >0.4816</td>\n",
              "      <td id=\"T_9398d_row1_col4\" class=\"data row1 col4\" >0.4895</td>\n",
              "      <td id=\"T_9398d_row1_col5\" class=\"data row1 col5\" >0.2330</td>\n",
              "      <td id=\"T_9398d_row1_col6\" class=\"data row1 col6\" >0.2352</td>\n",
              "    </tr>\n",
              "    <tr>\n",
              "      <th id=\"T_9398d_level0_row2\" class=\"row_heading level0 row2\" >2</th>\n",
              "      <td id=\"T_9398d_row2_col0\" class=\"data row2 col0\" >0.4854</td>\n",
              "      <td id=\"T_9398d_row2_col1\" class=\"data row2 col1\" >0.6760</td>\n",
              "      <td id=\"T_9398d_row2_col2\" class=\"data row2 col2\" >0.4854</td>\n",
              "      <td id=\"T_9398d_row2_col3\" class=\"data row2 col3\" >0.4552</td>\n",
              "      <td id=\"T_9398d_row2_col4\" class=\"data row2 col4\" >0.4592</td>\n",
              "      <td id=\"T_9398d_row2_col5\" class=\"data row2 col5\" >0.1828</td>\n",
              "      <td id=\"T_9398d_row2_col6\" class=\"data row2 col6\" >0.1881</td>\n",
              "    </tr>\n",
              "    <tr>\n",
              "      <th id=\"T_9398d_level0_row3\" class=\"row_heading level0 row3\" >3</th>\n",
              "      <td id=\"T_9398d_row3_col0\" class=\"data row3 col0\" >0.5113</td>\n",
              "      <td id=\"T_9398d_row3_col1\" class=\"data row3 col1\" >0.6899</td>\n",
              "      <td id=\"T_9398d_row3_col2\" class=\"data row3 col2\" >0.5113</td>\n",
              "      <td id=\"T_9398d_row3_col3\" class=\"data row3 col3\" >0.4823</td>\n",
              "      <td id=\"T_9398d_row3_col4\" class=\"data row3 col4\" >0.4935</td>\n",
              "      <td id=\"T_9398d_row3_col5\" class=\"data row3 col5\" >0.2447</td>\n",
              "      <td id=\"T_9398d_row3_col6\" class=\"data row3 col6\" >0.2466</td>\n",
              "    </tr>\n",
              "    <tr>\n",
              "      <th id=\"T_9398d_level0_row4\" class=\"row_heading level0 row4\" >4</th>\n",
              "      <td id=\"T_9398d_row4_col0\" class=\"data row4 col0\" >0.5307</td>\n",
              "      <td id=\"T_9398d_row4_col1\" class=\"data row4 col1\" >0.7066</td>\n",
              "      <td id=\"T_9398d_row4_col2\" class=\"data row4 col2\" >0.5307</td>\n",
              "      <td id=\"T_9398d_row4_col3\" class=\"data row4 col3\" >0.5274</td>\n",
              "      <td id=\"T_9398d_row4_col4\" class=\"data row4 col4\" >0.4982</td>\n",
              "      <td id=\"T_9398d_row4_col5\" class=\"data row4 col5\" >0.2442</td>\n",
              "      <td id=\"T_9398d_row4_col6\" class=\"data row4 col6\" >0.2543</td>\n",
              "    </tr>\n",
              "    <tr>\n",
              "      <th id=\"T_9398d_level0_row5\" class=\"row_heading level0 row5\" >5</th>\n",
              "      <td id=\"T_9398d_row5_col0\" class=\"data row5 col0\" >0.5487</td>\n",
              "      <td id=\"T_9398d_row5_col1\" class=\"data row5 col1\" >0.0000</td>\n",
              "      <td id=\"T_9398d_row5_col2\" class=\"data row5 col2\" >0.5487</td>\n",
              "      <td id=\"T_9398d_row5_col3\" class=\"data row5 col3\" >0.5220</td>\n",
              "      <td id=\"T_9398d_row5_col4\" class=\"data row5 col4\" >0.5275</td>\n",
              "      <td id=\"T_9398d_row5_col5\" class=\"data row5 col5\" >0.2894</td>\n",
              "      <td id=\"T_9398d_row5_col6\" class=\"data row5 col6\" >0.2955</td>\n",
              "    </tr>\n",
              "    <tr>\n",
              "      <th id=\"T_9398d_level0_row6\" class=\"row_heading level0 row6\" >6</th>\n",
              "      <td id=\"T_9398d_row6_col0\" class=\"data row6 col0\" >0.5162</td>\n",
              "      <td id=\"T_9398d_row6_col1\" class=\"data row6 col1\" >0.0000</td>\n",
              "      <td id=\"T_9398d_row6_col2\" class=\"data row6 col2\" >0.5162</td>\n",
              "      <td id=\"T_9398d_row6_col3\" class=\"data row6 col3\" >0.4755</td>\n",
              "      <td id=\"T_9398d_row6_col4\" class=\"data row6 col4\" >0.4886</td>\n",
              "      <td id=\"T_9398d_row6_col5\" class=\"data row6 col5\" >0.2382</td>\n",
              "      <td id=\"T_9398d_row6_col6\" class=\"data row6 col6\" >0.2424</td>\n",
              "    </tr>\n",
              "    <tr>\n",
              "      <th id=\"T_9398d_level0_row7\" class=\"row_heading level0 row7\" >7</th>\n",
              "      <td id=\"T_9398d_row7_col0\" class=\"data row7 col0\" >0.4968</td>\n",
              "      <td id=\"T_9398d_row7_col1\" class=\"data row7 col1\" >0.0000</td>\n",
              "      <td id=\"T_9398d_row7_col2\" class=\"data row7 col2\" >0.4968</td>\n",
              "      <td id=\"T_9398d_row7_col3\" class=\"data row7 col3\" >0.4690</td>\n",
              "      <td id=\"T_9398d_row7_col4\" class=\"data row7 col4\" >0.4824</td>\n",
              "      <td id=\"T_9398d_row7_col5\" class=\"data row7 col5\" >0.2378</td>\n",
              "      <td id=\"T_9398d_row7_col6\" class=\"data row7 col6\" >0.2384</td>\n",
              "    </tr>\n",
              "    <tr>\n",
              "      <th id=\"T_9398d_level0_row8\" class=\"row_heading level0 row8\" >8</th>\n",
              "      <td id=\"T_9398d_row8_col0\" class=\"data row8 col0\" >0.5195</td>\n",
              "      <td id=\"T_9398d_row8_col1\" class=\"data row8 col1\" >0.0000</td>\n",
              "      <td id=\"T_9398d_row8_col2\" class=\"data row8 col2\" >0.5195</td>\n",
              "      <td id=\"T_9398d_row8_col3\" class=\"data row8 col3\" >0.5216</td>\n",
              "      <td id=\"T_9398d_row8_col4\" class=\"data row8 col4\" >0.4835</td>\n",
              "      <td id=\"T_9398d_row8_col5\" class=\"data row8 col5\" >0.2185</td>\n",
              "      <td id=\"T_9398d_row8_col6\" class=\"data row8 col6\" >0.2316</td>\n",
              "    </tr>\n",
              "    <tr>\n",
              "      <th id=\"T_9398d_level0_row9\" class=\"row_heading level0 row9\" >9</th>\n",
              "      <td id=\"T_9398d_row9_col0\" class=\"data row9 col0\" >0.4968</td>\n",
              "      <td id=\"T_9398d_row9_col1\" class=\"data row9 col1\" >0.0000</td>\n",
              "      <td id=\"T_9398d_row9_col2\" class=\"data row9 col2\" >0.4968</td>\n",
              "      <td id=\"T_9398d_row9_col3\" class=\"data row9 col3\" >0.4606</td>\n",
              "      <td id=\"T_9398d_row9_col4\" class=\"data row9 col4\" >0.4770</td>\n",
              "      <td id=\"T_9398d_row9_col5\" class=\"data row9 col5\" >0.2213</td>\n",
              "      <td id=\"T_9398d_row9_col6\" class=\"data row9 col6\" >0.2231</td>\n",
              "    </tr>\n",
              "    <tr>\n",
              "      <th id=\"T_9398d_level0_row10\" class=\"row_heading level0 row10\" >Mean</th>\n",
              "      <td id=\"T_9398d_row10_col0\" class=\"data row10 col0\" >0.5125</td>\n",
              "      <td id=\"T_9398d_row10_col1\" class=\"data row10 col1\" >0.2073</td>\n",
              "      <td id=\"T_9398d_row10_col2\" class=\"data row10 col2\" >0.5125</td>\n",
              "      <td id=\"T_9398d_row10_col3\" class=\"data row10 col3\" >0.4886</td>\n",
              "      <td id=\"T_9398d_row10_col4\" class=\"data row10 col4\" >0.4897</td>\n",
              "      <td id=\"T_9398d_row10_col5\" class=\"data row10 col5\" >0.2355</td>\n",
              "      <td id=\"T_9398d_row10_col6\" class=\"data row10 col6\" >0.2404</td>\n",
              "    </tr>\n",
              "    <tr>\n",
              "      <th id=\"T_9398d_level0_row11\" class=\"row_heading level0 row11\" >Std</th>\n",
              "      <td id=\"T_9398d_row11_col0\" class=\"data row11 col0\" >0.0173</td>\n",
              "      <td id=\"T_9398d_row11_col1\" class=\"data row11 col1\" >0.3167</td>\n",
              "      <td id=\"T_9398d_row11_col2\" class=\"data row11 col2\" >0.0173</td>\n",
              "      <td id=\"T_9398d_row11_col3\" class=\"data row11 col3\" >0.0250</td>\n",
              "      <td id=\"T_9398d_row11_col4\" class=\"data row11 col4\" >0.0166</td>\n",
              "      <td id=\"T_9398d_row11_col5\" class=\"data row11 col5\" >0.0254</td>\n",
              "      <td id=\"T_9398d_row11_col6\" class=\"data row11 col6\" >0.0255</td>\n",
              "    </tr>\n",
              "  </tbody>\n",
              "</table>\n"
            ],
            "text/plain": [
              "<pandas.io.formats.style.Styler at 0x7fe14d315580>"
            ]
          },
          "metadata": {}
        },
        {
          "output_type": "display_data",
          "data": {
            "application/vnd.jupyter.widget-view+json": {
              "version_major": 2,
              "version_minor": 0,
              "model_id": "a51b64fe60b84583a86e3df003ba35a3"
            },
            "text/plain": [
              "Processing:   0%|          | 0/7 [00:00<?, ?it/s]"
            ]
          },
          "metadata": {
            "application/vnd.jupyter.widget-view+json": {
              "colab": {
                "custom_widget_manager": {
                  "url": "https://ssl.gstatic.com/colaboratory-static/widgets/colab-cdn-widget-manager/d2e234f7cc04bf79/manager.min.js"
                }
              }
            }
          }
        },
        {
          "output_type": "stream",
          "name": "stdout",
          "text": [
            "Fitting 10 folds for each of 10 candidates, totalling 100 fits\n"
          ]
        },
        {
          "output_type": "display_data",
          "data": {
            "text/html": [],
            "text/plain": [
              "<IPython.core.display.HTML object>"
            ]
          },
          "metadata": {}
        },
        {
          "output_type": "stream",
          "name": "stdout",
          "text": [
            "Original model was better than the tuned model, hence it will be returned. NOTE: The display metrics are for the tuned model (not the original one).\n"
          ]
        }
      ],
      "metadata": {
        "colab": {
          "base_uri": "https://localhost:8080/",
          "height": 493,
          "referenced_widgets": [
            "a51b64fe60b84583a86e3df003ba35a3",
            "a347de900f53469f847b73ed16ca78df",
            "b251e48a95e541479238e4358103bc93",
            "074cd6ae5c6243a18720ad113806f24e",
            "1b49758775004e3a9ac847f603583549",
            "75029744f35b4a4684bbe20ba2615a21",
            "ae60414c007c4130b94655a8148f54f3",
            "96544692279445a3859779d62ffbbaa0",
            "13ad0dde537248329c2ba0179cff305e",
            "b8a032f2ea4f4a4a9cef0adbbdca7a2d",
            "2acea996bf164308b8ffb2df012f7c72"
          ]
        },
        "id": "pq6BwWhAkvs7",
        "outputId": "c8143f13-fd8b-4f42-88fa-af48ae59dc4e"
      }
    },
    {
      "cell_type": "code",
      "execution_count": 18,
      "source": [
        "#tuned model object is stored in the variable 'tuned_dt'. \n",
        "print(tuned_rf)"
      ],
      "outputs": [
        {
          "output_type": "stream",
          "name": "stdout",
          "text": [
            "RandomForestClassifier(bootstrap=True, ccp_alpha=0.0, class_weight=None,\n",
            "                       criterion='gini', max_depth=None, max_features='auto',\n",
            "                       max_leaf_nodes=None, max_samples=None,\n",
            "                       min_impurity_decrease=0.0, min_samples_leaf=1,\n",
            "                       min_samples_split=2, min_weight_fraction_leaf=0.0,\n",
            "                       n_estimators=100, n_jobs=-1, oob_score=False,\n",
            "                       random_state=123, verbose=0, warm_start=False)\n"
          ]
        }
      ],
      "metadata": {
        "colab": {
          "base_uri": "https://localhost:8080/"
        },
        "id": "Wgxxg07CfuOD",
        "outputId": "20471616-b9ec-407b-dd94-c7c86019d8ca"
      }
    },
    {
      "cell_type": "markdown",
      "source": [
        "# 9.2 Extra Tree Classifier"
      ],
      "metadata": {
        "id": "fe9QKCZ8fuOU"
      }
    },
    {
      "cell_type": "code",
      "execution_count": 19,
      "source": [
        "tuned_et = tune_model(et)"
      ],
      "outputs": [
        {
          "output_type": "display_data",
          "data": {
            "text/html": [],
            "text/plain": [
              "<IPython.core.display.HTML object>"
            ]
          },
          "metadata": {}
        },
        {
          "output_type": "display_data",
          "data": {
            "text/html": [
              "<style type=\"text/css\">\n",
              "#T_7fce6_row10_col0, #T_7fce6_row10_col1, #T_7fce6_row10_col2, #T_7fce6_row10_col3, #T_7fce6_row10_col4, #T_7fce6_row10_col5, #T_7fce6_row10_col6 {\n",
              "  background: yellow;\n",
              "}\n",
              "</style>\n",
              "<table id=\"T_7fce6_\" class=\"dataframe\">\n",
              "  <thead>\n",
              "    <tr>\n",
              "      <th class=\"blank level0\" >&nbsp;</th>\n",
              "      <th class=\"col_heading level0 col0\" >Accuracy</th>\n",
              "      <th class=\"col_heading level0 col1\" >AUC</th>\n",
              "      <th class=\"col_heading level0 col2\" >Recall</th>\n",
              "      <th class=\"col_heading level0 col3\" >Prec.</th>\n",
              "      <th class=\"col_heading level0 col4\" >F1</th>\n",
              "      <th class=\"col_heading level0 col5\" >Kappa</th>\n",
              "      <th class=\"col_heading level0 col6\" >MCC</th>\n",
              "    </tr>\n",
              "    <tr>\n",
              "      <th class=\"index_name level0\" >Fold</th>\n",
              "      <th class=\"blank col0\" >&nbsp;</th>\n",
              "      <th class=\"blank col1\" >&nbsp;</th>\n",
              "      <th class=\"blank col2\" >&nbsp;</th>\n",
              "      <th class=\"blank col3\" >&nbsp;</th>\n",
              "      <th class=\"blank col4\" >&nbsp;</th>\n",
              "      <th class=\"blank col5\" >&nbsp;</th>\n",
              "      <th class=\"blank col6\" >&nbsp;</th>\n",
              "    </tr>\n",
              "  </thead>\n",
              "  <tbody>\n",
              "    <tr>\n",
              "      <th id=\"T_7fce6_level0_row0\" class=\"row_heading level0 row0\" >0</th>\n",
              "      <td id=\"T_7fce6_row0_col0\" class=\"data row0 col0\" >0.5599</td>\n",
              "      <td id=\"T_7fce6_row0_col1\" class=\"data row0 col1\" >0.0000</td>\n",
              "      <td id=\"T_7fce6_row0_col2\" class=\"data row0 col2\" >0.5599</td>\n",
              "      <td id=\"T_7fce6_row0_col3\" class=\"data row0 col3\" >0.5346</td>\n",
              "      <td id=\"T_7fce6_row0_col4\" class=\"data row0 col4\" >0.5120</td>\n",
              "      <td id=\"T_7fce6_row0_col5\" class=\"data row0 col5\" >0.2706</td>\n",
              "      <td id=\"T_7fce6_row0_col6\" class=\"data row0 col6\" >0.2990</td>\n",
              "    </tr>\n",
              "    <tr>\n",
              "      <th id=\"T_7fce6_level0_row1\" class=\"row_heading level0 row1\" >1</th>\n",
              "      <td id=\"T_7fce6_row1_col0\" class=\"data row1 col0\" >0.5502</td>\n",
              "      <td id=\"T_7fce6_row1_col1\" class=\"data row1 col1\" >0.0000</td>\n",
              "      <td id=\"T_7fce6_row1_col2\" class=\"data row1 col2\" >0.5502</td>\n",
              "      <td id=\"T_7fce6_row1_col3\" class=\"data row1 col3\" >0.5120</td>\n",
              "      <td id=\"T_7fce6_row1_col4\" class=\"data row1 col4\" >0.4988</td>\n",
              "      <td id=\"T_7fce6_row1_col5\" class=\"data row1 col5\" >0.2536</td>\n",
              "      <td id=\"T_7fce6_row1_col6\" class=\"data row1 col6\" >0.2800</td>\n",
              "    </tr>\n",
              "    <tr>\n",
              "      <th id=\"T_7fce6_level0_row2\" class=\"row_heading level0 row2\" >2</th>\n",
              "      <td id=\"T_7fce6_row2_col0\" class=\"data row2 col0\" >0.5113</td>\n",
              "      <td id=\"T_7fce6_row2_col1\" class=\"data row2 col1\" >0.7240</td>\n",
              "      <td id=\"T_7fce6_row2_col2\" class=\"data row2 col2\" >0.5113</td>\n",
              "      <td id=\"T_7fce6_row2_col3\" class=\"data row2 col3\" >0.4635</td>\n",
              "      <td id=\"T_7fce6_row2_col4\" class=\"data row2 col4\" >0.4619</td>\n",
              "      <td id=\"T_7fce6_row2_col5\" class=\"data row2 col5\" >0.2012</td>\n",
              "      <td id=\"T_7fce6_row2_col6\" class=\"data row2 col6\" >0.2137</td>\n",
              "    </tr>\n",
              "    <tr>\n",
              "      <th id=\"T_7fce6_level0_row3\" class=\"row_heading level0 row3\" >3</th>\n",
              "      <td id=\"T_7fce6_row3_col0\" class=\"data row3 col0\" >0.5663</td>\n",
              "      <td id=\"T_7fce6_row3_col1\" class=\"data row3 col1\" >0.7302</td>\n",
              "      <td id=\"T_7fce6_row3_col2\" class=\"data row3 col2\" >0.5663</td>\n",
              "      <td id=\"T_7fce6_row3_col3\" class=\"data row3 col3\" >0.5654</td>\n",
              "      <td id=\"T_7fce6_row3_col4\" class=\"data row3 col4\" >0.5172</td>\n",
              "      <td id=\"T_7fce6_row3_col5\" class=\"data row3 col5\" >0.2760</td>\n",
              "      <td id=\"T_7fce6_row3_col6\" class=\"data row3 col6\" >0.3111</td>\n",
              "    </tr>\n",
              "    <tr>\n",
              "      <th id=\"T_7fce6_level0_row4\" class=\"row_heading level0 row4\" >4</th>\n",
              "      <td id=\"T_7fce6_row4_col0\" class=\"data row4 col0\" >0.5275</td>\n",
              "      <td id=\"T_7fce6_row4_col1\" class=\"data row4 col1\" >0.7362</td>\n",
              "      <td id=\"T_7fce6_row4_col2\" class=\"data row4 col2\" >0.5275</td>\n",
              "      <td id=\"T_7fce6_row4_col3\" class=\"data row4 col3\" >0.4883</td>\n",
              "      <td id=\"T_7fce6_row4_col4\" class=\"data row4 col4\" >0.4720</td>\n",
              "      <td id=\"T_7fce6_row4_col5\" class=\"data row4 col5\" >0.2138</td>\n",
              "      <td id=\"T_7fce6_row4_col6\" class=\"data row4 col6\" >0.2373</td>\n",
              "    </tr>\n",
              "    <tr>\n",
              "      <th id=\"T_7fce6_level0_row5\" class=\"row_heading level0 row5\" >5</th>\n",
              "      <td id=\"T_7fce6_row5_col0\" class=\"data row5 col0\" >0.5292</td>\n",
              "      <td id=\"T_7fce6_row5_col1\" class=\"data row5 col1\" >0.0000</td>\n",
              "      <td id=\"T_7fce6_row5_col2\" class=\"data row5 col2\" >0.5292</td>\n",
              "      <td id=\"T_7fce6_row5_col3\" class=\"data row5 col3\" >0.4946</td>\n",
              "      <td id=\"T_7fce6_row5_col4\" class=\"data row5 col4\" >0.4861</td>\n",
              "      <td id=\"T_7fce6_row5_col5\" class=\"data row5 col5\" >0.2280</td>\n",
              "      <td id=\"T_7fce6_row5_col6\" class=\"data row5 col6\" >0.2438</td>\n",
              "    </tr>\n",
              "    <tr>\n",
              "      <th id=\"T_7fce6_level0_row6\" class=\"row_heading level0 row6\" >6</th>\n",
              "      <td id=\"T_7fce6_row6_col0\" class=\"data row6 col0\" >0.5455</td>\n",
              "      <td id=\"T_7fce6_row6_col1\" class=\"data row6 col1\" >0.0000</td>\n",
              "      <td id=\"T_7fce6_row6_col2\" class=\"data row6 col2\" >0.5455</td>\n",
              "      <td id=\"T_7fce6_row6_col3\" class=\"data row6 col3\" >0.5237</td>\n",
              "      <td id=\"T_7fce6_row6_col4\" class=\"data row6 col4\" >0.4973</td>\n",
              "      <td id=\"T_7fce6_row6_col5\" class=\"data row6 col5\" >0.2504</td>\n",
              "      <td id=\"T_7fce6_row6_col6\" class=\"data row6 col6\" >0.2705</td>\n",
              "    </tr>\n",
              "    <tr>\n",
              "      <th id=\"T_7fce6_level0_row7\" class=\"row_heading level0 row7\" >7</th>\n",
              "      <td id=\"T_7fce6_row7_col0\" class=\"data row7 col0\" >0.5487</td>\n",
              "      <td id=\"T_7fce6_row7_col1\" class=\"data row7 col1\" >0.0000</td>\n",
              "      <td id=\"T_7fce6_row7_col2\" class=\"data row7 col2\" >0.5487</td>\n",
              "      <td id=\"T_7fce6_row7_col3\" class=\"data row7 col3\" >0.5088</td>\n",
              "      <td id=\"T_7fce6_row7_col4\" class=\"data row7 col4\" >0.4946</td>\n",
              "      <td id=\"T_7fce6_row7_col5\" class=\"data row7 col5\" >0.2485</td>\n",
              "      <td id=\"T_7fce6_row7_col6\" class=\"data row7 col6\" >0.2760</td>\n",
              "    </tr>\n",
              "    <tr>\n",
              "      <th id=\"T_7fce6_level0_row8\" class=\"row_heading level0 row8\" >8</th>\n",
              "      <td id=\"T_7fce6_row8_col0\" class=\"data row8 col0\" >0.5292</td>\n",
              "      <td id=\"T_7fce6_row8_col1\" class=\"data row8 col1\" >0.0000</td>\n",
              "      <td id=\"T_7fce6_row8_col2\" class=\"data row8 col2\" >0.5292</td>\n",
              "      <td id=\"T_7fce6_row8_col3\" class=\"data row8 col3\" >0.5051</td>\n",
              "      <td id=\"T_7fce6_row8_col4\" class=\"data row8 col4\" >0.4794</td>\n",
              "      <td id=\"T_7fce6_row8_col5\" class=\"data row8 col5\" >0.2205</td>\n",
              "      <td id=\"T_7fce6_row8_col6\" class=\"data row8 col6\" >0.2427</td>\n",
              "    </tr>\n",
              "    <tr>\n",
              "      <th id=\"T_7fce6_level0_row9\" class=\"row_heading level0 row9\" >9</th>\n",
              "      <td id=\"T_7fce6_row9_col0\" class=\"data row9 col0\" >0.5487</td>\n",
              "      <td id=\"T_7fce6_row9_col1\" class=\"data row9 col1\" >0.0000</td>\n",
              "      <td id=\"T_7fce6_row9_col2\" class=\"data row9 col2\" >0.5487</td>\n",
              "      <td id=\"T_7fce6_row9_col3\" class=\"data row9 col3\" >0.5306</td>\n",
              "      <td id=\"T_7fce6_row9_col4\" class=\"data row9 col4\" >0.5029</td>\n",
              "      <td id=\"T_7fce6_row9_col5\" class=\"data row9 col5\" >0.2548</td>\n",
              "      <td id=\"T_7fce6_row9_col6\" class=\"data row9 col6\" >0.2791</td>\n",
              "    </tr>\n",
              "    <tr>\n",
              "      <th id=\"T_7fce6_level0_row10\" class=\"row_heading level0 row10\" >Mean</th>\n",
              "      <td id=\"T_7fce6_row10_col0\" class=\"data row10 col0\" >0.5417</td>\n",
              "      <td id=\"T_7fce6_row10_col1\" class=\"data row10 col1\" >0.2190</td>\n",
              "      <td id=\"T_7fce6_row10_col2\" class=\"data row10 col2\" >0.5417</td>\n",
              "      <td id=\"T_7fce6_row10_col3\" class=\"data row10 col3\" >0.5127</td>\n",
              "      <td id=\"T_7fce6_row10_col4\" class=\"data row10 col4\" >0.4922</td>\n",
              "      <td id=\"T_7fce6_row10_col5\" class=\"data row10 col5\" >0.2417</td>\n",
              "      <td id=\"T_7fce6_row10_col6\" class=\"data row10 col6\" >0.2653</td>\n",
              "    </tr>\n",
              "    <tr>\n",
              "      <th id=\"T_7fce6_level0_row11\" class=\"row_heading level0 row11\" >Std</th>\n",
              "      <td id=\"T_7fce6_row11_col0\" class=\"data row11 col0\" >0.0160</td>\n",
              "      <td id=\"T_7fce6_row11_col1\" class=\"data row11 col1\" >0.3346</td>\n",
              "      <td id=\"T_7fce6_row11_col2\" class=\"data row11 col2\" >0.0160</td>\n",
              "      <td id=\"T_7fce6_row11_col3\" class=\"data row11 col3\" >0.0267</td>\n",
              "      <td id=\"T_7fce6_row11_col4\" class=\"data row11 col4\" >0.0165</td>\n",
              "      <td id=\"T_7fce6_row11_col5\" class=\"data row11 col5\" >0.0235</td>\n",
              "      <td id=\"T_7fce6_row11_col6\" class=\"data row11 col6\" >0.0286</td>\n",
              "    </tr>\n",
              "  </tbody>\n",
              "</table>\n"
            ],
            "text/plain": [
              "<pandas.io.formats.style.Styler at 0x7fe14d17cd00>"
            ]
          },
          "metadata": {}
        },
        {
          "output_type": "display_data",
          "data": {
            "application/vnd.jupyter.widget-view+json": {
              "version_major": 2,
              "version_minor": 0,
              "model_id": "3ec7c181a6e94a878b3e07bf4333b96f"
            },
            "text/plain": [
              "Processing:   0%|          | 0/7 [00:00<?, ?it/s]"
            ]
          },
          "metadata": {
            "application/vnd.jupyter.widget-view+json": {
              "colab": {
                "custom_widget_manager": {
                  "url": "https://ssl.gstatic.com/colaboratory-static/widgets/colab-cdn-widget-manager/d2e234f7cc04bf79/manager.min.js"
                }
              }
            }
          }
        },
        {
          "output_type": "stream",
          "name": "stdout",
          "text": [
            "Fitting 10 folds for each of 10 candidates, totalling 100 fits\n"
          ]
        },
        {
          "output_type": "display_data",
          "data": {
            "text/html": [],
            "text/plain": [
              "<IPython.core.display.HTML object>"
            ]
          },
          "metadata": {}
        },
        {
          "output_type": "stream",
          "name": "stdout",
          "text": [
            "Original model was better than the tuned model, hence it will be returned. NOTE: The display metrics are for the tuned model (not the original one).\n"
          ]
        }
      ],
      "metadata": {
        "id": "LJnnjuXQw3Mu",
        "outputId": "963d8c2a-0027-4496-faba-1cf84df3811e",
        "colab": {
          "base_uri": "https://localhost:8080/",
          "height": 493,
          "referenced_widgets": [
            "3ec7c181a6e94a878b3e07bf4333b96f",
            "7d76aea185e340278cdd7a2b306e777d",
            "8db591b185c14de5b3dab0a72fe76ce2",
            "fd9940add76642e4b46288110412823c",
            "b092e1c1728948b4978ed271fcf5068c",
            "0d13671e624a4a76b0bb39ae8d0f88f0",
            "fb393d99558242d59ab06036856294ba",
            "b00b164a196742229c9b385d6d258963",
            "9ea393d38bf84a3a906e7d15a9946a6e",
            "e7626c471b634654beed67fb5e61cfc6",
            "5b51cd0546a94ab6b82afbc74a02e602"
          ]
        }
      }
    },
    {
      "cell_type": "markdown",
      "source": [
        "\n",
        "\n",
        "```\n",
        "# This is formatted as code\n",
        "```\n",
        "\n",
        "# 9.3 Light Gradient Boosting Machine"
      ],
      "metadata": {
        "id": "oF2hDwoifuOd"
      }
    },
    {
      "cell_type": "code",
      "execution_count": 20,
      "source": [
        "tuned_lightgbm = tune_model(lightgbm)"
      ],
      "outputs": [
        {
          "output_type": "display_data",
          "data": {
            "text/html": [],
            "text/plain": [
              "<IPython.core.display.HTML object>"
            ]
          },
          "metadata": {}
        },
        {
          "output_type": "display_data",
          "data": {
            "text/html": [
              "<style type=\"text/css\">\n",
              "#T_23523_row10_col0, #T_23523_row10_col1, #T_23523_row10_col2, #T_23523_row10_col3, #T_23523_row10_col4, #T_23523_row10_col5, #T_23523_row10_col6 {\n",
              "  background: yellow;\n",
              "}\n",
              "</style>\n",
              "<table id=\"T_23523_\" class=\"dataframe\">\n",
              "  <thead>\n",
              "    <tr>\n",
              "      <th class=\"blank level0\" >&nbsp;</th>\n",
              "      <th class=\"col_heading level0 col0\" >Accuracy</th>\n",
              "      <th class=\"col_heading level0 col1\" >AUC</th>\n",
              "      <th class=\"col_heading level0 col2\" >Recall</th>\n",
              "      <th class=\"col_heading level0 col3\" >Prec.</th>\n",
              "      <th class=\"col_heading level0 col4\" >F1</th>\n",
              "      <th class=\"col_heading level0 col5\" >Kappa</th>\n",
              "      <th class=\"col_heading level0 col6\" >MCC</th>\n",
              "    </tr>\n",
              "    <tr>\n",
              "      <th class=\"index_name level0\" >Fold</th>\n",
              "      <th class=\"blank col0\" >&nbsp;</th>\n",
              "      <th class=\"blank col1\" >&nbsp;</th>\n",
              "      <th class=\"blank col2\" >&nbsp;</th>\n",
              "      <th class=\"blank col3\" >&nbsp;</th>\n",
              "      <th class=\"blank col4\" >&nbsp;</th>\n",
              "      <th class=\"blank col5\" >&nbsp;</th>\n",
              "      <th class=\"blank col6\" >&nbsp;</th>\n",
              "    </tr>\n",
              "  </thead>\n",
              "  <tbody>\n",
              "    <tr>\n",
              "      <th id=\"T_23523_level0_row0\" class=\"row_heading level0 row0\" >0</th>\n",
              "      <td id=\"T_23523_row0_col0\" class=\"data row0 col0\" >0.6343</td>\n",
              "      <td id=\"T_23523_row0_col1\" class=\"data row0 col1\" >0.0000</td>\n",
              "      <td id=\"T_23523_row0_col2\" class=\"data row0 col2\" >0.6343</td>\n",
              "      <td id=\"T_23523_row0_col3\" class=\"data row0 col3\" >0.6430</td>\n",
              "      <td id=\"T_23523_row0_col4\" class=\"data row0 col4\" >0.6274</td>\n",
              "      <td id=\"T_23523_row0_col5\" class=\"data row0 col5\" >0.4342</td>\n",
              "      <td id=\"T_23523_row0_col6\" class=\"data row0 col6\" >0.4418</td>\n",
              "    </tr>\n",
              "    <tr>\n",
              "      <th id=\"T_23523_level0_row1\" class=\"row_heading level0 row1\" >1</th>\n",
              "      <td id=\"T_23523_row1_col0\" class=\"data row1 col0\" >0.6084</td>\n",
              "      <td id=\"T_23523_row1_col1\" class=\"data row1 col1\" >0.0000</td>\n",
              "      <td id=\"T_23523_row1_col2\" class=\"data row1 col2\" >0.6084</td>\n",
              "      <td id=\"T_23523_row1_col3\" class=\"data row1 col3\" >0.6125</td>\n",
              "      <td id=\"T_23523_row1_col4\" class=\"data row1 col4\" >0.5949</td>\n",
              "      <td id=\"T_23523_row1_col5\" class=\"data row1 col5\" >0.3901</td>\n",
              "      <td id=\"T_23523_row1_col6\" class=\"data row1 col6\" >0.3947</td>\n",
              "    </tr>\n",
              "    <tr>\n",
              "      <th id=\"T_23523_level0_row2\" class=\"row_heading level0 row2\" >2</th>\n",
              "      <td id=\"T_23523_row2_col0\" class=\"data row2 col0\" >0.6246</td>\n",
              "      <td id=\"T_23523_row2_col1\" class=\"data row2 col1\" >0.7853</td>\n",
              "      <td id=\"T_23523_row2_col2\" class=\"data row2 col2\" >0.6246</td>\n",
              "      <td id=\"T_23523_row2_col3\" class=\"data row2 col3\" >0.6296</td>\n",
              "      <td id=\"T_23523_row2_col4\" class=\"data row2 col4\" >0.6139</td>\n",
              "      <td id=\"T_23523_row2_col5\" class=\"data row2 col5\" >0.4236</td>\n",
              "      <td id=\"T_23523_row2_col6\" class=\"data row2 col6\" >0.4262</td>\n",
              "    </tr>\n",
              "    <tr>\n",
              "      <th id=\"T_23523_level0_row3\" class=\"row_heading level0 row3\" >3</th>\n",
              "      <td id=\"T_23523_row3_col0\" class=\"data row3 col0\" >0.5858</td>\n",
              "      <td id=\"T_23523_row3_col1\" class=\"data row3 col1\" >0.7735</td>\n",
              "      <td id=\"T_23523_row3_col2\" class=\"data row3 col2\" >0.5858</td>\n",
              "      <td id=\"T_23523_row3_col3\" class=\"data row3 col3\" >0.5980</td>\n",
              "      <td id=\"T_23523_row3_col4\" class=\"data row3 col4\" >0.5770</td>\n",
              "      <td id=\"T_23523_row3_col5\" class=\"data row3 col5\" >0.3646</td>\n",
              "      <td id=\"T_23523_row3_col6\" class=\"data row3 col6\" >0.3670</td>\n",
              "    </tr>\n",
              "    <tr>\n",
              "      <th id=\"T_23523_level0_row4\" class=\"row_heading level0 row4\" >4</th>\n",
              "      <td id=\"T_23523_row4_col0\" class=\"data row4 col0\" >0.5922</td>\n",
              "      <td id=\"T_23523_row4_col1\" class=\"data row4 col1\" >0.7939</td>\n",
              "      <td id=\"T_23523_row4_col2\" class=\"data row4 col2\" >0.5922</td>\n",
              "      <td id=\"T_23523_row4_col3\" class=\"data row4 col3\" >0.5814</td>\n",
              "      <td id=\"T_23523_row4_col4\" class=\"data row4 col4\" >0.5778</td>\n",
              "      <td id=\"T_23523_row4_col5\" class=\"data row4 col5\" >0.3679</td>\n",
              "      <td id=\"T_23523_row4_col6\" class=\"data row4 col6\" >0.3715</td>\n",
              "    </tr>\n",
              "    <tr>\n",
              "      <th id=\"T_23523_level0_row5\" class=\"row_heading level0 row5\" >5</th>\n",
              "      <td id=\"T_23523_row5_col0\" class=\"data row5 col0\" >0.6169</td>\n",
              "      <td id=\"T_23523_row5_col1\" class=\"data row5 col1\" >0.0000</td>\n",
              "      <td id=\"T_23523_row5_col2\" class=\"data row5 col2\" >0.6169</td>\n",
              "      <td id=\"T_23523_row5_col3\" class=\"data row5 col3\" >0.6045</td>\n",
              "      <td id=\"T_23523_row5_col4\" class=\"data row5 col4\" >0.6036</td>\n",
              "      <td id=\"T_23523_row5_col5\" class=\"data row5 col5\" >0.4074</td>\n",
              "      <td id=\"T_23523_row5_col6\" class=\"data row5 col6\" >0.4109</td>\n",
              "    </tr>\n",
              "    <tr>\n",
              "      <th id=\"T_23523_level0_row6\" class=\"row_heading level0 row6\" >6</th>\n",
              "      <td id=\"T_23523_row6_col0\" class=\"data row6 col0\" >0.6136</td>\n",
              "      <td id=\"T_23523_row6_col1\" class=\"data row6 col1\" >0.0000</td>\n",
              "      <td id=\"T_23523_row6_col2\" class=\"data row6 col2\" >0.6136</td>\n",
              "      <td id=\"T_23523_row6_col3\" class=\"data row6 col3\" >0.6122</td>\n",
              "      <td id=\"T_23523_row6_col4\" class=\"data row6 col4\" >0.6048</td>\n",
              "      <td id=\"T_23523_row6_col5\" class=\"data row6 col5\" >0.4035</td>\n",
              "      <td id=\"T_23523_row6_col6\" class=\"data row6 col6\" >0.4067</td>\n",
              "    </tr>\n",
              "    <tr>\n",
              "      <th id=\"T_23523_level0_row7\" class=\"row_heading level0 row7\" >7</th>\n",
              "      <td id=\"T_23523_row7_col0\" class=\"data row7 col0\" >0.5617</td>\n",
              "      <td id=\"T_23523_row7_col1\" class=\"data row7 col1\" >0.0000</td>\n",
              "      <td id=\"T_23523_row7_col2\" class=\"data row7 col2\" >0.5617</td>\n",
              "      <td id=\"T_23523_row7_col3\" class=\"data row7 col3\" >0.5410</td>\n",
              "      <td id=\"T_23523_row7_col4\" class=\"data row7 col4\" >0.5475</td>\n",
              "      <td id=\"T_23523_row7_col5\" class=\"data row7 col5\" >0.3261</td>\n",
              "      <td id=\"T_23523_row7_col6\" class=\"data row7 col6\" >0.3279</td>\n",
              "    </tr>\n",
              "    <tr>\n",
              "      <th id=\"T_23523_level0_row8\" class=\"row_heading level0 row8\" >8</th>\n",
              "      <td id=\"T_23523_row8_col0\" class=\"data row8 col0\" >0.5779</td>\n",
              "      <td id=\"T_23523_row8_col1\" class=\"data row8 col1\" >0.0000</td>\n",
              "      <td id=\"T_23523_row8_col2\" class=\"data row8 col2\" >0.5779</td>\n",
              "      <td id=\"T_23523_row8_col3\" class=\"data row8 col3\" >0.5696</td>\n",
              "      <td id=\"T_23523_row8_col4\" class=\"data row8 col4\" >0.5637</td>\n",
              "      <td id=\"T_23523_row8_col5\" class=\"data row8 col5\" >0.3436</td>\n",
              "      <td id=\"T_23523_row8_col6\" class=\"data row8 col6\" >0.3478</td>\n",
              "    </tr>\n",
              "    <tr>\n",
              "      <th id=\"T_23523_level0_row9\" class=\"row_heading level0 row9\" >9</th>\n",
              "      <td id=\"T_23523_row9_col0\" class=\"data row9 col0\" >0.5877</td>\n",
              "      <td id=\"T_23523_row9_col1\" class=\"data row9 col1\" >0.0000</td>\n",
              "      <td id=\"T_23523_row9_col2\" class=\"data row9 col2\" >0.5877</td>\n",
              "      <td id=\"T_23523_row9_col3\" class=\"data row9 col3\" >0.5774</td>\n",
              "      <td id=\"T_23523_row9_col4\" class=\"data row9 col4\" >0.5719</td>\n",
              "      <td id=\"T_23523_row9_col5\" class=\"data row9 col5\" >0.3579</td>\n",
              "      <td id=\"T_23523_row9_col6\" class=\"data row9 col6\" >0.3629</td>\n",
              "    </tr>\n",
              "    <tr>\n",
              "      <th id=\"T_23523_level0_row10\" class=\"row_heading level0 row10\" >Mean</th>\n",
              "      <td id=\"T_23523_row10_col0\" class=\"data row10 col0\" >0.6003</td>\n",
              "      <td id=\"T_23523_row10_col1\" class=\"data row10 col1\" >0.2353</td>\n",
              "      <td id=\"T_23523_row10_col2\" class=\"data row10 col2\" >0.6003</td>\n",
              "      <td id=\"T_23523_row10_col3\" class=\"data row10 col3\" >0.5969</td>\n",
              "      <td id=\"T_23523_row10_col4\" class=\"data row10 col4\" >0.5882</td>\n",
              "      <td id=\"T_23523_row10_col5\" class=\"data row10 col5\" >0.3819</td>\n",
              "      <td id=\"T_23523_row10_col6\" class=\"data row10 col6\" >0.3857</td>\n",
              "    </tr>\n",
              "    <tr>\n",
              "      <th id=\"T_23523_level0_row11\" class=\"row_heading level0 row11\" >Std</th>\n",
              "      <td id=\"T_23523_row11_col0\" class=\"data row11 col0\" >0.0217</td>\n",
              "      <td id=\"T_23523_row11_col1\" class=\"data row11 col1\" >0.3594</td>\n",
              "      <td id=\"T_23523_row11_col2\" class=\"data row11 col2\" >0.0217</td>\n",
              "      <td id=\"T_23523_row11_col3\" class=\"data row11 col3\" >0.0287</td>\n",
              "      <td id=\"T_23523_row11_col4\" class=\"data row11 col4\" >0.0235</td>\n",
              "      <td id=\"T_23523_row11_col5\" class=\"data row11 col5\" >0.0336</td>\n",
              "      <td id=\"T_23523_row11_col6\" class=\"data row11 col6\" >0.0343</td>\n",
              "    </tr>\n",
              "  </tbody>\n",
              "</table>\n"
            ],
            "text/plain": [
              "<pandas.io.formats.style.Styler at 0x7fe14c459f70>"
            ]
          },
          "metadata": {}
        },
        {
          "output_type": "display_data",
          "data": {
            "application/vnd.jupyter.widget-view+json": {
              "version_major": 2,
              "version_minor": 0,
              "model_id": "61ca91c193564cf7ac7a7a2859fa0e3c"
            },
            "text/plain": [
              "Processing:   0%|          | 0/7 [00:00<?, ?it/s]"
            ]
          },
          "metadata": {
            "application/vnd.jupyter.widget-view+json": {
              "colab": {
                "custom_widget_manager": {
                  "url": "https://ssl.gstatic.com/colaboratory-static/widgets/colab-cdn-widget-manager/d2e234f7cc04bf79/manager.min.js"
                }
              }
            }
          }
        },
        {
          "output_type": "stream",
          "name": "stdout",
          "text": [
            "Fitting 10 folds for each of 10 candidates, totalling 100 fits\n"
          ]
        },
        {
          "output_type": "display_data",
          "data": {
            "text/html": [],
            "text/plain": [
              "<IPython.core.display.HTML object>"
            ]
          },
          "metadata": {}
        },
        {
          "output_type": "stream",
          "name": "stdout",
          "text": [
            "Original model was better than the tuned model, hence it will be returned. NOTE: The display metrics are for the tuned model (not the original one).\n"
          ]
        }
      ],
      "metadata": {
        "colab": {
          "base_uri": "https://localhost:8080/",
          "height": 493,
          "referenced_widgets": [
            "61ca91c193564cf7ac7a7a2859fa0e3c",
            "8e728c8ff0564e71b41b45d9e0a0ec3e",
            "4619e5059abb4ee8add2d42b96e08607",
            "955b467b48984c7ab286828219c70bf8",
            "8e593fc20df64441b07d4c0545bc1a43",
            "4c8ca53c67be40368efd175c07ef41a9",
            "3de1ea7b7fdb476ab4649fd5e4dabb8a",
            "229b5a57c72b405ab338aa97021fcdf6",
            "36d12fa2af28417fa5264a48694c8774",
            "3da576fee4e440ed8a4e8fa7a1472c07",
            "5b6bc4ffa0bd4d26b8e20c7367f97d4b"
          ]
        },
        "id": "3wyDGn_NfuOf",
        "outputId": "6b51b3e3-e3cc-4858-f797-11517d5a7adc"
      }
    },
    {
      "cell_type": "markdown",
      "source": [
        "# 10.0 Plot a Model"
      ],
      "metadata": {
        "id": "3zct2zSYfuOl"
      }
    },
    {
      "cell_type": "markdown",
      "source": [
        "Before model finalization, the `plot_model()` function can be used to analyze the performance across different aspects such as AUC, confusion_matrix, decision boundary etc. This function takes a trained model object and returns a plot based on the test / hold-out set. \n",
        "\n",
        "There are 15 different plots available, please see the `plot_model()` docstring for the list of available plots."
      ],
      "metadata": {
        "id": "a3_m4yEdfuOm"
      }
    },
    {
      "cell_type": "markdown",
      "source": [
        "# 10.1 Confusion Matrix"
      ],
      "metadata": {
        "id": "AegNi_BXfuOn"
      }
    },
    {
      "cell_type": "code",
      "execution_count": 21,
      "source": [
        "!pip install matplotlib==3.1.3"
      ],
      "outputs": [
        {
          "output_type": "stream",
          "name": "stdout",
          "text": [
            "Looking in indexes: https://pypi.org/simple, https://us-python.pkg.dev/colab-wheels/public/simple/\n",
            "Collecting matplotlib==3.1.3\n",
            "  Downloading matplotlib-3.1.3-cp38-cp38-manylinux1_x86_64.whl (13.1 MB)\n",
            "\u001b[K     |████████████████████████████████| 13.1 MB 7.3 MB/s \n",
            "\u001b[?25hRequirement already satisfied: pyparsing!=2.0.4,!=2.1.2,!=2.1.6,>=2.0.1 in /usr/local/lib/python3.8/dist-packages (from matplotlib==3.1.3) (3.0.9)\n",
            "Requirement already satisfied: python-dateutil>=2.1 in /usr/local/lib/python3.8/dist-packages (from matplotlib==3.1.3) (2.8.2)\n",
            "Requirement already satisfied: cycler>=0.10 in /usr/local/lib/python3.8/dist-packages (from matplotlib==3.1.3) (0.11.0)\n",
            "Requirement already satisfied: numpy>=1.11 in /usr/local/lib/python3.8/dist-packages (from matplotlib==3.1.3) (1.21.6)\n",
            "Requirement already satisfied: kiwisolver>=1.0.1 in /usr/local/lib/python3.8/dist-packages (from matplotlib==3.1.3) (1.4.4)\n",
            "Requirement already satisfied: six>=1.5 in /usr/local/lib/python3.8/dist-packages (from python-dateutil>=2.1->matplotlib==3.1.3) (1.15.0)\n",
            "Installing collected packages: matplotlib\n",
            "  Attempting uninstall: matplotlib\n",
            "    Found existing installation: matplotlib 3.6.2\n",
            "    Uninstalling matplotlib-3.6.2:\n",
            "      Successfully uninstalled matplotlib-3.6.2\n",
            "\u001b[31mERROR: pip's dependency resolver does not currently take into account all the packages that are installed. This behaviour is the source of the following dependency conflicts.\n",
            "pycaret 3.0.0rc4 requires matplotlib>=3.3.0, but you have matplotlib 3.1.3 which is incompatible.\u001b[0m\n",
            "Successfully installed matplotlib-3.1.3\n"
          ]
        },
        {
          "output_type": "display_data",
          "data": {
            "application/vnd.colab-display-data+json": {
              "pip_warning": {
                "packages": [
                  "matplotlib",
                  "mpl_toolkits"
                ]
              }
            }
          },
          "metadata": {}
        }
      ],
      "metadata": {
        "colab": {
          "base_uri": "https://localhost:8080/",
          "height": 447
        },
        "id": "ZPppqJiDkJIH",
        "outputId": "b362cedb-64ec-4dbe-c107-8c7f91b7363f"
      }
    },
    {
      "cell_type": "code",
      "execution_count": 22,
      "source": [
        "plot_model(tuned_best, plot = 'confusion_matrix')"
      ],
      "outputs": [
        {
          "output_type": "display_data",
          "data": {
            "text/html": [],
            "text/plain": [
              "<IPython.core.display.HTML object>"
            ]
          },
          "metadata": {}
        },
        {
          "output_type": "display_data",
          "data": {
            "image/png": "[encoded data removed]",
            "text/plain": [
              "<Figure size 432x288 with 1 Axes>"
            ]
          },
          "metadata": {
            "needs_background": "light"
          }
        }
      ],
      "metadata": {
        "colab": {
          "base_uri": "https://localhost:8080/",
          "height": 297
        },
        "id": "kI0tERkNfuOo",
        "outputId": "6ef94f70-6c68-4245-9089-8e2acdfe75a2"
      }
    },
    {
      "cell_type": "markdown",
      "source": [
        "# 10.2 Classification Report"
      ],
      "metadata": {
        "id": "WdQqEtO4fuOt"
      }
    },
    {
      "cell_type": "code",
      "execution_count": 23,
      "source": [
        "plot_model(tuned_best, plot = 'class_report')"
      ],
      "outputs": [
        {
          "output_type": "display_data",
          "data": {
            "text/html": [],
            "text/plain": [
              "<IPython.core.display.HTML object>"
            ]
          },
          "metadata": {}
        },
        {
          "output_type": "display_data",
          "data": {
            "image/png": "[encoded data removed]",
            "text/plain": [
              "<Figure size 432x288 with 2 Axes>"
            ]
          },
          "metadata": {
            "needs_background": "light"
          }
        }
      ],
      "metadata": {
        "colab": {
          "base_uri": "https://localhost:8080/",
          "height": 297
        },
        "id": "wHKBMDaZfuOu",
        "outputId": "3223d8dc-7c73-4843-a7ca-b4929e99ebc9"
      }
    },
    {
      "cell_type": "markdown",
      "source": [
        "# 10.3 Decision Boundary Plot"
      ],
      "metadata": {
        "id": "iidIhDUufuOx"
      }
    },
    {
      "cell_type": "code",
      "execution_count": 24,
      "source": [
        "plot_model(tuned_best, plot='boundary')"
      ],
      "outputs": [
        {
          "output_type": "display_data",
          "data": {
            "text/html": [],
            "text/plain": [
              "<IPython.core.display.HTML object>"
            ]
          },
          "metadata": {}
        },
        {
          "output_type": "display_data",
          "data": {
            "image/png": "[encoded data removed]",
            "text/plain": [
              "<Figure size 432x288 with 1 Axes>"
            ]
          },
          "metadata": {
            "needs_background": "light"
          }
        }
      ],
      "metadata": {
        "colab": {
          "base_uri": "https://localhost:8080/",
          "height": 279
        },
        "id": "9_2R_acYfuOz",
        "outputId": "b75a6ce5-bd6b-414d-eabc-c97fe3071168"
      }
    },
    {
      "cell_type": "markdown",
      "source": [
        "# 10.4 Prediction Error Plot"
      ],
      "metadata": {
        "id": "JY8z7B8MfuO2"
      }
    },
    {
      "cell_type": "code",
      "execution_count": 25,
      "source": [
        "plot_model(tuned_best, plot = 'error')"
      ],
      "outputs": [
        {
          "output_type": "display_data",
          "data": {
            "text/html": [],
            "text/plain": [
              "<IPython.core.display.HTML object>"
            ]
          },
          "metadata": {}
        },
        {
          "output_type": "display_data",
          "data": {
            "image/png": "[encoded data removed]",
            "text/plain": [
              "<Figure size 432x288 with 1 Axes>"
            ]
          },
          "metadata": {
            "needs_background": "light"
          }
        }
      ],
      "metadata": {
        "colab": {
          "base_uri": "https://localhost:8080/",
          "height": 297
        },
        "id": "AtSP2JAXfuO3",
        "outputId": "89b1a574-539e-4511-d2e4-bd1af3ae5ad1"
      }
    },
    {
      "cell_type": "markdown",
      "source": [
        "*Another* way to analyze the performance of models is to use the `evaluate_model()` function which displays a user interface for all of the available plots for a given model. It internally uses the `plot_model()` function. "
      ],
      "metadata": {
        "id": "hxGSKMKZfuO7"
      }
    },
    {
      "cell_type": "markdown",
      "source": [
        "# 11.0 Predict on test / hold-out Sample"
      ],
      "metadata": {
        "id": "Wo-Ob7AffuO_"
      }
    },
    {
      "cell_type": "code",
      "execution_count": 26,
      "source": [
        "predict_model(tuned_best);"
      ],
      "outputs": [
        {
          "output_type": "display_data",
          "data": {
            "text/html": [
              "<style type=\"text/css\">\n",
              "</style>\n",
              "<table id=\"T_6ecc6_\" class=\"dataframe\">\n",
              "  <thead>\n",
              "    <tr>\n",
              "      <th class=\"blank level0\" >&nbsp;</th>\n",
              "      <th class=\"col_heading level0 col0\" >Model</th>\n",
              "      <th class=\"col_heading level0 col1\" >Accuracy</th>\n",
              "      <th class=\"col_heading level0 col2\" >AUC</th>\n",
              "      <th class=\"col_heading level0 col3\" >Recall</th>\n",
              "      <th class=\"col_heading level0 col4\" >Prec.</th>\n",
              "      <th class=\"col_heading level0 col5\" >F1</th>\n",
              "      <th class=\"col_heading level0 col6\" >Kappa</th>\n",
              "      <th class=\"col_heading level0 col7\" >MCC</th>\n",
              "    </tr>\n",
              "  </thead>\n",
              "  <tbody>\n",
              "    <tr>\n",
              "      <th id=\"T_6ecc6_level0_row0\" class=\"row_heading level0 row0\" >0</th>\n",
              "      <td id=\"T_6ecc6_row0_col0\" class=\"data row0 col0\" >Random Forest Classifier</td>\n",
              "      <td id=\"T_6ecc6_row0_col1\" class=\"data row0 col1\" >0.6546</td>\n",
              "      <td id=\"T_6ecc6_row0_col2\" class=\"data row0 col2\" >0.8411</td>\n",
              "      <td id=\"T_6ecc6_row0_col3\" class=\"data row0 col3\" >0.6941</td>\n",
              "      <td id=\"T_6ecc6_row0_col4\" class=\"data row0 col4\" >0.6491</td>\n",
              "      <td id=\"T_6ecc6_row0_col5\" class=\"data row0 col5\" >0.6578</td>\n",
              "      <td id=\"T_6ecc6_row0_col6\" class=\"data row0 col6\" >0.4621</td>\n",
              "      <td id=\"T_6ecc6_row0_col7\" class=\"data row0 col7\" >0.4684</td>\n",
              "    </tr>\n",
              "  </tbody>\n",
              "</table>\n"
            ],
            "text/plain": [
              "<pandas.io.formats.style.Styler at 0x7fe14c148a60>"
            ]
          },
          "metadata": {}
        }
      ],
      "metadata": {
        "colab": {
          "base_uri": "https://localhost:8080/",
          "height": 81
        },
        "id": "8handW2hfuPD",
        "outputId": "66036a1d-8c66-4c6f-c997-d42c4b1f95d2"
      }
    },
    {
      "cell_type": "markdown",
      "source": [
        "# 12.0 Finalize Model for Deployment"
      ],
      "metadata": {
        "id": "HaVz-bOIfuPN"
      }
    },
    {
      "cell_type": "markdown",
      "source": [
        "Model finalization is the last step in the experiment. A normal machine learning workflow in PyCaret starts with `setup()`, followed by comparing all models using `compare_models()` and shortlisting a few candidate models (based on the metric of interest) to perform several modeling techniques such as hyperparameter tuning, ensembling, stacking etc. This workflow will eventually lead you to the best model for use in making predictions on new and unseen data. The `finalize_model()` function fits the model onto the complete dataset including the test/hold-out sample (30% in this case). The purpose of this function is to train the model on the complete dataset before it is deployed in production."
      ],
      "metadata": {
        "id": "7pRFqxXVfuPO"
      }
    },
    {
      "cell_type": "code",
      "execution_count": 27,
      "source": [
        "final_best = finalize_model(tuned_best)"
      ],
      "outputs": [],
      "metadata": {
        "id": "oIOJaUkEfuPP"
      }
    },
    {
      "cell_type": "code",
      "execution_count": 28,
      "source": [
        "#Final K Nearest Neighbour parameters for deployment\n",
        "print(final_best)"
      ],
      "outputs": [
        {
          "output_type": "stream",
          "name": "stdout",
          "text": [
            "Pipeline(memory=Memory(location=/tmp/joblib),\n",
            "         steps=[('label_encoding',\n",
            "                 TransformerWrapperWithInverse(exclude=None, include=None,\n",
            "                                               transformer=LabelEncoder())),\n",
            "                ('numerical_imputer',\n",
            "                 TransformerWrapper(exclude=None,\n",
            "                                    include=['fixed acidity',\n",
            "                                             'volatile acidity', 'citric acid',\n",
            "                                             'residual sugar', 'chlorides',\n",
            "                                             'free sulfur dioxide',\n",
            "                                             'total sulfur dioxide', 'density',\n",
            "                                             'pH', 'su...\n",
            "                 RandomForestClassifier(bootstrap=True, ccp_alpha=0.0,\n",
            "                                        class_weight=None, criterion='gini',\n",
            "                                        max_depth=None, max_features='auto',\n",
            "                                        max_leaf_nodes=None, max_samples=None,\n",
            "                                        min_impurity_decrease=0.0,\n",
            "                                        min_samples_leaf=1, min_samples_split=2,\n",
            "                                        min_weight_fraction_leaf=0.0,\n",
            "                                        n_estimators=100, n_jobs=-1,\n",
            "                                        oob_score=False, random_state=123,\n",
            "                                        verbose=0, warm_start=False))],\n",
            "         verbose=False)\n"
          ]
        }
      ],
      "metadata": {
        "colab": {
          "base_uri": "https://localhost:8080/"
        },
        "id": "tyo7534XfuPV",
        "outputId": "6912064f-7b32-411c-eec3-e4b9ae5f1139"
      }
    },
    {
      "cell_type": "markdown",
      "source": [
        "# 13.0 Predict on unseen data"
      ],
      "metadata": {
        "id": "da2mWvRefuPk"
      }
    },
    {
      "cell_type": "markdown",
      "source": [
        "The `predict_model()` function is also used to predict on the unseen dataset. The only difference from section 11 above is that this time we will pass the `data_unseen` parameter. `data_unseen` is the variable created at the beginning of the tutorial and contains 10% (15 samples) of the original dataset which was never exposed to PyCaret. (see section 5 for explanation)"
      ],
      "metadata": {
        "id": "BAAHbcnVfuPl"
      }
    },
    {
      "cell_type": "code",
      "execution_count": 29,
      "source": [
        "unseen_predictions = predict_model(final_best, data=data_unseen)\n",
        "unseen_predictions.head()"
      ],
      "outputs": [
        {
          "output_type": "display_data",
          "data": {
            "text/html": [
              "<style type=\"text/css\">\n",
              "</style>\n",
              "<table id=\"T_f0043_\" class=\"dataframe\">\n",
              "  <thead>\n",
              "    <tr>\n",
              "      <th class=\"blank level0\" >&nbsp;</th>\n",
              "      <th class=\"col_heading level0 col0\" >Model</th>\n",
              "      <th class=\"col_heading level0 col1\" >Accuracy</th>\n",
              "      <th class=\"col_heading level0 col2\" >AUC</th>\n",
              "      <th class=\"col_heading level0 col3\" >Recall</th>\n",
              "      <th class=\"col_heading level0 col4\" >Prec.</th>\n",
              "      <th class=\"col_heading level0 col5\" >F1</th>\n",
              "      <th class=\"col_heading level0 col6\" >Kappa</th>\n",
              "      <th class=\"col_heading level0 col7\" >MCC</th>\n",
              "    </tr>\n",
              "  </thead>\n",
              "  <tbody>\n",
              "    <tr>\n",
              "      <th id=\"T_f0043_level0_row0\" class=\"row_heading level0 row0\" >0</th>\n",
              "      <td id=\"T_f0043_row0_col0\" class=\"data row0 col0\" >Random Forest Classifier</td>\n",
              "      <td id=\"T_f0043_row0_col1\" class=\"data row0 col1\" >0.7143</td>\n",
              "      <td id=\"T_f0043_row0_col2\" class=\"data row0 col2\" >0.8778</td>\n",
              "      <td id=\"T_f0043_row0_col3\" class=\"data row0 col3\" >0.7286</td>\n",
              "      <td id=\"T_f0043_row0_col4\" class=\"data row0 col4\" >0.7062</td>\n",
              "      <td id=\"T_f0043_row0_col5\" class=\"data row0 col5\" >0.7102</td>\n",
              "      <td id=\"T_f0043_row0_col6\" class=\"data row0 col6\" >0.5559</td>\n",
              "      <td id=\"T_f0043_row0_col7\" class=\"data row0 col7\" >0.5598</td>\n",
              "    </tr>\n",
              "  </tbody>\n",
              "</table>\n"
            ],
            "text/plain": [
              "<pandas.io.formats.style.Styler at 0x7fe14d1e3280>"
            ]
          },
          "metadata": {}
        },
        {
          "output_type": "execute_result",
          "data": {
            "text/html": [
              "\n",
              "  <div id=\"df-e20fbbad-3446-4c03-9285-da8782072f4d\">\n",
              "    <div class=\"colab-df-container\">\n",
              "      <div>\n",
              "<style scoped>\n",
              "    .dataframe tbody tr th:only-of-type {\n",
              "        vertical-align: middle;\n",
              "    }\n",
              "\n",
              "    .dataframe tbody tr th {\n",
              "        vertical-align: top;\n",
              "    }\n",
              "\n",
              "    .dataframe thead th {\n",
              "        text-align: right;\n",
              "    }\n",
              "</style>\n",
              "<table border=\"1\" class=\"dataframe\">\n",
              "  <thead>\n",
              "    <tr style=\"text-align: right;\">\n",
              "      <th></th>\n",
              "      <th>fixed acidity</th>\n",
              "      <th>volatile acidity</th>\n",
              "      <th>citric acid</th>\n",
              "      <th>residual sugar</th>\n",
              "      <th>chlorides</th>\n",
              "      <th>free sulfur dioxide</th>\n",
              "      <th>total sulfur dioxide</th>\n",
              "      <th>density</th>\n",
              "      <th>pH</th>\n",
              "      <th>sulphates</th>\n",
              "      <th>alcohol</th>\n",
              "      <th>quality</th>\n",
              "      <th>prediction_label</th>\n",
              "      <th>prediction_score</th>\n",
              "    </tr>\n",
              "  </thead>\n",
              "  <tbody>\n",
              "    <tr>\n",
              "      <th>0</th>\n",
              "      <td>8.1</td>\n",
              "      <td>0.28</td>\n",
              "      <td>0.40</td>\n",
              "      <td>6.900000</td>\n",
              "      <td>0.050</td>\n",
              "      <td>30.0</td>\n",
              "      <td>97.0</td>\n",
              "      <td>0.9951</td>\n",
              "      <td>3.26</td>\n",
              "      <td>0.44</td>\n",
              "      <td>10.1</td>\n",
              "      <td>6</td>\n",
              "      <td>6</td>\n",
              "      <td>0.89</td>\n",
              "    </tr>\n",
              "    <tr>\n",
              "      <th>1</th>\n",
              "      <td>7.0</td>\n",
              "      <td>0.27</td>\n",
              "      <td>0.36</td>\n",
              "      <td>20.700001</td>\n",
              "      <td>0.045</td>\n",
              "      <td>45.0</td>\n",
              "      <td>170.0</td>\n",
              "      <td>1.0010</td>\n",
              "      <td>3.00</td>\n",
              "      <td>0.45</td>\n",
              "      <td>8.8</td>\n",
              "      <td>6</td>\n",
              "      <td>6</td>\n",
              "      <td>0.71</td>\n",
              "    </tr>\n",
              "    <tr>\n",
              "      <th>2</th>\n",
              "      <td>8.6</td>\n",
              "      <td>0.23</td>\n",
              "      <td>0.40</td>\n",
              "      <td>4.200000</td>\n",
              "      <td>0.035</td>\n",
              "      <td>17.0</td>\n",
              "      <td>109.0</td>\n",
              "      <td>0.9947</td>\n",
              "      <td>3.14</td>\n",
              "      <td>0.53</td>\n",
              "      <td>9.7</td>\n",
              "      <td>5</td>\n",
              "      <td>6</td>\n",
              "      <td>0.54</td>\n",
              "    </tr>\n",
              "    <tr>\n",
              "      <th>3</th>\n",
              "      <td>6.6</td>\n",
              "      <td>0.16</td>\n",
              "      <td>0.40</td>\n",
              "      <td>1.500000</td>\n",
              "      <td>0.044</td>\n",
              "      <td>48.0</td>\n",
              "      <td>143.0</td>\n",
              "      <td>0.9912</td>\n",
              "      <td>3.54</td>\n",
              "      <td>0.52</td>\n",
              "      <td>12.4</td>\n",
              "      <td>7</td>\n",
              "      <td>6</td>\n",
              "      <td>0.34</td>\n",
              "    </tr>\n",
              "    <tr>\n",
              "      <th>4</th>\n",
              "      <td>7.4</td>\n",
              "      <td>0.34</td>\n",
              "      <td>0.42</td>\n",
              "      <td>1.100000</td>\n",
              "      <td>0.033</td>\n",
              "      <td>17.0</td>\n",
              "      <td>171.0</td>\n",
              "      <td>0.9917</td>\n",
              "      <td>3.12</td>\n",
              "      <td>0.53</td>\n",
              "      <td>11.3</td>\n",
              "      <td>6</td>\n",
              "      <td>6</td>\n",
              "      <td>0.40</td>\n",
              "    </tr>\n",
              "  </tbody>\n",
              "</table>\n",
              "</div>\n",
              "      <button class=\"colab-df-convert\" onclick=\"convertToInteractive('df-e20fbbad-3446-4c03-9285-da8782072f4d')\"\n",
              "              title=\"Convert this dataframe to an interactive table.\"\n",
              "              style=\"display:none;\">\n",
              "        \n",
              "  <svg xmlns=\"http://www.w3.org/2000/svg\" height=\"24px\"viewBox=\"0 0 24 24\"\n",
              "       width=\"24px\">\n",
              "    <path d=\"M0 0h24v24H0V0z\" fill=\"none\"/>\n",
              "    <path d=\"M18.56 5.44l.94 2.06.94-2.06 2.06-.94-2.06-.94-.94-2.06-.94 2.06-2.06.94zm-11 1L8.5 8.5l.94-2.06 2.06-.94-2.06-.94L8.5 2.5l-.94 2.06-2.06.94zm10 10l.94 2.06.94-2.06 2.06-.94-2.06-.94-.94-2.06-.94 2.06-2.06.94z\"/><path d=\"M17.41 7.96l-1.37-1.37c-.4-.4-.92-.59-1.43-.59-.52 0-1.04.2-1.43.59L10.3 9.45l-7.72 7.72c-.78.78-.78 2.05 0 2.83L4 21.41c.39.39.9.59 1.41.59.51 0 1.02-.2 1.41-.59l7.78-7.78 2.81-2.81c.8-.78.8-2.07 0-2.86zM5.41 20L4 18.59l7.72-7.72 1.47 1.35L5.41 20z\"/>\n",
              "  </svg>\n",
              "      </button>\n",
              "      \n",
              "  <style>\n",
              "    .colab-df-container {\n",
              "      display:flex;\n",
              "      flex-wrap:wrap;\n",
              "      gap: 12px;\n",
              "    }\n",
              "\n",
              "    .colab-df-convert {\n",
              "      background-color: #E8F0FE;\n",
              "      border: none;\n",
              "      border-radius: 50%;\n",
              "      cursor: pointer;\n",
              "      display: none;\n",
              "      fill: #1967D2;\n",
              "      height: 32px;\n",
              "      padding: 0 0 0 0;\n",
              "      width: 32px;\n",
              "    }\n",
              "\n",
              "    .colab-df-convert:hover {\n",
              "      background-color: #E2EBFA;\n",
              "      box-shadow: 0px 1px 2px rgba(60, 64, 67, 0.3), 0px 1px 3px 1px rgba(60, 64, 67, 0.15);\n",
              "      fill: #174EA6;\n",
              "    }\n",
              "\n",
              "    [theme=dark] .colab-df-convert {\n",
              "      background-color: #3B4455;\n",
              "      fill: #D2E3FC;\n",
              "    }\n",
              "\n",
              "    [theme=dark] .colab-df-convert:hover {\n",
              "      background-color: #434B5C;\n",
              "      box-shadow: 0px 1px 3px 1px rgba(0, 0, 0, 0.15);\n",
              "      filter: drop-shadow(0px 1px 2px rgba(0, 0, 0, 0.3));\n",
              "      fill: #FFFFFF;\n",
              "    }\n",
              "  </style>\n",
              "\n",
              "      <script>\n",
              "        const buttonEl =\n",
              "          document.querySelector('#df-e20fbbad-3446-4c03-9285-da8782072f4d button.colab-df-convert');\n",
              "        buttonEl.style.display =\n",
              "          google.colab.kernel.accessAllowed ? 'block' : 'none';\n",
              "\n",
              "        async function convertToInteractive(key) {\n",
              "          const element = document.querySelector('#df-e20fbbad-3446-4c03-9285-da8782072f4d');\n",
              "          const dataTable =\n",
              "            await google.colab.kernel.invokeFunction('convertToInteractive',\n",
              "                                                     [key], {});\n",
              "          if (!dataTable) return;\n",
              "\n",
              "          const docLinkHtml = 'Like what you see? Visit the ' +\n",
              "            '<a target=\"_blank\" href=https://colab.research.google.com/notebooks/data_table.ipynb>data table notebook</a>'\n",
              "            + ' to learn more about interactive tables.';\n",
              "          element.innerHTML = '';\n",
              "          dataTable['output_type'] = 'display_data';\n",
              "          await google.colab.output.renderOutput(dataTable, element);\n",
              "          const docLink = document.createElement('div');\n",
              "          docLink.innerHTML = docLinkHtml;\n",
              "          element.appendChild(docLink);\n",
              "        }\n",
              "      </script>\n",
              "    </div>\n",
              "  </div>\n",
              "  "
            ],
            "text/plain": [
              "   fixed acidity  volatile acidity  citric acid  residual sugar  chlorides  \\\n",
              "0            8.1              0.28         0.40        6.900000      0.050   \n",
              "1            7.0              0.27         0.36       20.700001      0.045   \n",
              "2            8.6              0.23         0.40        4.200000      0.035   \n",
              "3            6.6              0.16         0.40        1.500000      0.044   \n",
              "4            7.4              0.34         0.42        1.100000      0.033   \n",
              "\n",
              "   free sulfur dioxide  total sulfur dioxide  density    pH  sulphates  \\\n",
              "0                 30.0                  97.0   0.9951  3.26       0.44   \n",
              "1                 45.0                 170.0   1.0010  3.00       0.45   \n",
              "2                 17.0                 109.0   0.9947  3.14       0.53   \n",
              "3                 48.0                 143.0   0.9912  3.54       0.52   \n",
              "4                 17.0                 171.0   0.9917  3.12       0.53   \n",
              "\n",
              "   alcohol  quality  prediction_label  prediction_score  \n",
              "0     10.1        6                 6              0.89  \n",
              "1      8.8        6                 6              0.71  \n",
              "2      9.7        5                 6              0.54  \n",
              "3     12.4        7                 6              0.34  \n",
              "4     11.3        6                 6              0.40  "
            ]
          },
          "metadata": {},
          "execution_count": 29
        }
      ],
      "metadata": {
        "colab": {
          "base_uri": "https://localhost:8080/",
          "height": 349
        },
        "id": "rvL8lBlAfuPn",
        "outputId": "c6efb17a-e09a-4355-f12c-6261505117f4"
      }
    },
    {
      "cell_type": "markdown",
      "source": [
        "The `Label` and `Score` columns are added onto the `data_unseen` set. Label is the prediction and score is the probability of the prediction. Notice that predicted results are concatenated to the original dataset while all the transformations are automatically performed in the background."
      ],
      "metadata": {
        "id": "LKi7aVcJfuPr"
      }
    },
    {
      "cell_type": "markdown",
      "source": [
        "# 14.0 Saving the model"
      ],
      "metadata": {
        "id": "uAhEcJnqfuPs"
      }
    },
    {
      "cell_type": "code",
      "execution_count": 30,
      "source": [
        "save_model(final_best,'Final Best Model 03Dec2022')"
      ],
      "outputs": [
        {
          "output_type": "stream",
          "name": "stdout",
          "text": [
            "Transformation Pipeline and Model Successfully Saved\n"
          ]
        },
        {
          "output_type": "execute_result",
          "data": {
            "text/plain": [
              "(Pipeline(memory=Memory(location=/tmp/joblib),\n",
              "          steps=[('label_encoding',\n",
              "                  TransformerWrapperWithInverse(exclude=None, include=None,\n",
              "                                                transformer=LabelEncoder())),\n",
              "                 ('numerical_imputer',\n",
              "                  TransformerWrapper(exclude=None,\n",
              "                                     include=['fixed acidity',\n",
              "                                              'volatile acidity', 'citric acid',\n",
              "                                              'residual sugar', 'chlorides',\n",
              "                                              'free sulfur dioxide',\n",
              "                                              'total sulfur dioxide', 'density',\n",
              "                                              'pH', 'su...\n",
              "                  RandomForestClassifier(bootstrap=True, ccp_alpha=0.0,\n",
              "                                         class_weight=None, criterion='gini',\n",
              "                                         max_depth=None, max_features='auto',\n",
              "                                         max_leaf_nodes=None, max_samples=None,\n",
              "                                         min_impurity_decrease=0.0,\n",
              "                                         min_samples_leaf=1, min_samples_split=2,\n",
              "                                         min_weight_fraction_leaf=0.0,\n",
              "                                         n_estimators=100, n_jobs=-1,\n",
              "                                         oob_score=False, random_state=123,\n",
              "                                         verbose=0, warm_start=False))],\n",
              "          verbose=False), 'Final Best Model 03Dec2022.pkl')"
            ]
          },
          "metadata": {},
          "execution_count": 30
        }
      ],
      "metadata": {
        "colab": {
          "base_uri": "https://localhost:8080/"
        },
        "id": "2UL0UC7UfuPu",
        "outputId": "fc62c881-6dd7-4034-8126-90cba8e23b81"
      }
    },
    {
      "cell_type": "markdown",
      "source": [
        "# 15.0 Loading the saved model"
      ],
      "metadata": {
        "id": "uVFI4If3fuP1"
      }
    },
    {
      "cell_type": "markdown",
      "source": [
        "To load a saved model at a future date in the same or an alternative environment, we would use PyCaret's `load_model()` function and then easily apply the saved model on new unseen data for prediction."
      ],
      "metadata": {
        "id": "7eHcdfrRfuP3"
      }
    },
    {
      "cell_type": "code",
      "execution_count": 31,
      "source": [
        "saved_final_best = load_model('Final Best Model 03Dec2022')"
      ],
      "outputs": [
        {
          "output_type": "stream",
          "name": "stdout",
          "text": [
            "Transformation Pipeline and Model Successfully Loaded\n"
          ]
        }
      ],
      "metadata": {
        "colab": {
          "base_uri": "https://localhost:8080/"
        },
        "id": "8ThDTvUifuP6",
        "outputId": "3fe587ab-a16e-4f0c-e315-ac0db5c0164d"
      }
    },
    {
      "cell_type": "markdown",
      "source": [
        "Once the model is loaded in the environment, you can simply use it to predict on any new data using the same `predict_model()` function. Below we have applied the loaded model to predict the same `data_unseen` that we used in section 13 above."
      ],
      "metadata": {
        "id": "7bo2xBltfuQC"
      }
    },
    {
      "cell_type": "code",
      "execution_count": 32,
      "source": [
        "new_prediction = predict_model(saved_final_best, data=data_unseen)"
      ],
      "outputs": [
        {
          "output_type": "display_data",
          "data": {
            "text/html": [
              "<style type=\"text/css\">\n",
              "</style>\n",
              "<table id=\"T_b5e16_\" class=\"dataframe\">\n",
              "  <thead>\n",
              "    <tr>\n",
              "      <th class=\"blank level0\" >&nbsp;</th>\n",
              "      <th class=\"col_heading level0 col0\" >Model</th>\n",
              "      <th class=\"col_heading level0 col1\" >Accuracy</th>\n",
              "      <th class=\"col_heading level0 col2\" >AUC</th>\n",
              "      <th class=\"col_heading level0 col3\" >Recall</th>\n",
              "      <th class=\"col_heading level0 col4\" >Prec.</th>\n",
              "      <th class=\"col_heading level0 col5\" >F1</th>\n",
              "      <th class=\"col_heading level0 col6\" >Kappa</th>\n",
              "      <th class=\"col_heading level0 col7\" >MCC</th>\n",
              "    </tr>\n",
              "  </thead>\n",
              "  <tbody>\n",
              "    <tr>\n",
              "      <th id=\"T_b5e16_level0_row0\" class=\"row_heading level0 row0\" >0</th>\n",
              "      <td id=\"T_b5e16_row0_col0\" class=\"data row0 col0\" >Random Forest Classifier</td>\n",
              "      <td id=\"T_b5e16_row0_col1\" class=\"data row0 col1\" >0.7143</td>\n",
              "      <td id=\"T_b5e16_row0_col2\" class=\"data row0 col2\" >0.8778</td>\n",
              "      <td id=\"T_b5e16_row0_col3\" class=\"data row0 col3\" >0.7286</td>\n",
              "      <td id=\"T_b5e16_row0_col4\" class=\"data row0 col4\" >0.7062</td>\n",
              "      <td id=\"T_b5e16_row0_col5\" class=\"data row0 col5\" >0.7102</td>\n",
              "      <td id=\"T_b5e16_row0_col6\" class=\"data row0 col6\" >0.5559</td>\n",
              "      <td id=\"T_b5e16_row0_col7\" class=\"data row0 col7\" >0.5598</td>\n",
              "    </tr>\n",
              "  </tbody>\n",
              "</table>\n"
            ],
            "text/plain": [
              "<pandas.io.formats.style.Styler at 0x7fe14c48a250>"
            ]
          },
          "metadata": {}
        }
      ],
      "metadata": {
        "id": "bcPp5zcjfuQD",
        "colab": {
          "base_uri": "https://localhost:8080/",
          "height": 81
        },
        "outputId": "59a00063-6c59-4b5f-9ddd-0c3b288ba445"
      }
    },
    {
      "cell_type": "code",
      "execution_count": 33,
      "source": [
        "new_prediction.head()"
      ],
      "outputs": [
        {
          "output_type": "execute_result",
          "data": {
            "text/html": [
              "\n",
              "  <div id=\"df-19acc3d0-693a-43e9-a3b9-7d8fd7efff9c\">\n",
              "    <div class=\"colab-df-container\">\n",
              "      <div>\n",
              "<style scoped>\n",
              "    .dataframe tbody tr th:only-of-type {\n",
              "        vertical-align: middle;\n",
              "    }\n",
              "\n",
              "    .dataframe tbody tr th {\n",
              "        vertical-align: top;\n",
              "    }\n",
              "\n",
              "    .dataframe thead th {\n",
              "        text-align: right;\n",
              "    }\n",
              "</style>\n",
              "<table border=\"1\" class=\"dataframe\">\n",
              "  <thead>\n",
              "    <tr style=\"text-align: right;\">\n",
              "      <th></th>\n",
              "      <th>fixed acidity</th>\n",
              "      <th>volatile acidity</th>\n",
              "      <th>citric acid</th>\n",
              "      <th>residual sugar</th>\n",
              "      <th>chlorides</th>\n",
              "      <th>free sulfur dioxide</th>\n",
              "      <th>total sulfur dioxide</th>\n",
              "      <th>density</th>\n",
              "      <th>pH</th>\n",
              "      <th>sulphates</th>\n",
              "      <th>alcohol</th>\n",
              "      <th>quality</th>\n",
              "      <th>prediction_label</th>\n",
              "      <th>prediction_score</th>\n",
              "    </tr>\n",
              "  </thead>\n",
              "  <tbody>\n",
              "    <tr>\n",
              "      <th>0</th>\n",
              "      <td>8.1</td>\n",
              "      <td>0.28</td>\n",
              "      <td>0.40</td>\n",
              "      <td>6.900000</td>\n",
              "      <td>0.050</td>\n",
              "      <td>30.0</td>\n",
              "      <td>97.0</td>\n",
              "      <td>0.9951</td>\n",
              "      <td>3.26</td>\n",
              "      <td>0.44</td>\n",
              "      <td>10.1</td>\n",
              "      <td>6</td>\n",
              "      <td>6</td>\n",
              "      <td>0.89</td>\n",
              "    </tr>\n",
              "    <tr>\n",
              "      <th>1</th>\n",
              "      <td>7.0</td>\n",
              "      <td>0.27</td>\n",
              "      <td>0.36</td>\n",
              "      <td>20.700001</td>\n",
              "      <td>0.045</td>\n",
              "      <td>45.0</td>\n",
              "      <td>170.0</td>\n",
              "      <td>1.0010</td>\n",
              "      <td>3.00</td>\n",
              "      <td>0.45</td>\n",
              "      <td>8.8</td>\n",
              "      <td>6</td>\n",
              "      <td>6</td>\n",
              "      <td>0.71</td>\n",
              "    </tr>\n",
              "    <tr>\n",
              "      <th>2</th>\n",
              "      <td>8.6</td>\n",
              "      <td>0.23</td>\n",
              "      <td>0.40</td>\n",
              "      <td>4.200000</td>\n",
              "      <td>0.035</td>\n",
              "      <td>17.0</td>\n",
              "      <td>109.0</td>\n",
              "      <td>0.9947</td>\n",
              "      <td>3.14</td>\n",
              "      <td>0.53</td>\n",
              "      <td>9.7</td>\n",
              "      <td>5</td>\n",
              "      <td>6</td>\n",
              "      <td>0.54</td>\n",
              "    </tr>\n",
              "    <tr>\n",
              "      <th>3</th>\n",
              "      <td>6.6</td>\n",
              "      <td>0.16</td>\n",
              "      <td>0.40</td>\n",
              "      <td>1.500000</td>\n",
              "      <td>0.044</td>\n",
              "      <td>48.0</td>\n",
              "      <td>143.0</td>\n",
              "      <td>0.9912</td>\n",
              "      <td>3.54</td>\n",
              "      <td>0.52</td>\n",
              "      <td>12.4</td>\n",
              "      <td>7</td>\n",
              "      <td>6</td>\n",
              "      <td>0.34</td>\n",
              "    </tr>\n",
              "    <tr>\n",
              "      <th>4</th>\n",
              "      <td>7.4</td>\n",
              "      <td>0.34</td>\n",
              "      <td>0.42</td>\n",
              "      <td>1.100000</td>\n",
              "      <td>0.033</td>\n",
              "      <td>17.0</td>\n",
              "      <td>171.0</td>\n",
              "      <td>0.9917</td>\n",
              "      <td>3.12</td>\n",
              "      <td>0.53</td>\n",
              "      <td>11.3</td>\n",
              "      <td>6</td>\n",
              "      <td>6</td>\n",
              "      <td>0.40</td>\n",
              "    </tr>\n",
              "  </tbody>\n",
              "</table>\n",
              "</div>\n",
              "      <button class=\"colab-df-convert\" onclick=\"convertToInteractive('df-19acc3d0-693a-43e9-a3b9-7d8fd7efff9c')\"\n",
              "              title=\"Convert this dataframe to an interactive table.\"\n",
              "              style=\"display:none;\">\n",
              "        \n",
              "  <svg xmlns=\"http://www.w3.org/2000/svg\" height=\"24px\"viewBox=\"0 0 24 24\"\n",
              "       width=\"24px\">\n",
              "    <path d=\"M0 0h24v24H0V0z\" fill=\"none\"/>\n",
              "    <path d=\"M18.56 5.44l.94 2.06.94-2.06 2.06-.94-2.06-.94-.94-2.06-.94 2.06-2.06.94zm-11 1L8.5 8.5l.94-2.06 2.06-.94-2.06-.94L8.5 2.5l-.94 2.06-2.06.94zm10 10l.94 2.06.94-2.06 2.06-.94-2.06-.94-.94-2.06-.94 2.06-2.06.94z\"/><path d=\"M17.41 7.96l-1.37-1.37c-.4-.4-.92-.59-1.43-.59-.52 0-1.04.2-1.43.59L10.3 9.45l-7.72 7.72c-.78.78-.78 2.05 0 2.83L4 21.41c.39.39.9.59 1.41.59.51 0 1.02-.2 1.41-.59l7.78-7.78 2.81-2.81c.8-.78.8-2.07 0-2.86zM5.41 20L4 18.59l7.72-7.72 1.47 1.35L5.41 20z\"/>\n",
              "  </svg>\n",
              "      </button>\n",
              "      \n",
              "  <style>\n",
              "    .colab-df-container {\n",
              "      display:flex;\n",
              "      flex-wrap:wrap;\n",
              "      gap: 12px;\n",
              "    }\n",
              "\n",
              "    .colab-df-convert {\n",
              "      background-color: #E8F0FE;\n",
              "      border: none;\n",
              "      border-radius: 50%;\n",
              "      cursor: pointer;\n",
              "      display: none;\n",
              "      fill: #1967D2;\n",
              "      height: 32px;\n",
              "      padding: 0 0 0 0;\n",
              "      width: 32px;\n",
              "    }\n",
              "\n",
              "    .colab-df-convert:hover {\n",
              "      background-color: #E2EBFA;\n",
              "      box-shadow: 0px 1px 2px rgba(60, 64, 67, 0.3), 0px 1px 3px 1px rgba(60, 64, 67, 0.15);\n",
              "      fill: #174EA6;\n",
              "    }\n",
              "\n",
              "    [theme=dark] .colab-df-convert {\n",
              "      background-color: #3B4455;\n",
              "      fill: #D2E3FC;\n",
              "    }\n",
              "\n",
              "    [theme=dark] .colab-df-convert:hover {\n",
              "      background-color: #434B5C;\n",
              "      box-shadow: 0px 1px 3px 1px rgba(0, 0, 0, 0.15);\n",
              "      filter: drop-shadow(0px 1px 2px rgba(0, 0, 0, 0.3));\n",
              "      fill: #FFFFFF;\n",
              "    }\n",
              "  </style>\n",
              "\n",
              "      <script>\n",
              "        const buttonEl =\n",
              "          document.querySelector('#df-19acc3d0-693a-43e9-a3b9-7d8fd7efff9c button.colab-df-convert');\n",
              "        buttonEl.style.display =\n",
              "          google.colab.kernel.accessAllowed ? 'block' : 'none';\n",
              "\n",
              "        async function convertToInteractive(key) {\n",
              "          const element = document.querySelector('#df-19acc3d0-693a-43e9-a3b9-7d8fd7efff9c');\n",
              "          const dataTable =\n",
              "            await google.colab.kernel.invokeFunction('convertToInteractive',\n",
              "                                                     [key], {});\n",
              "          if (!dataTable) return;\n",
              "\n",
              "          const docLinkHtml = 'Like what you see? Visit the ' +\n",
              "            '<a target=\"_blank\" href=https://colab.research.google.com/notebooks/data_table.ipynb>data table notebook</a>'\n",
              "            + ' to learn more about interactive tables.';\n",
              "          element.innerHTML = '';\n",
              "          dataTable['output_type'] = 'display_data';\n",
              "          await google.colab.output.renderOutput(dataTable, element);\n",
              "          const docLink = document.createElement('div');\n",
              "          docLink.innerHTML = docLinkHtml;\n",
              "          element.appendChild(docLink);\n",
              "        }\n",
              "      </script>\n",
              "    </div>\n",
              "  </div>\n",
              "  "
            ],
            "text/plain": [
              "   fixed acidity  volatile acidity  citric acid  residual sugar  chlorides  \\\n",
              "0            8.1              0.28         0.40        6.900000      0.050   \n",
              "1            7.0              0.27         0.36       20.700001      0.045   \n",
              "2            8.6              0.23         0.40        4.200000      0.035   \n",
              "3            6.6              0.16         0.40        1.500000      0.044   \n",
              "4            7.4              0.34         0.42        1.100000      0.033   \n",
              "\n",
              "   free sulfur dioxide  total sulfur dioxide  density    pH  sulphates  \\\n",
              "0                 30.0                  97.0   0.9951  3.26       0.44   \n",
              "1                 45.0                 170.0   1.0010  3.00       0.45   \n",
              "2                 17.0                 109.0   0.9947  3.14       0.53   \n",
              "3                 48.0                 143.0   0.9912  3.54       0.52   \n",
              "4                 17.0                 171.0   0.9917  3.12       0.53   \n",
              "\n",
              "   alcohol  quality  prediction_label  prediction_score  \n",
              "0     10.1        6                 6              0.89  \n",
              "1      8.8        6                 6              0.71  \n",
              "2      9.7        5                 6              0.54  \n",
              "3     12.4        7                 6              0.34  \n",
              "4     11.3        6                 6              0.40  "
            ]
          },
          "metadata": {},
          "execution_count": 33
        }
      ],
      "metadata": {
        "colab": {
          "base_uri": "https://localhost:8080/",
          "height": 285
        },
        "id": "NYhNg8RyfuQM",
        "outputId": "2f956252-5112-44aa-cf05-0774869e1b08"
      }
    },
    {
      "cell_type": "markdown",
      "source": [
        "# 16.0 Wrap-up / Next Steps?"
      ],
      "metadata": {
        "id": "9_gIC-mSfuQR"
      }
    },
    {
      "cell_type": "markdown",
      "source": [
        "For next steps, I'm interested in knowing more about the other models that are available and also research about the other libraries that could be used to carry out similar tasks."
      ],
      "metadata": {
        "id": "7IEhZf06oGRh"
      }
    }
  ],
  "metadata": {
    "colab": {
      "collapsed_sections": [
        "e-NQVSpIfuMi",
        "QXG8qOz5fuM3",
        "i9ZvVSDYfuNL",
        "qH7AeJqjfuNX",
        "yyApyoXbfuNZ",
        "PhHDTJYwfuNl",
        "8IA_BtchfuNt",
        "jzY5pn-OfuN4",
        "WVgKXyjdfuN7",
        "fe9QKCZ8fuOU",
        "oF2hDwoifuOd",
        "3zct2zSYfuOl",
        "AegNi_BXfuOn",
        "WdQqEtO4fuOt",
        "iidIhDUufuOx",
        "Wo-Ob7AffuO_",
        "HaVz-bOIfuPN",
        "da2mWvRefuPk",
        "uAhEcJnqfuPs",
        "uVFI4If3fuP1",
        "9_gIC-mSfuQR"
      ],
      "provenance": []
    },
    "kernelspec": {
      "display_name": "Python 3",
      "language": "python",
      "name": "python3"
    },
    "language_info": {
      "codemirror_mode": {
        "name": "ipython",
        "version": 3
      },
      "file_extension": ".py",
      "mimetype": "text/x-python",
      "name": "python",
      "nbconvert_exporter": "python",
      "pygments_lexer": "ipython3",
      "version": "3.7.4"
    },
    "widgets": {
      "application/vnd.jupyter.widget-state+json": {
        "10638b21033245ca851ece2275f1ab0a": {
          "model_module": "@jupyter-widgets/controls",
          "model_name": "HBoxModel",
          "model_module_version": "1.5.0",
          "state": {
            "_dom_classes": [],
            "_model_module": "@jupyter-widgets/controls",
            "_model_module_version": "1.5.0",
            "_model_name": "HBoxModel",
            "_view_count": null,
            "_view_module": "@jupyter-widgets/controls",
            "_view_module_version": "1.5.0",
            "_view_name": "HBoxView",
            "box_style": "",
            "children": [
              "IPY_MODEL_748cd7b4778f488a848b75ff0890139f",
              "IPY_MODEL_5fd444e8ca3142fa908fa44caecbc2ba",
              "IPY_MODEL_6685cc0ffd0a4dc6bfd6d13ceaf6a3b2"
            ],
            "layout": "IPY_MODEL_89271f1e87124c169ac4c70cecb278d4"
          }
        },
        "748cd7b4778f488a848b75ff0890139f": {
          "model_module": "@jupyter-widgets/controls",
          "model_name": "HTMLModel",
          "model_module_version": "1.5.0",
          "state": {
            "_dom_classes": [],
            "_model_module": "@jupyter-widgets/controls",
            "_model_module_version": "1.5.0",
            "_model_name": "HTMLModel",
            "_view_count": null,
            "_view_module": "@jupyter-widgets/controls",
            "_view_module_version": "1.5.0",
            "_view_name": "HTMLView",
            "description": "",
            "description_tooltip": null,
            "layout": "IPY_MODEL_4651df624a5544c08b4dbfd60a48afc7",
            "placeholder": "​",
            "style": "IPY_MODEL_fcd02c3eee5241c0a517b3bfa7fb0893",
            "value": "Processing: 100%"
          }
        },
        "5fd444e8ca3142fa908fa44caecbc2ba": {
          "model_module": "@jupyter-widgets/controls",
          "model_name": "FloatProgressModel",
          "model_module_version": "1.5.0",
          "state": {
            "_dom_classes": [],
            "_model_module": "@jupyter-widgets/controls",
            "_model_module_version": "1.5.0",
            "_model_name": "FloatProgressModel",
            "_view_count": null,
            "_view_module": "@jupyter-widgets/controls",
            "_view_module_version": "1.5.0",
            "_view_name": "ProgressView",
            "bar_style": "",
            "description": "",
            "description_tooltip": null,
            "layout": "IPY_MODEL_8dc93b35ac3d4757b8f7bd2ec85556f5",
            "max": 61,
            "min": 0,
            "orientation": "horizontal",
            "style": "IPY_MODEL_9f2fb7bc989345c1851fea591b64cf9d",
            "value": 61
          }
        },
        "6685cc0ffd0a4dc6bfd6d13ceaf6a3b2": {
          "model_module": "@jupyter-widgets/controls",
          "model_name": "HTMLModel",
          "model_module_version": "1.5.0",
          "state": {
            "_dom_classes": [],
            "_model_module": "@jupyter-widgets/controls",
            "_model_module_version": "1.5.0",
            "_model_name": "HTMLModel",
            "_view_count": null,
            "_view_module": "@jupyter-widgets/controls",
            "_view_module_version": "1.5.0",
            "_view_name": "HTMLView",
            "description": "",
            "description_tooltip": null,
            "layout": "IPY_MODEL_b1b9e2beb04e4ff0a0a106b9e01ce0c9",
            "placeholder": "​",
            "style": "IPY_MODEL_6f942e9df5da41e5a36f9f625e887e6f",
            "value": " 61/61 [01:26&lt;00:00,  1.25it/s]"
          }
        },
        "89271f1e87124c169ac4c70cecb278d4": {
          "model_module": "@jupyter-widgets/base",
          "model_name": "LayoutModel",
          "model_module_version": "1.2.0",
          "state": {
            "_model_module": "@jupyter-widgets/base",
            "_model_module_version": "1.2.0",
            "_model_name": "LayoutModel",
            "_view_count": null,
            "_view_module": "@jupyter-widgets/base",
            "_view_module_version": "1.2.0",
            "_view_name": "LayoutView",
            "align_content": null,
            "align_items": null,
            "align_self": null,
            "border": null,
            "bottom": null,
            "display": null,
            "flex": null,
            "flex_flow": null,
            "grid_area": null,
            "grid_auto_columns": null,
            "grid_auto_flow": null,
            "grid_auto_rows": null,
            "grid_column": null,
            "grid_gap": null,
            "grid_row": null,
            "grid_template_areas": null,
            "grid_template_columns": null,
            "grid_template_rows": null,
            "height": null,
            "justify_content": null,
            "justify_items": null,
            "left": null,
            "margin": null,
            "max_height": null,
            "max_width": null,
            "min_height": null,
            "min_width": null,
            "object_fit": null,
            "object_position": null,
            "order": null,
            "overflow": null,
            "overflow_x": null,
            "overflow_y": null,
            "padding": null,
            "right": null,
            "top": null,
            "visibility": "hidden",
            "width": null
          }
        },
        "4651df624a5544c08b4dbfd60a48afc7": {
          "model_module": "@jupyter-widgets/base",
          "model_name": "LayoutModel",
          "model_module_version": "1.2.0",
          "state": {
            "_model_module": "@jupyter-widgets/base",
            "_model_module_version": "1.2.0",
            "_model_name": "LayoutModel",
            "_view_count": null,
            "_view_module": "@jupyter-widgets/base",
            "_view_module_version": "1.2.0",
            "_view_name": "LayoutView",
            "align_content": null,
            "align_items": null,
            "align_self": null,
            "border": null,
            "bottom": null,
            "display": null,
            "flex": null,
            "flex_flow": null,
            "grid_area": null,
            "grid_auto_columns": null,
            "grid_auto_flow": null,
            "grid_auto_rows": null,
            "grid_column": null,
            "grid_gap": null,
            "grid_row": null,
            "grid_template_areas": null,
            "grid_template_columns": null,
            "grid_template_rows": null,
            "height": null,
            "justify_content": null,
            "justify_items": null,
            "left": null,
            "margin": null,
            "max_height": null,
            "max_width": null,
            "min_height": null,
            "min_width": null,
            "object_fit": null,
            "object_position": null,
            "order": null,
            "overflow": null,
            "overflow_x": null,
            "overflow_y": null,
            "padding": null,
            "right": null,
            "top": null,
            "visibility": null,
            "width": null
          }
        },
        "fcd02c3eee5241c0a517b3bfa7fb0893": {
          "model_module": "@jupyter-widgets/controls",
          "model_name": "DescriptionStyleModel",
          "model_module_version": "1.5.0",
          "state": {
            "_model_module": "@jupyter-widgets/controls",
            "_model_module_version": "1.5.0",
            "_model_name": "DescriptionStyleModel",
            "_view_count": null,
            "_view_module": "@jupyter-widgets/base",
            "_view_module_version": "1.2.0",
            "_view_name": "StyleView",
            "description_width": ""
          }
        },
        "8dc93b35ac3d4757b8f7bd2ec85556f5": {
          "model_module": "@jupyter-widgets/base",
          "model_name": "LayoutModel",
          "model_module_version": "1.2.0",
          "state": {
            "_model_module": "@jupyter-widgets/base",
            "_model_module_version": "1.2.0",
            "_model_name": "LayoutModel",
            "_view_count": null,
            "_view_module": "@jupyter-widgets/base",
            "_view_module_version": "1.2.0",
            "_view_name": "LayoutView",
            "align_content": null,
            "align_items": null,
            "align_self": null,
            "border": null,
            "bottom": null,
            "display": null,
            "flex": null,
            "flex_flow": null,
            "grid_area": null,
            "grid_auto_columns": null,
            "grid_auto_flow": null,
            "grid_auto_rows": null,
            "grid_column": null,
            "grid_gap": null,
            "grid_row": null,
            "grid_template_areas": null,
            "grid_template_columns": null,
            "grid_template_rows": null,
            "height": null,
            "justify_content": null,
            "justify_items": null,
            "left": null,
            "margin": null,
            "max_height": null,
            "max_width": null,
            "min_height": null,
            "min_width": null,
            "object_fit": null,
            "object_position": null,
            "order": null,
            "overflow": null,
            "overflow_x": null,
            "overflow_y": null,
            "padding": null,
            "right": null,
            "top": null,
            "visibility": null,
            "width": null
          }
        },
        "9f2fb7bc989345c1851fea591b64cf9d": {
          "model_module": "@jupyter-widgets/controls",
          "model_name": "ProgressStyleModel",
          "model_module_version": "1.5.0",
          "state": {
            "_model_module": "@jupyter-widgets/controls",
            "_model_module_version": "1.5.0",
            "_model_name": "ProgressStyleModel",
            "_view_count": null,
            "_view_module": "@jupyter-widgets/base",
            "_view_module_version": "1.2.0",
            "_view_name": "StyleView",
            "bar_color": null,
            "description_width": ""
          }
        },
        "b1b9e2beb04e4ff0a0a106b9e01ce0c9": {
          "model_module": "@jupyter-widgets/base",
          "model_name": "LayoutModel",
          "model_module_version": "1.2.0",
          "state": {
            "_model_module": "@jupyter-widgets/base",
            "_model_module_version": "1.2.0",
            "_model_name": "LayoutModel",
            "_view_count": null,
            "_view_module": "@jupyter-widgets/base",
            "_view_module_version": "1.2.0",
            "_view_name": "LayoutView",
            "align_content": null,
            "align_items": null,
            "align_self": null,
            "border": null,
            "bottom": null,
            "display": null,
            "flex": null,
            "flex_flow": null,
            "grid_area": null,
            "grid_auto_columns": null,
            "grid_auto_flow": null,
            "grid_auto_rows": null,
            "grid_column": null,
            "grid_gap": null,
            "grid_row": null,
            "grid_template_areas": null,
            "grid_template_columns": null,
            "grid_template_rows": null,
            "height": null,
            "justify_content": null,
            "justify_items": null,
            "left": null,
            "margin": null,
            "max_height": null,
            "max_width": null,
            "min_height": null,
            "min_width": null,
            "object_fit": null,
            "object_position": null,
            "order": null,
            "overflow": null,
            "overflow_x": null,
            "overflow_y": null,
            "padding": null,
            "right": null,
            "top": null,
            "visibility": null,
            "width": null
          }
        },
        "6f942e9df5da41e5a36f9f625e887e6f": {
          "model_module": "@jupyter-widgets/controls",
          "model_name": "DescriptionStyleModel",
          "model_module_version": "1.5.0",
          "state": {
            "_model_module": "@jupyter-widgets/controls",
            "_model_module_version": "1.5.0",
            "_model_name": "DescriptionStyleModel",
            "_view_count": null,
            "_view_module": "@jupyter-widgets/base",
            "_view_module_version": "1.2.0",
            "_view_name": "StyleView",
            "description_width": ""
          }
        },
        "b453bbe4c8c84fcdb069bdf97d194321": {
          "model_module": "@jupyter-widgets/controls",
          "model_name": "HBoxModel",
          "model_module_version": "1.5.0",
          "state": {
            "_dom_classes": [],
            "_model_module": "@jupyter-widgets/controls",
            "_model_module_version": "1.5.0",
            "_model_name": "HBoxModel",
            "_view_count": null,
            "_view_module": "@jupyter-widgets/controls",
            "_view_module_version": "1.5.0",
            "_view_name": "HBoxView",
            "box_style": "",
            "children": [
              "IPY_MODEL_8879d2f135f1483d96dd20950fae2d66",
              "IPY_MODEL_1edd25ccedf74faea7456b55f015e3dd",
              "IPY_MODEL_eaead5d0293743408ad3fd9b6ba43a6d"
            ],
            "layout": "IPY_MODEL_0e80fd10bad547109dee5d73d3e1c00c"
          }
        },
        "8879d2f135f1483d96dd20950fae2d66": {
          "model_module": "@jupyter-widgets/controls",
          "model_name": "HTMLModel",
          "model_module_version": "1.5.0",
          "state": {
            "_dom_classes": [],
            "_model_module": "@jupyter-widgets/controls",
            "_model_module_version": "1.5.0",
            "_model_name": "HTMLModel",
            "_view_count": null,
            "_view_module": "@jupyter-widgets/controls",
            "_view_module_version": "1.5.0",
            "_view_name": "HTMLView",
            "description": "",
            "description_tooltip": null,
            "layout": "IPY_MODEL_cf6f7cd8da1a498e97453f7145a6b7a6",
            "placeholder": "​",
            "style": "IPY_MODEL_3a768a3d64534e69a135f39ae96f3421",
            "value": "Processing: 100%"
          }
        },
        "1edd25ccedf74faea7456b55f015e3dd": {
          "model_module": "@jupyter-widgets/controls",
          "model_name": "FloatProgressModel",
          "model_module_version": "1.5.0",
          "state": {
            "_dom_classes": [],
            "_model_module": "@jupyter-widgets/controls",
            "_model_module_version": "1.5.0",
            "_model_name": "FloatProgressModel",
            "_view_count": null,
            "_view_module": "@jupyter-widgets/controls",
            "_view_module_version": "1.5.0",
            "_view_name": "ProgressView",
            "bar_style": "",
            "description": "",
            "description_tooltip": null,
            "layout": "IPY_MODEL_6c023794764f4f519458c4a93debc861",
            "max": 4,
            "min": 0,
            "orientation": "horizontal",
            "style": "IPY_MODEL_bcae748f3b1d4471a04cc623bf128ebe",
            "value": 4
          }
        },
        "eaead5d0293743408ad3fd9b6ba43a6d": {
          "model_module": "@jupyter-widgets/controls",
          "model_name": "HTMLModel",
          "model_module_version": "1.5.0",
          "state": {
            "_dom_classes": [],
            "_model_module": "@jupyter-widgets/controls",
            "_model_module_version": "1.5.0",
            "_model_name": "HTMLModel",
            "_view_count": null,
            "_view_module": "@jupyter-widgets/controls",
            "_view_module_version": "1.5.0",
            "_view_name": "HTMLView",
            "description": "",
            "description_tooltip": null,
            "layout": "IPY_MODEL_b820495fe0c24774b4accb279f9233c6",
            "placeholder": "​",
            "style": "IPY_MODEL_7a40549848464efe9f49d46d09d0f84b",
            "value": " 4/4 [00:06&lt;00:00,  1.53s/it]"
          }
        },
        "0e80fd10bad547109dee5d73d3e1c00c": {
          "model_module": "@jupyter-widgets/base",
          "model_name": "LayoutModel",
          "model_module_version": "1.2.0",
          "state": {
            "_model_module": "@jupyter-widgets/base",
            "_model_module_version": "1.2.0",
            "_model_name": "LayoutModel",
            "_view_count": null,
            "_view_module": "@jupyter-widgets/base",
            "_view_module_version": "1.2.0",
            "_view_name": "LayoutView",
            "align_content": null,
            "align_items": null,
            "align_self": null,
            "border": null,
            "bottom": null,
            "display": null,
            "flex": null,
            "flex_flow": null,
            "grid_area": null,
            "grid_auto_columns": null,
            "grid_auto_flow": null,
            "grid_auto_rows": null,
            "grid_column": null,
            "grid_gap": null,
            "grid_row": null,
            "grid_template_areas": null,
            "grid_template_columns": null,
            "grid_template_rows": null,
            "height": null,
            "justify_content": null,
            "justify_items": null,
            "left": null,
            "margin": null,
            "max_height": null,
            "max_width": null,
            "min_height": null,
            "min_width": null,
            "object_fit": null,
            "object_position": null,
            "order": null,
            "overflow": null,
            "overflow_x": null,
            "overflow_y": null,
            "padding": null,
            "right": null,
            "top": null,
            "visibility": "hidden",
            "width": null
          }
        },
        "cf6f7cd8da1a498e97453f7145a6b7a6": {
          "model_module": "@jupyter-widgets/base",
          "model_name": "LayoutModel",
          "model_module_version": "1.2.0",
          "state": {
            "_model_module": "@jupyter-widgets/base",
            "_model_module_version": "1.2.0",
            "_model_name": "LayoutModel",
            "_view_count": null,
            "_view_module": "@jupyter-widgets/base",
            "_view_module_version": "1.2.0",
            "_view_name": "LayoutView",
            "align_content": null,
            "align_items": null,
            "align_self": null,
            "border": null,
            "bottom": null,
            "display": null,
            "flex": null,
            "flex_flow": null,
            "grid_area": null,
            "grid_auto_columns": null,
            "grid_auto_flow": null,
            "grid_auto_rows": null,
            "grid_column": null,
            "grid_gap": null,
            "grid_row": null,
            "grid_template_areas": null,
            "grid_template_columns": null,
            "grid_template_rows": null,
            "height": null,
            "justify_content": null,
            "justify_items": null,
            "left": null,
            "margin": null,
            "max_height": null,
            "max_width": null,
            "min_height": null,
            "min_width": null,
            "object_fit": null,
            "object_position": null,
            "order": null,
            "overflow": null,
            "overflow_x": null,
            "overflow_y": null,
            "padding": null,
            "right": null,
            "top": null,
            "visibility": null,
            "width": null
          }
        },
        "3a768a3d64534e69a135f39ae96f3421": {
          "model_module": "@jupyter-widgets/controls",
          "model_name": "DescriptionStyleModel",
          "model_module_version": "1.5.0",
          "state": {
            "_model_module": "@jupyter-widgets/controls",
            "_model_module_version": "1.5.0",
            "_model_name": "DescriptionStyleModel",
            "_view_count": null,
            "_view_module": "@jupyter-widgets/base",
            "_view_module_version": "1.2.0",
            "_view_name": "StyleView",
            "description_width": ""
          }
        },
        "6c023794764f4f519458c4a93debc861": {
          "model_module": "@jupyter-widgets/base",
          "model_name": "LayoutModel",
          "model_module_version": "1.2.0",
          "state": {
            "_model_module": "@jupyter-widgets/base",
            "_model_module_version": "1.2.0",
            "_model_name": "LayoutModel",
            "_view_count": null,
            "_view_module": "@jupyter-widgets/base",
            "_view_module_version": "1.2.0",
            "_view_name": "LayoutView",
            "align_content": null,
            "align_items": null,
            "align_self": null,
            "border": null,
            "bottom": null,
            "display": null,
            "flex": null,
            "flex_flow": null,
            "grid_area": null,
            "grid_auto_columns": null,
            "grid_auto_flow": null,
            "grid_auto_rows": null,
            "grid_column": null,
            "grid_gap": null,
            "grid_row": null,
            "grid_template_areas": null,
            "grid_template_columns": null,
            "grid_template_rows": null,
            "height": null,
            "justify_content": null,
            "justify_items": null,
            "left": null,
            "margin": null,
            "max_height": null,
            "max_width": null,
            "min_height": null,
            "min_width": null,
            "object_fit": null,
            "object_position": null,
            "order": null,
            "overflow": null,
            "overflow_x": null,
            "overflow_y": null,
            "padding": null,
            "right": null,
            "top": null,
            "visibility": null,
            "width": null
          }
        },
        "bcae748f3b1d4471a04cc623bf128ebe": {
          "model_module": "@jupyter-widgets/controls",
          "model_name": "ProgressStyleModel",
          "model_module_version": "1.5.0",
          "state": {
            "_model_module": "@jupyter-widgets/controls",
            "_model_module_version": "1.5.0",
            "_model_name": "ProgressStyleModel",
            "_view_count": null,
            "_view_module": "@jupyter-widgets/base",
            "_view_module_version": "1.2.0",
            "_view_name": "StyleView",
            "bar_color": null,
            "description_width": ""
          }
        },
        "b820495fe0c24774b4accb279f9233c6": {
          "model_module": "@jupyter-widgets/base",
          "model_name": "LayoutModel",
          "model_module_version": "1.2.0",
          "state": {
            "_model_module": "@jupyter-widgets/base",
            "_model_module_version": "1.2.0",
            "_model_name": "LayoutModel",
            "_view_count": null,
            "_view_module": "@jupyter-widgets/base",
            "_view_module_version": "1.2.0",
            "_view_name": "LayoutView",
            "align_content": null,
            "align_items": null,
            "align_self": null,
            "border": null,
            "bottom": null,
            "display": null,
            "flex": null,
            "flex_flow": null,
            "grid_area": null,
            "grid_auto_columns": null,
            "grid_auto_flow": null,
            "grid_auto_rows": null,
            "grid_column": null,
            "grid_gap": null,
            "grid_row": null,
            "grid_template_areas": null,
            "grid_template_columns": null,
            "grid_template_rows": null,
            "height": null,
            "justify_content": null,
            "justify_items": null,
            "left": null,
            "margin": null,
            "max_height": null,
            "max_width": null,
            "min_height": null,
            "min_width": null,
            "object_fit": null,
            "object_position": null,
            "order": null,
            "overflow": null,
            "overflow_x": null,
            "overflow_y": null,
            "padding": null,
            "right": null,
            "top": null,
            "visibility": null,
            "width": null
          }
        },
        "7a40549848464efe9f49d46d09d0f84b": {
          "model_module": "@jupyter-widgets/controls",
          "model_name": "DescriptionStyleModel",
          "model_module_version": "1.5.0",
          "state": {
            "_model_module": "@jupyter-widgets/controls",
            "_model_module_version": "1.5.0",
            "_model_name": "DescriptionStyleModel",
            "_view_count": null,
            "_view_module": "@jupyter-widgets/base",
            "_view_module_version": "1.2.0",
            "_view_name": "StyleView",
            "description_width": ""
          }
        },
        "9a6b82dd634746ceb1e3082e2502b6d3": {
          "model_module": "@jupyter-widgets/controls",
          "model_name": "HBoxModel",
          "model_module_version": "1.5.0",
          "state": {
            "_dom_classes": [],
            "_model_module": "@jupyter-widgets/controls",
            "_model_module_version": "1.5.0",
            "_model_name": "HBoxModel",
            "_view_count": null,
            "_view_module": "@jupyter-widgets/controls",
            "_view_module_version": "1.5.0",
            "_view_name": "HBoxView",
            "box_style": "",
            "children": [
              "IPY_MODEL_4ac5c29d9125452d8f4d012615cd956f",
              "IPY_MODEL_7e0db863596646ce82ed185331fceb2d",
              "IPY_MODEL_120f69dfe9de4b2bacd4b4e7247c14e9"
            ],
            "layout": "IPY_MODEL_0abeda73e78a437fa23a3c11102de241"
          }
        },
        "4ac5c29d9125452d8f4d012615cd956f": {
          "model_module": "@jupyter-widgets/controls",
          "model_name": "HTMLModel",
          "model_module_version": "1.5.0",
          "state": {
            "_dom_classes": [],
            "_model_module": "@jupyter-widgets/controls",
            "_model_module_version": "1.5.0",
            "_model_name": "HTMLModel",
            "_view_count": null,
            "_view_module": "@jupyter-widgets/controls",
            "_view_module_version": "1.5.0",
            "_view_name": "HTMLView",
            "description": "",
            "description_tooltip": null,
            "layout": "IPY_MODEL_604ba8d9309d4da69d7833b2265e29b1",
            "placeholder": "​",
            "style": "IPY_MODEL_a1820034a89e478193b21dc57bb5d834",
            "value": "Processing: 100%"
          }
        },
        "7e0db863596646ce82ed185331fceb2d": {
          "model_module": "@jupyter-widgets/controls",
          "model_name": "FloatProgressModel",
          "model_module_version": "1.5.0",
          "state": {
            "_dom_classes": [],
            "_model_module": "@jupyter-widgets/controls",
            "_model_module_version": "1.5.0",
            "_model_name": "FloatProgressModel",
            "_view_count": null,
            "_view_module": "@jupyter-widgets/controls",
            "_view_module_version": "1.5.0",
            "_view_name": "ProgressView",
            "bar_style": "",
            "description": "",
            "description_tooltip": null,
            "layout": "IPY_MODEL_a73a1889d0a142a6a0a572e96adc8756",
            "max": 4,
            "min": 0,
            "orientation": "horizontal",
            "style": "IPY_MODEL_3b971aed6bf444358c8dafc94d49612e",
            "value": 4
          }
        },
        "120f69dfe9de4b2bacd4b4e7247c14e9": {
          "model_module": "@jupyter-widgets/controls",
          "model_name": "HTMLModel",
          "model_module_version": "1.5.0",
          "state": {
            "_dom_classes": [],
            "_model_module": "@jupyter-widgets/controls",
            "_model_module_version": "1.5.0",
            "_model_name": "HTMLModel",
            "_view_count": null,
            "_view_module": "@jupyter-widgets/controls",
            "_view_module_version": "1.5.0",
            "_view_name": "HTMLView",
            "description": "",
            "description_tooltip": null,
            "layout": "IPY_MODEL_c088f8d317844cd9a6fc5fe6acfeb720",
            "placeholder": "​",
            "style": "IPY_MODEL_fe5e2b818859460a87b14b600ec11b0e",
            "value": " 4/4 [00:04&lt;00:00,  1.07s/it]"
          }
        },
        "0abeda73e78a437fa23a3c11102de241": {
          "model_module": "@jupyter-widgets/base",
          "model_name": "LayoutModel",
          "model_module_version": "1.2.0",
          "state": {
            "_model_module": "@jupyter-widgets/base",
            "_model_module_version": "1.2.0",
            "_model_name": "LayoutModel",
            "_view_count": null,
            "_view_module": "@jupyter-widgets/base",
            "_view_module_version": "1.2.0",
            "_view_name": "LayoutView",
            "align_content": null,
            "align_items": null,
            "align_self": null,
            "border": null,
            "bottom": null,
            "display": null,
            "flex": null,
            "flex_flow": null,
            "grid_area": null,
            "grid_auto_columns": null,
            "grid_auto_flow": null,
            "grid_auto_rows": null,
            "grid_column": null,
            "grid_gap": null,
            "grid_row": null,
            "grid_template_areas": null,
            "grid_template_columns": null,
            "grid_template_rows": null,
            "height": null,
            "justify_content": null,
            "justify_items": null,
            "left": null,
            "margin": null,
            "max_height": null,
            "max_width": null,
            "min_height": null,
            "min_width": null,
            "object_fit": null,
            "object_position": null,
            "order": null,
            "overflow": null,
            "overflow_x": null,
            "overflow_y": null,
            "padding": null,
            "right": null,
            "top": null,
            "visibility": "hidden",
            "width": null
          }
        },
        "604ba8d9309d4da69d7833b2265e29b1": {
          "model_module": "@jupyter-widgets/base",
          "model_name": "LayoutModel",
          "model_module_version": "1.2.0",
          "state": {
            "_model_module": "@jupyter-widgets/base",
            "_model_module_version": "1.2.0",
            "_model_name": "LayoutModel",
            "_view_count": null,
            "_view_module": "@jupyter-widgets/base",
            "_view_module_version": "1.2.0",
            "_view_name": "LayoutView",
            "align_content": null,
            "align_items": null,
            "align_self": null,
            "border": null,
            "bottom": null,
            "display": null,
            "flex": null,
            "flex_flow": null,
            "grid_area": null,
            "grid_auto_columns": null,
            "grid_auto_flow": null,
            "grid_auto_rows": null,
            "grid_column": null,
            "grid_gap": null,
            "grid_row": null,
            "grid_template_areas": null,
            "grid_template_columns": null,
            "grid_template_rows": null,
            "height": null,
            "justify_content": null,
            "justify_items": null,
            "left": null,
            "margin": null,
            "max_height": null,
            "max_width": null,
            "min_height": null,
            "min_width": null,
            "object_fit": null,
            "object_position": null,
            "order": null,
            "overflow": null,
            "overflow_x": null,
            "overflow_y": null,
            "padding": null,
            "right": null,
            "top": null,
            "visibility": null,
            "width": null
          }
        },
        "a1820034a89e478193b21dc57bb5d834": {
          "model_module": "@jupyter-widgets/controls",
          "model_name": "DescriptionStyleModel",
          "model_module_version": "1.5.0",
          "state": {
            "_model_module": "@jupyter-widgets/controls",
            "_model_module_version": "1.5.0",
            "_model_name": "DescriptionStyleModel",
            "_view_count": null,
            "_view_module": "@jupyter-widgets/base",
            "_view_module_version": "1.2.0",
            "_view_name": "StyleView",
            "description_width": ""
          }
        },
        "a73a1889d0a142a6a0a572e96adc8756": {
          "model_module": "@jupyter-widgets/base",
          "model_name": "LayoutModel",
          "model_module_version": "1.2.0",
          "state": {
            "_model_module": "@jupyter-widgets/base",
            "_model_module_version": "1.2.0",
            "_model_name": "LayoutModel",
            "_view_count": null,
            "_view_module": "@jupyter-widgets/base",
            "_view_module_version": "1.2.0",
            "_view_name": "LayoutView",
            "align_content": null,
            "align_items": null,
            "align_self": null,
            "border": null,
            "bottom": null,
            "display": null,
            "flex": null,
            "flex_flow": null,
            "grid_area": null,
            "grid_auto_columns": null,
            "grid_auto_flow": null,
            "grid_auto_rows": null,
            "grid_column": null,
            "grid_gap": null,
            "grid_row": null,
            "grid_template_areas": null,
            "grid_template_columns": null,
            "grid_template_rows": null,
            "height": null,
            "justify_content": null,
            "justify_items": null,
            "left": null,
            "margin": null,
            "max_height": null,
            "max_width": null,
            "min_height": null,
            "min_width": null,
            "object_fit": null,
            "object_position": null,
            "order": null,
            "overflow": null,
            "overflow_x": null,
            "overflow_y": null,
            "padding": null,
            "right": null,
            "top": null,
            "visibility": null,
            "width": null
          }
        },
        "3b971aed6bf444358c8dafc94d49612e": {
          "model_module": "@jupyter-widgets/controls",
          "model_name": "ProgressStyleModel",
          "model_module_version": "1.5.0",
          "state": {
            "_model_module": "@jupyter-widgets/controls",
            "_model_module_version": "1.5.0",
            "_model_name": "ProgressStyleModel",
            "_view_count": null,
            "_view_module": "@jupyter-widgets/base",
            "_view_module_version": "1.2.0",
            "_view_name": "StyleView",
            "bar_color": null,
            "description_width": ""
          }
        },
        "c088f8d317844cd9a6fc5fe6acfeb720": {
          "model_module": "@jupyter-widgets/base",
          "model_name": "LayoutModel",
          "model_module_version": "1.2.0",
          "state": {
            "_model_module": "@jupyter-widgets/base",
            "_model_module_version": "1.2.0",
            "_model_name": "LayoutModel",
            "_view_count": null,
            "_view_module": "@jupyter-widgets/base",
            "_view_module_version": "1.2.0",
            "_view_name": "LayoutView",
            "align_content": null,
            "align_items": null,
            "align_self": null,
            "border": null,
            "bottom": null,
            "display": null,
            "flex": null,
            "flex_flow": null,
            "grid_area": null,
            "grid_auto_columns": null,
            "grid_auto_flow": null,
            "grid_auto_rows": null,
            "grid_column": null,
            "grid_gap": null,
            "grid_row": null,
            "grid_template_areas": null,
            "grid_template_columns": null,
            "grid_template_rows": null,
            "height": null,
            "justify_content": null,
            "justify_items": null,
            "left": null,
            "margin": null,
            "max_height": null,
            "max_width": null,
            "min_height": null,
            "min_width": null,
            "object_fit": null,
            "object_position": null,
            "order": null,
            "overflow": null,
            "overflow_x": null,
            "overflow_y": null,
            "padding": null,
            "right": null,
            "top": null,
            "visibility": null,
            "width": null
          }
        },
        "fe5e2b818859460a87b14b600ec11b0e": {
          "model_module": "@jupyter-widgets/controls",
          "model_name": "DescriptionStyleModel",
          "model_module_version": "1.5.0",
          "state": {
            "_model_module": "@jupyter-widgets/controls",
            "_model_module_version": "1.5.0",
            "_model_name": "DescriptionStyleModel",
            "_view_count": null,
            "_view_module": "@jupyter-widgets/base",
            "_view_module_version": "1.2.0",
            "_view_name": "StyleView",
            "description_width": ""
          }
        },
        "667ef4086eac4e32a68ba57bd19e7036": {
          "model_module": "@jupyter-widgets/controls",
          "model_name": "HBoxModel",
          "model_module_version": "1.5.0",
          "state": {
            "_dom_classes": [],
            "_model_module": "@jupyter-widgets/controls",
            "_model_module_version": "1.5.0",
            "_model_name": "HBoxModel",
            "_view_count": null,
            "_view_module": "@jupyter-widgets/controls",
            "_view_module_version": "1.5.0",
            "_view_name": "HBoxView",
            "box_style": "",
            "children": [
              "IPY_MODEL_3579c29538b24e118cbd250d024db113",
              "IPY_MODEL_d757c4aa8b664cda88885a0353dabb86",
              "IPY_MODEL_a77bed6946374957919862c83ba13e38"
            ],
            "layout": "IPY_MODEL_6534784f5e534c90924206bed9606a15"
          }
        },
        "3579c29538b24e118cbd250d024db113": {
          "model_module": "@jupyter-widgets/controls",
          "model_name": "HTMLModel",
          "model_module_version": "1.5.0",
          "state": {
            "_dom_classes": [],
            "_model_module": "@jupyter-widgets/controls",
            "_model_module_version": "1.5.0",
            "_model_name": "HTMLModel",
            "_view_count": null,
            "_view_module": "@jupyter-widgets/controls",
            "_view_module_version": "1.5.0",
            "_view_name": "HTMLView",
            "description": "",
            "description_tooltip": null,
            "layout": "IPY_MODEL_b2276f555a034f2cba6f975b19405ef4",
            "placeholder": "​",
            "style": "IPY_MODEL_4ab2d7b056d84c5d857ac58802fc6d69",
            "value": "Processing: 100%"
          }
        },
        "d757c4aa8b664cda88885a0353dabb86": {
          "model_module": "@jupyter-widgets/controls",
          "model_name": "FloatProgressModel",
          "model_module_version": "1.5.0",
          "state": {
            "_dom_classes": [],
            "_model_module": "@jupyter-widgets/controls",
            "_model_module_version": "1.5.0",
            "_model_name": "FloatProgressModel",
            "_view_count": null,
            "_view_module": "@jupyter-widgets/controls",
            "_view_module_version": "1.5.0",
            "_view_name": "ProgressView",
            "bar_style": "",
            "description": "",
            "description_tooltip": null,
            "layout": "IPY_MODEL_e6f0081680104a469c6092341999e044",
            "max": 4,
            "min": 0,
            "orientation": "horizontal",
            "style": "IPY_MODEL_1d5b9fa97c384e9e9bd152a11fb7b187",
            "value": 4
          }
        },
        "a77bed6946374957919862c83ba13e38": {
          "model_module": "@jupyter-widgets/controls",
          "model_name": "HTMLModel",
          "model_module_version": "1.5.0",
          "state": {
            "_dom_classes": [],
            "_model_module": "@jupyter-widgets/controls",
            "_model_module_version": "1.5.0",
            "_model_name": "HTMLModel",
            "_view_count": null,
            "_view_module": "@jupyter-widgets/controls",
            "_view_module_version": "1.5.0",
            "_view_name": "HTMLView",
            "description": "",
            "description_tooltip": null,
            "layout": "IPY_MODEL_f8500affdf50400b99723da69cf25c21",
            "placeholder": "​",
            "style": "IPY_MODEL_f5b9d3d80adb47ed8532a5b40abe707e",
            "value": " 4/4 [00:07&lt;00:00,  1.78s/it]"
          }
        },
        "6534784f5e534c90924206bed9606a15": {
          "model_module": "@jupyter-widgets/base",
          "model_name": "LayoutModel",
          "model_module_version": "1.2.0",
          "state": {
            "_model_module": "@jupyter-widgets/base",
            "_model_module_version": "1.2.0",
            "_model_name": "LayoutModel",
            "_view_count": null,
            "_view_module": "@jupyter-widgets/base",
            "_view_module_version": "1.2.0",
            "_view_name": "LayoutView",
            "align_content": null,
            "align_items": null,
            "align_self": null,
            "border": null,
            "bottom": null,
            "display": null,
            "flex": null,
            "flex_flow": null,
            "grid_area": null,
            "grid_auto_columns": null,
            "grid_auto_flow": null,
            "grid_auto_rows": null,
            "grid_column": null,
            "grid_gap": null,
            "grid_row": null,
            "grid_template_areas": null,
            "grid_template_columns": null,
            "grid_template_rows": null,
            "height": null,
            "justify_content": null,
            "justify_items": null,
            "left": null,
            "margin": null,
            "max_height": null,
            "max_width": null,
            "min_height": null,
            "min_width": null,
            "object_fit": null,
            "object_position": null,
            "order": null,
            "overflow": null,
            "overflow_x": null,
            "overflow_y": null,
            "padding": null,
            "right": null,
            "top": null,
            "visibility": "hidden",
            "width": null
          }
        },
        "b2276f555a034f2cba6f975b19405ef4": {
          "model_module": "@jupyter-widgets/base",
          "model_name": "LayoutModel",
          "model_module_version": "1.2.0",
          "state": {
            "_model_module": "@jupyter-widgets/base",
            "_model_module_version": "1.2.0",
            "_model_name": "LayoutModel",
            "_view_count": null,
            "_view_module": "@jupyter-widgets/base",
            "_view_module_version": "1.2.0",
            "_view_name": "LayoutView",
            "align_content": null,
            "align_items": null,
            "align_self": null,
            "border": null,
            "bottom": null,
            "display": null,
            "flex": null,
            "flex_flow": null,
            "grid_area": null,
            "grid_auto_columns": null,
            "grid_auto_flow": null,
            "grid_auto_rows": null,
            "grid_column": null,
            "grid_gap": null,
            "grid_row": null,
            "grid_template_areas": null,
            "grid_template_columns": null,
            "grid_template_rows": null,
            "height": null,
            "justify_content": null,
            "justify_items": null,
            "left": null,
            "margin": null,
            "max_height": null,
            "max_width": null,
            "min_height": null,
            "min_width": null,
            "object_fit": null,
            "object_position": null,
            "order": null,
            "overflow": null,
            "overflow_x": null,
            "overflow_y": null,
            "padding": null,
            "right": null,
            "top": null,
            "visibility": null,
            "width": null
          }
        },
        "4ab2d7b056d84c5d857ac58802fc6d69": {
          "model_module": "@jupyter-widgets/controls",
          "model_name": "DescriptionStyleModel",
          "model_module_version": "1.5.0",
          "state": {
            "_model_module": "@jupyter-widgets/controls",
            "_model_module_version": "1.5.0",
            "_model_name": "DescriptionStyleModel",
            "_view_count": null,
            "_view_module": "@jupyter-widgets/base",
            "_view_module_version": "1.2.0",
            "_view_name": "StyleView",
            "description_width": ""
          }
        },
        "e6f0081680104a469c6092341999e044": {
          "model_module": "@jupyter-widgets/base",
          "model_name": "LayoutModel",
          "model_module_version": "1.2.0",
          "state": {
            "_model_module": "@jupyter-widgets/base",
            "_model_module_version": "1.2.0",
            "_model_name": "LayoutModel",
            "_view_count": null,
            "_view_module": "@jupyter-widgets/base",
            "_view_module_version": "1.2.0",
            "_view_name": "LayoutView",
            "align_content": null,
            "align_items": null,
            "align_self": null,
            "border": null,
            "bottom": null,
            "display": null,
            "flex": null,
            "flex_flow": null,
            "grid_area": null,
            "grid_auto_columns": null,
            "grid_auto_flow": null,
            "grid_auto_rows": null,
            "grid_column": null,
            "grid_gap": null,
            "grid_row": null,
            "grid_template_areas": null,
            "grid_template_columns": null,
            "grid_template_rows": null,
            "height": null,
            "justify_content": null,
            "justify_items": null,
            "left": null,
            "margin": null,
            "max_height": null,
            "max_width": null,
            "min_height": null,
            "min_width": null,
            "object_fit": null,
            "object_position": null,
            "order": null,
            "overflow": null,
            "overflow_x": null,
            "overflow_y": null,
            "padding": null,
            "right": null,
            "top": null,
            "visibility": null,
            "width": null
          }
        },
        "1d5b9fa97c384e9e9bd152a11fb7b187": {
          "model_module": "@jupyter-widgets/controls",
          "model_name": "ProgressStyleModel",
          "model_module_version": "1.5.0",
          "state": {
            "_model_module": "@jupyter-widgets/controls",
            "_model_module_version": "1.5.0",
            "_model_name": "ProgressStyleModel",
            "_view_count": null,
            "_view_module": "@jupyter-widgets/base",
            "_view_module_version": "1.2.0",
            "_view_name": "StyleView",
            "bar_color": null,
            "description_width": ""
          }
        },
        "f8500affdf50400b99723da69cf25c21": {
          "model_module": "@jupyter-widgets/base",
          "model_name": "LayoutModel",
          "model_module_version": "1.2.0",
          "state": {
            "_model_module": "@jupyter-widgets/base",
            "_model_module_version": "1.2.0",
            "_model_name": "LayoutModel",
            "_view_count": null,
            "_view_module": "@jupyter-widgets/base",
            "_view_module_version": "1.2.0",
            "_view_name": "LayoutView",
            "align_content": null,
            "align_items": null,
            "align_self": null,
            "border": null,
            "bottom": null,
            "display": null,
            "flex": null,
            "flex_flow": null,
            "grid_area": null,
            "grid_auto_columns": null,
            "grid_auto_flow": null,
            "grid_auto_rows": null,
            "grid_column": null,
            "grid_gap": null,
            "grid_row": null,
            "grid_template_areas": null,
            "grid_template_columns": null,
            "grid_template_rows": null,
            "height": null,
            "justify_content": null,
            "justify_items": null,
            "left": null,
            "margin": null,
            "max_height": null,
            "max_width": null,
            "min_height": null,
            "min_width": null,
            "object_fit": null,
            "object_position": null,
            "order": null,
            "overflow": null,
            "overflow_x": null,
            "overflow_y": null,
            "padding": null,
            "right": null,
            "top": null,
            "visibility": null,
            "width": null
          }
        },
        "f5b9d3d80adb47ed8532a5b40abe707e": {
          "model_module": "@jupyter-widgets/controls",
          "model_name": "DescriptionStyleModel",
          "model_module_version": "1.5.0",
          "state": {
            "_model_module": "@jupyter-widgets/controls",
            "_model_module_version": "1.5.0",
            "_model_name": "DescriptionStyleModel",
            "_view_count": null,
            "_view_module": "@jupyter-widgets/base",
            "_view_module_version": "1.2.0",
            "_view_name": "StyleView",
            "description_width": ""
          }
        },
        "7b931b8e77764d10ab4848f63876b5b4": {
          "model_module": "@jupyter-widgets/controls",
          "model_name": "HBoxModel",
          "model_module_version": "1.5.0",
          "state": {
            "_dom_classes": [],
            "_model_module": "@jupyter-widgets/controls",
            "_model_module_version": "1.5.0",
            "_model_name": "HBoxModel",
            "_view_count": null,
            "_view_module": "@jupyter-widgets/controls",
            "_view_module_version": "1.5.0",
            "_view_name": "HBoxView",
            "box_style": "",
            "children": [
              "IPY_MODEL_eecbf2ab28934b35b4119ff0e91bf690",
              "IPY_MODEL_fb53b5f2ed254bcc924c462b445a5798",
              "IPY_MODEL_e51be9063ea746719c2a135a42579881"
            ],
            "layout": "IPY_MODEL_7f09b3904c5749249f8ac07bbadae03b"
          }
        },
        "eecbf2ab28934b35b4119ff0e91bf690": {
          "model_module": "@jupyter-widgets/controls",
          "model_name": "HTMLModel",
          "model_module_version": "1.5.0",
          "state": {
            "_dom_classes": [],
            "_model_module": "@jupyter-widgets/controls",
            "_model_module_version": "1.5.0",
            "_model_name": "HTMLModel",
            "_view_count": null,
            "_view_module": "@jupyter-widgets/controls",
            "_view_module_version": "1.5.0",
            "_view_name": "HTMLView",
            "description": "",
            "description_tooltip": null,
            "layout": "IPY_MODEL_a624175808634cd79f213208da02be45",
            "placeholder": "​",
            "style": "IPY_MODEL_c2675bcd83f44aefa204321a56b8271a",
            "value": "Processing: 100%"
          }
        },
        "fb53b5f2ed254bcc924c462b445a5798": {
          "model_module": "@jupyter-widgets/controls",
          "model_name": "FloatProgressModel",
          "model_module_version": "1.5.0",
          "state": {
            "_dom_classes": [],
            "_model_module": "@jupyter-widgets/controls",
            "_model_module_version": "1.5.0",
            "_model_name": "FloatProgressModel",
            "_view_count": null,
            "_view_module": "@jupyter-widgets/controls",
            "_view_module_version": "1.5.0",
            "_view_name": "ProgressView",
            "bar_style": "",
            "description": "",
            "description_tooltip": null,
            "layout": "IPY_MODEL_4e67ed192abe4a43891fec76f1c2df4e",
            "max": 7,
            "min": 0,
            "orientation": "horizontal",
            "style": "IPY_MODEL_063c9036bb4f45cca6562bcb7e84e458",
            "value": 7
          }
        },
        "e51be9063ea746719c2a135a42579881": {
          "model_module": "@jupyter-widgets/controls",
          "model_name": "HTMLModel",
          "model_module_version": "1.5.0",
          "state": {
            "_dom_classes": [],
            "_model_module": "@jupyter-widgets/controls",
            "_model_module_version": "1.5.0",
            "_model_name": "HTMLModel",
            "_view_count": null,
            "_view_module": "@jupyter-widgets/controls",
            "_view_module_version": "1.5.0",
            "_view_name": "HTMLView",
            "description": "",
            "description_tooltip": null,
            "layout": "IPY_MODEL_ed1bb83db2624b40bcbbe796318b266a",
            "placeholder": "​",
            "style": "IPY_MODEL_e91e2edbe9fb46fe90e25009b84acee6",
            "value": " 7/7 [01:23&lt;00:00, 10.03s/it]"
          }
        },
        "7f09b3904c5749249f8ac07bbadae03b": {
          "model_module": "@jupyter-widgets/base",
          "model_name": "LayoutModel",
          "model_module_version": "1.2.0",
          "state": {
            "_model_module": "@jupyter-widgets/base",
            "_model_module_version": "1.2.0",
            "_model_name": "LayoutModel",
            "_view_count": null,
            "_view_module": "@jupyter-widgets/base",
            "_view_module_version": "1.2.0",
            "_view_name": "LayoutView",
            "align_content": null,
            "align_items": null,
            "align_self": null,
            "border": null,
            "bottom": null,
            "display": null,
            "flex": null,
            "flex_flow": null,
            "grid_area": null,
            "grid_auto_columns": null,
            "grid_auto_flow": null,
            "grid_auto_rows": null,
            "grid_column": null,
            "grid_gap": null,
            "grid_row": null,
            "grid_template_areas": null,
            "grid_template_columns": null,
            "grid_template_rows": null,
            "height": null,
            "justify_content": null,
            "justify_items": null,
            "left": null,
            "margin": null,
            "max_height": null,
            "max_width": null,
            "min_height": null,
            "min_width": null,
            "object_fit": null,
            "object_position": null,
            "order": null,
            "overflow": null,
            "overflow_x": null,
            "overflow_y": null,
            "padding": null,
            "right": null,
            "top": null,
            "visibility": "hidden",
            "width": null
          }
        },
        "a624175808634cd79f213208da02be45": {
          "model_module": "@jupyter-widgets/base",
          "model_name": "LayoutModel",
          "model_module_version": "1.2.0",
          "state": {
            "_model_module": "@jupyter-widgets/base",
            "_model_module_version": "1.2.0",
            "_model_name": "LayoutModel",
            "_view_count": null,
            "_view_module": "@jupyter-widgets/base",
            "_view_module_version": "1.2.0",
            "_view_name": "LayoutView",
            "align_content": null,
            "align_items": null,
            "align_self": null,
            "border": null,
            "bottom": null,
            "display": null,
            "flex": null,
            "flex_flow": null,
            "grid_area": null,
            "grid_auto_columns": null,
            "grid_auto_flow": null,
            "grid_auto_rows": null,
            "grid_column": null,
            "grid_gap": null,
            "grid_row": null,
            "grid_template_areas": null,
            "grid_template_columns": null,
            "grid_template_rows": null,
            "height": null,
            "justify_content": null,
            "justify_items": null,
            "left": null,
            "margin": null,
            "max_height": null,
            "max_width": null,
            "min_height": null,
            "min_width": null,
            "object_fit": null,
            "object_position": null,
            "order": null,
            "overflow": null,
            "overflow_x": null,
            "overflow_y": null,
            "padding": null,
            "right": null,
            "top": null,
            "visibility": null,
            "width": null
          }
        },
        "c2675bcd83f44aefa204321a56b8271a": {
          "model_module": "@jupyter-widgets/controls",
          "model_name": "DescriptionStyleModel",
          "model_module_version": "1.5.0",
          "state": {
            "_model_module": "@jupyter-widgets/controls",
            "_model_module_version": "1.5.0",
            "_model_name": "DescriptionStyleModel",
            "_view_count": null,
            "_view_module": "@jupyter-widgets/base",
            "_view_module_version": "1.2.0",
            "_view_name": "StyleView",
            "description_width": ""
          }
        },
        "4e67ed192abe4a43891fec76f1c2df4e": {
          "model_module": "@jupyter-widgets/base",
          "model_name": "LayoutModel",
          "model_module_version": "1.2.0",
          "state": {
            "_model_module": "@jupyter-widgets/base",
            "_model_module_version": "1.2.0",
            "_model_name": "LayoutModel",
            "_view_count": null,
            "_view_module": "@jupyter-widgets/base",
            "_view_module_version": "1.2.0",
            "_view_name": "LayoutView",
            "align_content": null,
            "align_items": null,
            "align_self": null,
            "border": null,
            "bottom": null,
            "display": null,
            "flex": null,
            "flex_flow": null,
            "grid_area": null,
            "grid_auto_columns": null,
            "grid_auto_flow": null,
            "grid_auto_rows": null,
            "grid_column": null,
            "grid_gap": null,
            "grid_row": null,
            "grid_template_areas": null,
            "grid_template_columns": null,
            "grid_template_rows": null,
            "height": null,
            "justify_content": null,
            "justify_items": null,
            "left": null,
            "margin": null,
            "max_height": null,
            "max_width": null,
            "min_height": null,
            "min_width": null,
            "object_fit": null,
            "object_position": null,
            "order": null,
            "overflow": null,
            "overflow_x": null,
            "overflow_y": null,
            "padding": null,
            "right": null,
            "top": null,
            "visibility": null,
            "width": null
          }
        },
        "063c9036bb4f45cca6562bcb7e84e458": {
          "model_module": "@jupyter-widgets/controls",
          "model_name": "ProgressStyleModel",
          "model_module_version": "1.5.0",
          "state": {
            "_model_module": "@jupyter-widgets/controls",
            "_model_module_version": "1.5.0",
            "_model_name": "ProgressStyleModel",
            "_view_count": null,
            "_view_module": "@jupyter-widgets/base",
            "_view_module_version": "1.2.0",
            "_view_name": "StyleView",
            "bar_color": null,
            "description_width": ""
          }
        },
        "ed1bb83db2624b40bcbbe796318b266a": {
          "model_module": "@jupyter-widgets/base",
          "model_name": "LayoutModel",
          "model_module_version": "1.2.0",
          "state": {
            "_model_module": "@jupyter-widgets/base",
            "_model_module_version": "1.2.0",
            "_model_name": "LayoutModel",
            "_view_count": null,
            "_view_module": "@jupyter-widgets/base",
            "_view_module_version": "1.2.0",
            "_view_name": "LayoutView",
            "align_content": null,
            "align_items": null,
            "align_self": null,
            "border": null,
            "bottom": null,
            "display": null,
            "flex": null,
            "flex_flow": null,
            "grid_area": null,
            "grid_auto_columns": null,
            "grid_auto_flow": null,
            "grid_auto_rows": null,
            "grid_column": null,
            "grid_gap": null,
            "grid_row": null,
            "grid_template_areas": null,
            "grid_template_columns": null,
            "grid_template_rows": null,
            "height": null,
            "justify_content": null,
            "justify_items": null,
            "left": null,
            "margin": null,
            "max_height": null,
            "max_width": null,
            "min_height": null,
            "min_width": null,
            "object_fit": null,
            "object_position": null,
            "order": null,
            "overflow": null,
            "overflow_x": null,
            "overflow_y": null,
            "padding": null,
            "right": null,
            "top": null,
            "visibility": null,
            "width": null
          }
        },
        "e91e2edbe9fb46fe90e25009b84acee6": {
          "model_module": "@jupyter-widgets/controls",
          "model_name": "DescriptionStyleModel",
          "model_module_version": "1.5.0",
          "state": {
            "_model_module": "@jupyter-widgets/controls",
            "_model_module_version": "1.5.0",
            "_model_name": "DescriptionStyleModel",
            "_view_count": null,
            "_view_module": "@jupyter-widgets/base",
            "_view_module_version": "1.2.0",
            "_view_name": "StyleView",
            "description_width": ""
          }
        },
        "a51b64fe60b84583a86e3df003ba35a3": {
          "model_module": "@jupyter-widgets/controls",
          "model_name": "HBoxModel",
          "model_module_version": "1.5.0",
          "state": {
            "_dom_classes": [],
            "_model_module": "@jupyter-widgets/controls",
            "_model_module_version": "1.5.0",
            "_model_name": "HBoxModel",
            "_view_count": null,
            "_view_module": "@jupyter-widgets/controls",
            "_view_module_version": "1.5.0",
            "_view_name": "HBoxView",
            "box_style": "",
            "children": [
              "IPY_MODEL_a347de900f53469f847b73ed16ca78df",
              "IPY_MODEL_b251e48a95e541479238e4358103bc93",
              "IPY_MODEL_074cd6ae5c6243a18720ad113806f24e"
            ],
            "layout": "IPY_MODEL_1b49758775004e3a9ac847f603583549"
          }
        },
        "a347de900f53469f847b73ed16ca78df": {
          "model_module": "@jupyter-widgets/controls",
          "model_name": "HTMLModel",
          "model_module_version": "1.5.0",
          "state": {
            "_dom_classes": [],
            "_model_module": "@jupyter-widgets/controls",
            "_model_module_version": "1.5.0",
            "_model_name": "HTMLModel",
            "_view_count": null,
            "_view_module": "@jupyter-widgets/controls",
            "_view_module_version": "1.5.0",
            "_view_name": "HTMLView",
            "description": "",
            "description_tooltip": null,
            "layout": "IPY_MODEL_75029744f35b4a4684bbe20ba2615a21",
            "placeholder": "​",
            "style": "IPY_MODEL_ae60414c007c4130b94655a8148f54f3",
            "value": "Processing: 100%"
          }
        },
        "b251e48a95e541479238e4358103bc93": {
          "model_module": "@jupyter-widgets/controls",
          "model_name": "FloatProgressModel",
          "model_module_version": "1.5.0",
          "state": {
            "_dom_classes": [],
            "_model_module": "@jupyter-widgets/controls",
            "_model_module_version": "1.5.0",
            "_model_name": "FloatProgressModel",
            "_view_count": null,
            "_view_module": "@jupyter-widgets/controls",
            "_view_module_version": "1.5.0",
            "_view_name": "ProgressView",
            "bar_style": "",
            "description": "",
            "description_tooltip": null,
            "layout": "IPY_MODEL_96544692279445a3859779d62ffbbaa0",
            "max": 7,
            "min": 0,
            "orientation": "horizontal",
            "style": "IPY_MODEL_13ad0dde537248329c2ba0179cff305e",
            "value": 7
          }
        },
        "074cd6ae5c6243a18720ad113806f24e": {
          "model_module": "@jupyter-widgets/controls",
          "model_name": "HTMLModel",
          "model_module_version": "1.5.0",
          "state": {
            "_dom_classes": [],
            "_model_module": "@jupyter-widgets/controls",
            "_model_module_version": "1.5.0",
            "_model_name": "HTMLModel",
            "_view_count": null,
            "_view_module": "@jupyter-widgets/controls",
            "_view_module_version": "1.5.0",
            "_view_name": "HTMLView",
            "description": "",
            "description_tooltip": null,
            "layout": "IPY_MODEL_b8a032f2ea4f4a4a9cef0adbbdca7a2d",
            "placeholder": "​",
            "style": "IPY_MODEL_2acea996bf164308b8ffb2df012f7c72",
            "value": " 7/7 [01:23&lt;00:00,  9.96s/it]"
          }
        },
        "1b49758775004e3a9ac847f603583549": {
          "model_module": "@jupyter-widgets/base",
          "model_name": "LayoutModel",
          "model_module_version": "1.2.0",
          "state": {
            "_model_module": "@jupyter-widgets/base",
            "_model_module_version": "1.2.0",
            "_model_name": "LayoutModel",
            "_view_count": null,
            "_view_module": "@jupyter-widgets/base",
            "_view_module_version": "1.2.0",
            "_view_name": "LayoutView",
            "align_content": null,
            "align_items": null,
            "align_self": null,
            "border": null,
            "bottom": null,
            "display": null,
            "flex": null,
            "flex_flow": null,
            "grid_area": null,
            "grid_auto_columns": null,
            "grid_auto_flow": null,
            "grid_auto_rows": null,
            "grid_column": null,
            "grid_gap": null,
            "grid_row": null,
            "grid_template_areas": null,
            "grid_template_columns": null,
            "grid_template_rows": null,
            "height": null,
            "justify_content": null,
            "justify_items": null,
            "left": null,
            "margin": null,
            "max_height": null,
            "max_width": null,
            "min_height": null,
            "min_width": null,
            "object_fit": null,
            "object_position": null,
            "order": null,
            "overflow": null,
            "overflow_x": null,
            "overflow_y": null,
            "padding": null,
            "right": null,
            "top": null,
            "visibility": "hidden",
            "width": null
          }
        },
        "75029744f35b4a4684bbe20ba2615a21": {
          "model_module": "@jupyter-widgets/base",
          "model_name": "LayoutModel",
          "model_module_version": "1.2.0",
          "state": {
            "_model_module": "@jupyter-widgets/base",
            "_model_module_version": "1.2.0",
            "_model_name": "LayoutModel",
            "_view_count": null,
            "_view_module": "@jupyter-widgets/base",
            "_view_module_version": "1.2.0",
            "_view_name": "LayoutView",
            "align_content": null,
            "align_items": null,
            "align_self": null,
            "border": null,
            "bottom": null,
            "display": null,
            "flex": null,
            "flex_flow": null,
            "grid_area": null,
            "grid_auto_columns": null,
            "grid_auto_flow": null,
            "grid_auto_rows": null,
            "grid_column": null,
            "grid_gap": null,
            "grid_row": null,
            "grid_template_areas": null,
            "grid_template_columns": null,
            "grid_template_rows": null,
            "height": null,
            "justify_content": null,
            "justify_items": null,
            "left": null,
            "margin": null,
            "max_height": null,
            "max_width": null,
            "min_height": null,
            "min_width": null,
            "object_fit": null,
            "object_position": null,
            "order": null,
            "overflow": null,
            "overflow_x": null,
            "overflow_y": null,
            "padding": null,
            "right": null,
            "top": null,
            "visibility": null,
            "width": null
          }
        },
        "ae60414c007c4130b94655a8148f54f3": {
          "model_module": "@jupyter-widgets/controls",
          "model_name": "DescriptionStyleModel",
          "model_module_version": "1.5.0",
          "state": {
            "_model_module": "@jupyter-widgets/controls",
            "_model_module_version": "1.5.0",
            "_model_name": "DescriptionStyleModel",
            "_view_count": null,
            "_view_module": "@jupyter-widgets/base",
            "_view_module_version": "1.2.0",
            "_view_name": "StyleView",
            "description_width": ""
          }
        },
        "96544692279445a3859779d62ffbbaa0": {
          "model_module": "@jupyter-widgets/base",
          "model_name": "LayoutModel",
          "model_module_version": "1.2.0",
          "state": {
            "_model_module": "@jupyter-widgets/base",
            "_model_module_version": "1.2.0",
            "_model_name": "LayoutModel",
            "_view_count": null,
            "_view_module": "@jupyter-widgets/base",
            "_view_module_version": "1.2.0",
            "_view_name": "LayoutView",
            "align_content": null,
            "align_items": null,
            "align_self": null,
            "border": null,
            "bottom": null,
            "display": null,
            "flex": null,
            "flex_flow": null,
            "grid_area": null,
            "grid_auto_columns": null,
            "grid_auto_flow": null,
            "grid_auto_rows": null,
            "grid_column": null,
            "grid_gap": null,
            "grid_row": null,
            "grid_template_areas": null,
            "grid_template_columns": null,
            "grid_template_rows": null,
            "height": null,
            "justify_content": null,
            "justify_items": null,
            "left": null,
            "margin": null,
            "max_height": null,
            "max_width": null,
            "min_height": null,
            "min_width": null,
            "object_fit": null,
            "object_position": null,
            "order": null,
            "overflow": null,
            "overflow_x": null,
            "overflow_y": null,
            "padding": null,
            "right": null,
            "top": null,
            "visibility": null,
            "width": null
          }
        },
        "13ad0dde537248329c2ba0179cff305e": {
          "model_module": "@jupyter-widgets/controls",
          "model_name": "ProgressStyleModel",
          "model_module_version": "1.5.0",
          "state": {
            "_model_module": "@jupyter-widgets/controls",
            "_model_module_version": "1.5.0",
            "_model_name": "ProgressStyleModel",
            "_view_count": null,
            "_view_module": "@jupyter-widgets/base",
            "_view_module_version": "1.2.0",
            "_view_name": "StyleView",
            "bar_color": null,
            "description_width": ""
          }
        },
        "b8a032f2ea4f4a4a9cef0adbbdca7a2d": {
          "model_module": "@jupyter-widgets/base",
          "model_name": "LayoutModel",
          "model_module_version": "1.2.0",
          "state": {
            "_model_module": "@jupyter-widgets/base",
            "_model_module_version": "1.2.0",
            "_model_name": "LayoutModel",
            "_view_count": null,
            "_view_module": "@jupyter-widgets/base",
            "_view_module_version": "1.2.0",
            "_view_name": "LayoutView",
            "align_content": null,
            "align_items": null,
            "align_self": null,
            "border": null,
            "bottom": null,
            "display": null,
            "flex": null,
            "flex_flow": null,
            "grid_area": null,
            "grid_auto_columns": null,
            "grid_auto_flow": null,
            "grid_auto_rows": null,
            "grid_column": null,
            "grid_gap": null,
            "grid_row": null,
            "grid_template_areas": null,
            "grid_template_columns": null,
            "grid_template_rows": null,
            "height": null,
            "justify_content": null,
            "justify_items": null,
            "left": null,
            "margin": null,
            "max_height": null,
            "max_width": null,
            "min_height": null,
            "min_width": null,
            "object_fit": null,
            "object_position": null,
            "order": null,
            "overflow": null,
            "overflow_x": null,
            "overflow_y": null,
            "padding": null,
            "right": null,
            "top": null,
            "visibility": null,
            "width": null
          }
        },
        "2acea996bf164308b8ffb2df012f7c72": {
          "model_module": "@jupyter-widgets/controls",
          "model_name": "DescriptionStyleModel",
          "model_module_version": "1.5.0",
          "state": {
            "_model_module": "@jupyter-widgets/controls",
            "_model_module_version": "1.5.0",
            "_model_name": "DescriptionStyleModel",
            "_view_count": null,
            "_view_module": "@jupyter-widgets/base",
            "_view_module_version": "1.2.0",
            "_view_name": "StyleView",
            "description_width": ""
          }
        },
        "3ec7c181a6e94a878b3e07bf4333b96f": {
          "model_module": "@jupyter-widgets/controls",
          "model_name": "HBoxModel",
          "model_module_version": "1.5.0",
          "state": {
            "_dom_classes": [],
            "_model_module": "@jupyter-widgets/controls",
            "_model_module_version": "1.5.0",
            "_model_name": "HBoxModel",
            "_view_count": null,
            "_view_module": "@jupyter-widgets/controls",
            "_view_module_version": "1.5.0",
            "_view_name": "HBoxView",
            "box_style": "",
            "children": [
              "IPY_MODEL_7d76aea185e340278cdd7a2b306e777d",
              "IPY_MODEL_8db591b185c14de5b3dab0a72fe76ce2",
              "IPY_MODEL_fd9940add76642e4b46288110412823c"
            ],
            "layout": "IPY_MODEL_b092e1c1728948b4978ed271fcf5068c"
          }
        },
        "7d76aea185e340278cdd7a2b306e777d": {
          "model_module": "@jupyter-widgets/controls",
          "model_name": "HTMLModel",
          "model_module_version": "1.5.0",
          "state": {
            "_dom_classes": [],
            "_model_module": "@jupyter-widgets/controls",
            "_model_module_version": "1.5.0",
            "_model_name": "HTMLModel",
            "_view_count": null,
            "_view_module": "@jupyter-widgets/controls",
            "_view_module_version": "1.5.0",
            "_view_name": "HTMLView",
            "description": "",
            "description_tooltip": null,
            "layout": "IPY_MODEL_0d13671e624a4a76b0bb39ae8d0f88f0",
            "placeholder": "​",
            "style": "IPY_MODEL_fb393d99558242d59ab06036856294ba",
            "value": "Processing: 100%"
          }
        },
        "8db591b185c14de5b3dab0a72fe76ce2": {
          "model_module": "@jupyter-widgets/controls",
          "model_name": "FloatProgressModel",
          "model_module_version": "1.5.0",
          "state": {
            "_dom_classes": [],
            "_model_module": "@jupyter-widgets/controls",
            "_model_module_version": "1.5.0",
            "_model_name": "FloatProgressModel",
            "_view_count": null,
            "_view_module": "@jupyter-widgets/controls",
            "_view_module_version": "1.5.0",
            "_view_name": "ProgressView",
            "bar_style": "",
            "description": "",
            "description_tooltip": null,
            "layout": "IPY_MODEL_b00b164a196742229c9b385d6d258963",
            "max": 7,
            "min": 0,
            "orientation": "horizontal",
            "style": "IPY_MODEL_9ea393d38bf84a3a906e7d15a9946a6e",
            "value": 7
          }
        },
        "fd9940add76642e4b46288110412823c": {
          "model_module": "@jupyter-widgets/controls",
          "model_name": "HTMLModel",
          "model_module_version": "1.5.0",
          "state": {
            "_dom_classes": [],
            "_model_module": "@jupyter-widgets/controls",
            "_model_module_version": "1.5.0",
            "_model_name": "HTMLModel",
            "_view_count": null,
            "_view_module": "@jupyter-widgets/controls",
            "_view_module_version": "1.5.0",
            "_view_name": "HTMLView",
            "description": "",
            "description_tooltip": null,
            "layout": "IPY_MODEL_e7626c471b634654beed67fb5e61cfc6",
            "placeholder": "​",
            "style": "IPY_MODEL_5b51cd0546a94ab6b82afbc74a02e602",
            "value": " 7/7 [00:33&lt;00:00,  3.79s/it]"
          }
        },
        "b092e1c1728948b4978ed271fcf5068c": {
          "model_module": "@jupyter-widgets/base",
          "model_name": "LayoutModel",
          "model_module_version": "1.2.0",
          "state": {
            "_model_module": "@jupyter-widgets/base",
            "_model_module_version": "1.2.0",
            "_model_name": "LayoutModel",
            "_view_count": null,
            "_view_module": "@jupyter-widgets/base",
            "_view_module_version": "1.2.0",
            "_view_name": "LayoutView",
            "align_content": null,
            "align_items": null,
            "align_self": null,
            "border": null,
            "bottom": null,
            "display": null,
            "flex": null,
            "flex_flow": null,
            "grid_area": null,
            "grid_auto_columns": null,
            "grid_auto_flow": null,
            "grid_auto_rows": null,
            "grid_column": null,
            "grid_gap": null,
            "grid_row": null,
            "grid_template_areas": null,
            "grid_template_columns": null,
            "grid_template_rows": null,
            "height": null,
            "justify_content": null,
            "justify_items": null,
            "left": null,
            "margin": null,
            "max_height": null,
            "max_width": null,
            "min_height": null,
            "min_width": null,
            "object_fit": null,
            "object_position": null,
            "order": null,
            "overflow": null,
            "overflow_x": null,
            "overflow_y": null,
            "padding": null,
            "right": null,
            "top": null,
            "visibility": "hidden",
            "width": null
          }
        },
        "0d13671e624a4a76b0bb39ae8d0f88f0": {
          "model_module": "@jupyter-widgets/base",
          "model_name": "LayoutModel",
          "model_module_version": "1.2.0",
          "state": {
            "_model_module": "@jupyter-widgets/base",
            "_model_module_version": "1.2.0",
            "_model_name": "LayoutModel",
            "_view_count": null,
            "_view_module": "@jupyter-widgets/base",
            "_view_module_version": "1.2.0",
            "_view_name": "LayoutView",
            "align_content": null,
            "align_items": null,
            "align_self": null,
            "border": null,
            "bottom": null,
            "display": null,
            "flex": null,
            "flex_flow": null,
            "grid_area": null,
            "grid_auto_columns": null,
            "grid_auto_flow": null,
            "grid_auto_rows": null,
            "grid_column": null,
            "grid_gap": null,
            "grid_row": null,
            "grid_template_areas": null,
            "grid_template_columns": null,
            "grid_template_rows": null,
            "height": null,
            "justify_content": null,
            "justify_items": null,
            "left": null,
            "margin": null,
            "max_height": null,
            "max_width": null,
            "min_height": null,
            "min_width": null,
            "object_fit": null,
            "object_position": null,
            "order": null,
            "overflow": null,
            "overflow_x": null,
            "overflow_y": null,
            "padding": null,
            "right": null,
            "top": null,
            "visibility": null,
            "width": null
          }
        },
        "fb393d99558242d59ab06036856294ba": {
          "model_module": "@jupyter-widgets/controls",
          "model_name": "DescriptionStyleModel",
          "model_module_version": "1.5.0",
          "state": {
            "_model_module": "@jupyter-widgets/controls",
            "_model_module_version": "1.5.0",
            "_model_name": "DescriptionStyleModel",
            "_view_count": null,
            "_view_module": "@jupyter-widgets/base",
            "_view_module_version": "1.2.0",
            "_view_name": "StyleView",
            "description_width": ""
          }
        },
        "b00b164a196742229c9b385d6d258963": {
          "model_module": "@jupyter-widgets/base",
          "model_name": "LayoutModel",
          "model_module_version": "1.2.0",
          "state": {
            "_model_module": "@jupyter-widgets/base",
            "_model_module_version": "1.2.0",
            "_model_name": "LayoutModel",
            "_view_count": null,
            "_view_module": "@jupyter-widgets/base",
            "_view_module_version": "1.2.0",
            "_view_name": "LayoutView",
            "align_content": null,
            "align_items": null,
            "align_self": null,
            "border": null,
            "bottom": null,
            "display": null,
            "flex": null,
            "flex_flow": null,
            "grid_area": null,
            "grid_auto_columns": null,
            "grid_auto_flow": null,
            "grid_auto_rows": null,
            "grid_column": null,
            "grid_gap": null,
            "grid_row": null,
            "grid_template_areas": null,
            "grid_template_columns": null,
            "grid_template_rows": null,
            "height": null,
            "justify_content": null,
            "justify_items": null,
            "left": null,
            "margin": null,
            "max_height": null,
            "max_width": null,
            "min_height": null,
            "min_width": null,
            "object_fit": null,
            "object_position": null,
            "order": null,
            "overflow": null,
            "overflow_x": null,
            "overflow_y": null,
            "padding": null,
            "right": null,
            "top": null,
            "visibility": null,
            "width": null
          }
        },
        "9ea393d38bf84a3a906e7d15a9946a6e": {
          "model_module": "@jupyter-widgets/controls",
          "model_name": "ProgressStyleModel",
          "model_module_version": "1.5.0",
          "state": {
            "_model_module": "@jupyter-widgets/controls",
            "_model_module_version": "1.5.0",
            "_model_name": "ProgressStyleModel",
            "_view_count": null,
            "_view_module": "@jupyter-widgets/base",
            "_view_module_version": "1.2.0",
            "_view_name": "StyleView",
            "bar_color": null,
            "description_width": ""
          }
        },
        "e7626c471b634654beed67fb5e61cfc6": {
          "model_module": "@jupyter-widgets/base",
          "model_name": "LayoutModel",
          "model_module_version": "1.2.0",
          "state": {
            "_model_module": "@jupyter-widgets/base",
            "_model_module_version": "1.2.0",
            "_model_name": "LayoutModel",
            "_view_count": null,
            "_view_module": "@jupyter-widgets/base",
            "_view_module_version": "1.2.0",
            "_view_name": "LayoutView",
            "align_content": null,
            "align_items": null,
            "align_self": null,
            "border": null,
            "bottom": null,
            "display": null,
            "flex": null,
            "flex_flow": null,
            "grid_area": null,
            "grid_auto_columns": null,
            "grid_auto_flow": null,
            "grid_auto_rows": null,
            "grid_column": null,
            "grid_gap": null,
            "grid_row": null,
            "grid_template_areas": null,
            "grid_template_columns": null,
            "grid_template_rows": null,
            "height": null,
            "justify_content": null,
            "justify_items": null,
            "left": null,
            "margin": null,
            "max_height": null,
            "max_width": null,
            "min_height": null,
            "min_width": null,
            "object_fit": null,
            "object_position": null,
            "order": null,
            "overflow": null,
            "overflow_x": null,
            "overflow_y": null,
            "padding": null,
            "right": null,
            "top": null,
            "visibility": null,
            "width": null
          }
        },
        "5b51cd0546a94ab6b82afbc74a02e602": {
          "model_module": "@jupyter-widgets/controls",
          "model_name": "DescriptionStyleModel",
          "model_module_version": "1.5.0",
          "state": {
            "_model_module": "@jupyter-widgets/controls",
            "_model_module_version": "1.5.0",
            "_model_name": "DescriptionStyleModel",
            "_view_count": null,
            "_view_module": "@jupyter-widgets/base",
            "_view_module_version": "1.2.0",
            "_view_name": "StyleView",
            "description_width": ""
          }
        },
        "61ca91c193564cf7ac7a7a2859fa0e3c": {
          "model_module": "@jupyter-widgets/controls",
          "model_name": "HBoxModel",
          "model_module_version": "1.5.0",
          "state": {
            "_dom_classes": [],
            "_model_module": "@jupyter-widgets/controls",
            "_model_module_version": "1.5.0",
            "_model_name": "HBoxModel",
            "_view_count": null,
            "_view_module": "@jupyter-widgets/controls",
            "_view_module_version": "1.5.0",
            "_view_name": "HBoxView",
            "box_style": "",
            "children": [
              "IPY_MODEL_8e728c8ff0564e71b41b45d9e0a0ec3e",
              "IPY_MODEL_4619e5059abb4ee8add2d42b96e08607",
              "IPY_MODEL_955b467b48984c7ab286828219c70bf8"
            ],
            "layout": "IPY_MODEL_8e593fc20df64441b07d4c0545bc1a43"
          }
        },
        "8e728c8ff0564e71b41b45d9e0a0ec3e": {
          "model_module": "@jupyter-widgets/controls",
          "model_name": "HTMLModel",
          "model_module_version": "1.5.0",
          "state": {
            "_dom_classes": [],
            "_model_module": "@jupyter-widgets/controls",
            "_model_module_version": "1.5.0",
            "_model_name": "HTMLModel",
            "_view_count": null,
            "_view_module": "@jupyter-widgets/controls",
            "_view_module_version": "1.5.0",
            "_view_name": "HTMLView",
            "description": "",
            "description_tooltip": null,
            "layout": "IPY_MODEL_4c8ca53c67be40368efd175c07ef41a9",
            "placeholder": "​",
            "style": "IPY_MODEL_3de1ea7b7fdb476ab4649fd5e4dabb8a",
            "value": "Processing: 100%"
          }
        },
        "4619e5059abb4ee8add2d42b96e08607": {
          "model_module": "@jupyter-widgets/controls",
          "model_name": "FloatProgressModel",
          "model_module_version": "1.5.0",
          "state": {
            "_dom_classes": [],
            "_model_module": "@jupyter-widgets/controls",
            "_model_module_version": "1.5.0",
            "_model_name": "FloatProgressModel",
            "_view_count": null,
            "_view_module": "@jupyter-widgets/controls",
            "_view_module_version": "1.5.0",
            "_view_name": "ProgressView",
            "bar_style": "",
            "description": "",
            "description_tooltip": null,
            "layout": "IPY_MODEL_229b5a57c72b405ab338aa97021fcdf6",
            "max": 7,
            "min": 0,
            "orientation": "horizontal",
            "style": "IPY_MODEL_36d12fa2af28417fa5264a48694c8774",
            "value": 7
          }
        },
        "955b467b48984c7ab286828219c70bf8": {
          "model_module": "@jupyter-widgets/controls",
          "model_name": "HTMLModel",
          "model_module_version": "1.5.0",
          "state": {
            "_dom_classes": [],
            "_model_module": "@jupyter-widgets/controls",
            "_model_module_version": "1.5.0",
            "_model_name": "HTMLModel",
            "_view_count": null,
            "_view_module": "@jupyter-widgets/controls",
            "_view_module_version": "1.5.0",
            "_view_name": "HTMLView",
            "description": "",
            "description_tooltip": null,
            "layout": "IPY_MODEL_3da576fee4e440ed8a4e8fa7a1472c07",
            "placeholder": "​",
            "style": "IPY_MODEL_5b6bc4ffa0bd4d26b8e20c7367f97d4b",
            "value": " 7/7 [00:40&lt;00:00,  4.61s/it]"
          }
        },
        "8e593fc20df64441b07d4c0545bc1a43": {
          "model_module": "@jupyter-widgets/base",
          "model_name": "LayoutModel",
          "model_module_version": "1.2.0",
          "state": {
            "_model_module": "@jupyter-widgets/base",
            "_model_module_version": "1.2.0",
            "_model_name": "LayoutModel",
            "_view_count": null,
            "_view_module": "@jupyter-widgets/base",
            "_view_module_version": "1.2.0",
            "_view_name": "LayoutView",
            "align_content": null,
            "align_items": null,
            "align_self": null,
            "border": null,
            "bottom": null,
            "display": null,
            "flex": null,
            "flex_flow": null,
            "grid_area": null,
            "grid_auto_columns": null,
            "grid_auto_flow": null,
            "grid_auto_rows": null,
            "grid_column": null,
            "grid_gap": null,
            "grid_row": null,
            "grid_template_areas": null,
            "grid_template_columns": null,
            "grid_template_rows": null,
            "height": null,
            "justify_content": null,
            "justify_items": null,
            "left": null,
            "margin": null,
            "max_height": null,
            "max_width": null,
            "min_height": null,
            "min_width": null,
            "object_fit": null,
            "object_position": null,
            "order": null,
            "overflow": null,
            "overflow_x": null,
            "overflow_y": null,
            "padding": null,
            "right": null,
            "top": null,
            "visibility": "hidden",
            "width": null
          }
        },
        "4c8ca53c67be40368efd175c07ef41a9": {
          "model_module": "@jupyter-widgets/base",
          "model_name": "LayoutModel",
          "model_module_version": "1.2.0",
          "state": {
            "_model_module": "@jupyter-widgets/base",
            "_model_module_version": "1.2.0",
            "_model_name": "LayoutModel",
            "_view_count": null,
            "_view_module": "@jupyter-widgets/base",
            "_view_module_version": "1.2.0",
            "_view_name": "LayoutView",
            "align_content": null,
            "align_items": null,
            "align_self": null,
            "border": null,
            "bottom": null,
            "display": null,
            "flex": null,
            "flex_flow": null,
            "grid_area": null,
            "grid_auto_columns": null,
            "grid_auto_flow": null,
            "grid_auto_rows": null,
            "grid_column": null,
            "grid_gap": null,
            "grid_row": null,
            "grid_template_areas": null,
            "grid_template_columns": null,
            "grid_template_rows": null,
            "height": null,
            "justify_content": null,
            "justify_items": null,
            "left": null,
            "margin": null,
            "max_height": null,
            "max_width": null,
            "min_height": null,
            "min_width": null,
            "object_fit": null,
            "object_position": null,
            "order": null,
            "overflow": null,
            "overflow_x": null,
            "overflow_y": null,
            "padding": null,
            "right": null,
            "top": null,
            "visibility": null,
            "width": null
          }
        },
        "3de1ea7b7fdb476ab4649fd5e4dabb8a": {
          "model_module": "@jupyter-widgets/controls",
          "model_name": "DescriptionStyleModel",
          "model_module_version": "1.5.0",
          "state": {
            "_model_module": "@jupyter-widgets/controls",
            "_model_module_version": "1.5.0",
            "_model_name": "DescriptionStyleModel",
            "_view_count": null,
            "_view_module": "@jupyter-widgets/base",
            "_view_module_version": "1.2.0",
            "_view_name": "StyleView",
            "description_width": ""
          }
        },
        "229b5a57c72b405ab338aa97021fcdf6": {
          "model_module": "@jupyter-widgets/base",
          "model_name": "LayoutModel",
          "model_module_version": "1.2.0",
          "state": {
            "_model_module": "@jupyter-widgets/base",
            "_model_module_version": "1.2.0",
            "_model_name": "LayoutModel",
            "_view_count": null,
            "_view_module": "@jupyter-widgets/base",
            "_view_module_version": "1.2.0",
            "_view_name": "LayoutView",
            "align_content": null,
            "align_items": null,
            "align_self": null,
            "border": null,
            "bottom": null,
            "display": null,
            "flex": null,
            "flex_flow": null,
            "grid_area": null,
            "grid_auto_columns": null,
            "grid_auto_flow": null,
            "grid_auto_rows": null,
            "grid_column": null,
            "grid_gap": null,
            "grid_row": null,
            "grid_template_areas": null,
            "grid_template_columns": null,
            "grid_template_rows": null,
            "height": null,
            "justify_content": null,
            "justify_items": null,
            "left": null,
            "margin": null,
            "max_height": null,
            "max_width": null,
            "min_height": null,
            "min_width": null,
            "object_fit": null,
            "object_position": null,
            "order": null,
            "overflow": null,
            "overflow_x": null,
            "overflow_y": null,
            "padding": null,
            "right": null,
            "top": null,
            "visibility": null,
            "width": null
          }
        },
        "36d12fa2af28417fa5264a48694c8774": {
          "model_module": "@jupyter-widgets/controls",
          "model_name": "ProgressStyleModel",
          "model_module_version": "1.5.0",
          "state": {
            "_model_module": "@jupyter-widgets/controls",
            "_model_module_version": "1.5.0",
            "_model_name": "ProgressStyleModel",
            "_view_count": null,
            "_view_module": "@jupyter-widgets/base",
            "_view_module_version": "1.2.0",
            "_view_name": "StyleView",
            "bar_color": null,
            "description_width": ""
          }
        },
        "3da576fee4e440ed8a4e8fa7a1472c07": {
          "model_module": "@jupyter-widgets/base",
          "model_name": "LayoutModel",
          "model_module_version": "1.2.0",
          "state": {
            "_model_module": "@jupyter-widgets/base",
            "_model_module_version": "1.2.0",
            "_model_name": "LayoutModel",
            "_view_count": null,
            "_view_module": "@jupyter-widgets/base",
            "_view_module_version": "1.2.0",
            "_view_name": "LayoutView",
            "align_content": null,
            "align_items": null,
            "align_self": null,
            "border": null,
            "bottom": null,
            "display": null,
            "flex": null,
            "flex_flow": null,
            "grid_area": null,
            "grid_auto_columns": null,
            "grid_auto_flow": null,
            "grid_auto_rows": null,
            "grid_column": null,
            "grid_gap": null,
            "grid_row": null,
            "grid_template_areas": null,
            "grid_template_columns": null,
            "grid_template_rows": null,
            "height": null,
            "justify_content": null,
            "justify_items": null,
            "left": null,
            "margin": null,
            "max_height": null,
            "max_width": null,
            "min_height": null,
            "min_width": null,
            "object_fit": null,
            "object_position": null,
            "order": null,
            "overflow": null,
            "overflow_x": null,
            "overflow_y": null,
            "padding": null,
            "right": null,
            "top": null,
            "visibility": null,
            "width": null
          }
        },
        "5b6bc4ffa0bd4d26b8e20c7367f97d4b": {
          "model_module": "@jupyter-widgets/controls",
          "model_name": "DescriptionStyleModel",
          "model_module_version": "1.5.0",
          "state": {
            "_model_module": "@jupyter-widgets/controls",
            "_model_module_version": "1.5.0",
            "_model_name": "DescriptionStyleModel",
            "_view_count": null,
            "_view_module": "@jupyter-widgets/base",
            "_view_module_version": "1.2.0",
            "_view_name": "StyleView",
            "description_width": ""
          }
        }
      }
    }
  },
  "nbformat": 4,
  "nbformat_minor": 2
}